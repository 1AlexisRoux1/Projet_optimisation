{
 "cells": [
  {
   "cell_type": "markdown",
   "metadata": {},
   "source": [
    "# Projet optimisation de la trajectoire d'un robot"
   ]
  },
  {
   "cell_type": "markdown",
   "metadata": {},
   "source": [
    "# Partie 1"
   ]
  },
  {
   "cell_type": "markdown",
   "metadata": {},
   "source": [
    "### Question 1"
   ]
  },
  {
   "cell_type": "markdown",
   "metadata": {},
   "source": [
    "Les inconnues du problème sont les poses $Pi$ de la trajectoire. On pose $P_{i}=(x_{i},y_{i},\\theta_{i})$ avec $x_i,y_i,\\theta_i$ définis pour $i$ allant de $0$ à $n$ par rapport à un repère fixe ayant pour origine $P_0 = (0,0,0)$.\n",
    "\n",
    "On cherche à les déterminer grâce aux relations d'odométrie et de fermeture de boucles qui elles sont connues.\n"
   ]
  },
  {
   "cell_type": "markdown",
   "metadata": {},
   "source": [
    "### Question 2"
   ]
  },
  {
   "cell_type": "markdown",
   "metadata": {},
   "source": [
    "Chaque relation d'odométrie est donnée relativement à la pose précédente. \n",
    "On a donc les relations suivantes pour l'odométrie : \n",
    "\n",
    "$$\n",
    "\\left\\{\n",
    "    \\begin{array}{ll}\n",
    "        x_{i+1} = x_i + dx_i\\cos{\\theta_i}- dy_i\\sin{}\\theta_i = f_{x}(x_{i},dx_{i},dy_{i},\\theta_{i})\\\\\n",
    "        y_{i+1} = y_i + dx_i\\sin{\\theta_i}+ dy_i\\cos{}\\theta_i = f_{y}(y_{i},dx_{i},dy_{i},\\theta_{i})\\\\\n",
    "        \\theta_{i+1} = \\theta_i + d\\theta_i = f_{\\theta}(\\theta_{i},d\\theta_{i})\n",
    "    \\end{array}\n",
    "\\right.\n",
    "$$\n",
    "\n",
    "Et on adapte pour les relations de fermetures de boucle en remplaçant $i+1$ par $j$ avec $j$ l'indice de la fermeture de boucle. "
   ]
  },
  {
   "cell_type": "markdown",
   "metadata": {},
   "source": [
    "### Question 3"
   ]
  },
  {
   "cell_type": "markdown",
   "metadata": {},
   "source": [
    "On veut ici déterminer quelle fonction minimiser afin de vérifier au mieux les données d'odométrie et de fermetures de boucles. On va d'abord introduire plusieurs notations."
   ]
  },
  {
   "cell_type": "markdown",
   "metadata": {},
   "source": [
    "On va travailler ici avec des fonctions $f_{x}, f_{y} et f_{\\theta}$ définies respectivement par les relations données en question 2 s'appliquant sur les variables $x_{i}, y_{i}$ et $\\theta_{i}$. De plus, les éléments que nous appelerons $dx_{i},dy_{i}$ et $d\\theta_{i}$ ainsi que $dx'_{i},dy'_{i}$ et $d\\theta'_{i}$ dans la suite correspondent respectivement aux valeurs d'odométrie et de fermeture de boucles mesurées par le robot lors de son parcours, et sont donc connues et fixées."
   ]
  },
  {
   "cell_type": "markdown",
   "metadata": {},
   "source": [
    "Ce faisant, on note $P_{i}=(x_{i},y_{i},\\theta_{i})$ un triplet de $R^{3}$ et M le vecteur de dimension 3n définit par $M=(P_{i})_{1 \\leqslant i \\leqslant n}$. \n",
    "\n",
    "Si M est un minimum de notre fonction, on veut que chacun des $p_{i}$ vérifie au mieux les relations d'odométrie et de fermetures de boucles, c'est-à-dire:\n",
    "\n",
    "1) $\\forall i \\in {1,...,n}$,\n",
    "$x_{i+1}\\approx f_{x}(x_{i},dx_{i},dy_{i},\\theta_{i})$,\n",
    "$y_{i+1}\\approx f_{y}(y_{i},dx_{i},dy_{i},\\theta_{i})$,\n",
    "$\\theta_{i+1}\\approx f_{\\theta}(\\theta_{i},d\\theta_{i})$."
   ]
  },
  {
   "cell_type": "markdown",
   "metadata": {},
   "source": [
    "2) Si l'on note B l'ensemble des couples (j,i) correspondant à des fermetures de boucles détectées par le robot, on veut également vérifier: $x_{j}\\approx f_{x}(x_{i},dx'_{i},dy'_{i},\\theta_{i})$, \n",
    "$y_{j}\\approx f_{y}(y_{i},dx'_{i},dy'_{i},\\theta_{i})$ et\n",
    "$\\theta_{j}\\approx f_{\\theta}(\\theta_{i},d\\theta'_{i})$."
   ]
  },
  {
   "cell_type": "markdown",
   "metadata": {},
   "source": [
    "Plus concrètement, ces approximations se traduisent par le fait que les quantités $\\left|x_{i+1}- f_{x}(x_{i},dx_{i},dy_{i},\\theta_{i}) \\right|^{2}$ soient le plus petites possibles, de même en remplaçant les $x$ par les $y$ et les $\\theta$, et de même pour les relations de fermeture de boucle."
   ]
  },
  {
   "cell_type": "markdown",
   "metadata": {},
   "source": [
    "Comme on veut que cela soit vrai pour toutes ces relations, et que celles-ci sont interdépendantes, cela revient à minimiser la fonction de $R^{3n}$ suivante:"
   ]
  },
  {
   "cell_type": "markdown",
   "metadata": {},
   "source": [
    " $M \\in R^{3n} \\rightarrow \\sum_{i=1}^{n} \\left\\|P_{i+1} - F(P_{i},dx_{i},dy_{i},d\\theta_{i}) \\right\\|^{2} + \\sum_{(j,i) \\in B} \\left\\|P_{j} - F(P_{i},dx'_{i},dy'_{i},d\\theta'_{i}) \\right\\|^{2}$ "
   ]
  },
  {
   "cell_type": "markdown",
   "metadata": {},
   "source": [
    "où les $P_{i}$ ont été définis ci-dessus comme les triplets composants de M et où $F(P_{i},dx_{i},dy_{i},d\\theta_{i})=(f_{x}(x_{i},dx_{i},dy_{i},\\theta_{i}),f_{y}(y_{i},dx_{i},dy_{i},\\theta_{i}),f_{\\theta}(\\theta_{i},d\\theta_{i}))$. "
   ]
  },
  {
   "cell_type": "markdown",
   "metadata": {},
   "source": [
    "# Partie 2"
   ]
  },
  {
   "cell_type": "code",
   "execution_count": 2,
   "metadata": {},
   "outputs": [],
   "source": [
    "import time\n",
    "import matplotlib.pyplot as plt\n",
    "import autograd.numpy as np\n",
    "import autograd\n",
    "import copy\n",
    "import scipy.optimize\n",
    "from math import cos, sin, pi, sqrt"
   ]
  },
  {
   "cell_type": "markdown",
   "metadata": {},
   "source": [
    "### Question 1"
   ]
  },
  {
   "cell_type": "code",
   "execution_count": 11,
   "metadata": {},
   "outputs": [
    {
     "data": {
      "text/plain": [
       "array([[array(19.), array(166.),\n",
       "        array([-2.459689,  0.241111,  0.2528  ])],\n",
       "       [array(19.), array(172.), array([1.067903, 0.915786, 0.14947 ])],\n",
       "       [array(25.), array(172.),\n",
       "        array([-2.539634,  0.85263 , -0.02986 ])],\n",
       "       [array(25.), array(178.),\n",
       "        array([ 1.225223,  0.672079, -0.10248 ])],\n",
       "       [array(32.), array(178.),\n",
       "        array([-2.020007, -0.239771,  0.71518 ])],\n",
       "       [array(32.), array(183.),\n",
       "        array([-0.092559,  0.424181,  0.0416  ])],\n",
       "       [array(44.), array(189.),\n",
       "        array([-2.265706, -0.570857,  0.19772 ])],\n",
       "       [array(44.), array(195.),\n",
       "        array([ 1.302289, -0.133004, -0.00528 ])],\n",
       "       [array(50.), array(195.),\n",
       "        array([-2.374379, -0.253682,  0.21612 ])],\n",
       "       [array(50.), array(201.),\n",
       "        array([ 1.291572,  0.086248, -0.0507  ])],\n",
       "       [array(50.), array(203.),\n",
       "        array([ 2.550695,  0.035722, -0.08465 ])],\n",
       "       [array(61.), array(203.),\n",
       "        array([-2.852494,  0.122053,  0.07787 ])],\n",
       "       [array(61.), array(209.), array([0.73078, 0.07297, 0.00889])],\n",
       "       [array(67.), array(209.),\n",
       "        array([-2.822142,  0.138051, -0.00446 ])],\n",
       "       [array(67.), array(220.),\n",
       "        array([ 0.783704, -1.176736, -1.4129  ])],\n",
       "       [array(81.), array(220.),\n",
       "        array([-0.868391, -0.009825, -0.04688 ])],\n",
       "       [array(81.), array(226.), array([2.836453, 0.058719, 0.04915 ])],\n",
       "       [array(87.), array(226.),\n",
       "        array([-0.45964 ,  0.184679,  0.34383 ])],\n",
       "       [array(87.), array(231.), array([1.060624, 0.863823, 0.29401 ])],\n",
       "       [array(94.), array(231.),\n",
       "        array([-2.231597,  0.316386,  0.18025 ])],\n",
       "       [array(94.), array(241.), array([2.816677, 0.483252, 0.0414  ])],\n",
       "       [array(101.), array(241.),\n",
       "        array([-1.436886,  0.314097, -0.09887 ])],\n",
       "       [array(101.), array(247.),\n",
       "        array([ 2.168416,  0.280309, -0.00387 ])],\n",
       "       [array(107.), array(247.),\n",
       "        array([-1.536762,  0.375104,  0.05105 ])],\n",
       "       [array(107.), array(254.),\n",
       "        array([ 0.592787, -1.020976, -0.778   ])],\n",
       "       [array(107.), array(256.),\n",
       "        array([ 0.707309, -1.207974, -1.16374 ])],\n",
       "       [array(107.), array(258.),\n",
       "        array([ 0.976528, -2.202656, -1.22773 ])],\n",
       "       [array(114.), array(254.),\n",
       "        array([-0.931502, -0.024068,  0.56758 ])],\n",
       "       [array(114.), array(256.),\n",
       "        array([-0.723652,  0.045801,  0.18184 ])],\n",
       "       [array(114.), array(258.), array([0.306031, 0.086093, 0.11785 ])],\n",
       "       [array(121.), array(266.), array([ 0.73719, -0.0172 , -0.11824])],\n",
       "       [array(126.), array(266.),\n",
       "        array([-1.480397,  0.199141,  0.06286 ])],\n",
       "       [array(126.), array(272.), array([2.350796, 0.151313, 0.02506 ])],\n",
       "       [array(132.), array(272.),\n",
       "        array([-1.37599 ,  0.193564, -0.06956 ])],\n",
       "       [array(132.), array(278.),\n",
       "        array([ 2.220707e+00,  3.198820e-01, -5.000000e-04])],\n",
       "       [array(138.), array(278.),\n",
       "        array([-1.378019,  0.626427,  0.01699 ])],\n",
       "       [array(138.), array(284.),\n",
       "        array([ 2.391863,  0.324204, -0.075755])],\n",
       "       [array(151.), array(284.),\n",
       "        array([-2.650853, -0.975732,  1.45455 ])],\n",
       "       [array(151.), array(291.),\n",
       "        array([-1.4985  ,  0.364159,  0.02179 ])],\n",
       "       [array(151.), array(297.),\n",
       "        array([ 2.217429, -0.068852, -0.22346 ])],\n",
       "       [array(19.), array(305.),\n",
       "        array([-1.044094,  0.006772,  0.28908 ])],\n",
       "       [array(19.), array(315.), array([1.796874, 2.231292, 1.91767 ])],\n",
       "       [array(19.), array(337.), array([1.676359, 1.138847, 2.36996 ])],\n",
       "       [array(19.), array(342.),\n",
       "        array([ 2.451034,  1.014379, -0.10619 ])],\n",
       "       [array(19.), array(1016.),\n",
       "        array([ 0.039741,  0.37438 , -2.852145])],\n",
       "       [array(25.), array(315.),\n",
       "        array([-1.587705,  2.017012,  1.73834 ])],\n",
       "       [array(25.), array(337.),\n",
       "        array([-1.901147,  0.963583,  2.19063 ])],\n",
       "       [array(25.), array(342.),\n",
       "        array([-1.161097,  0.702932, -0.28552 ])],\n",
       "       [array(25.), array(367.), array([ 0.87843, -0.15997,  0.91002])],\n",
       "       [array(25.), array(374.),\n",
       "        array([ 2.84092 , -0.557124, -0.60161 ])],\n",
       "       [array(25.), array(1008.), array([0.839778, 0.868849, 2.614245])],\n",
       "       [array(25.), array(1010.),\n",
       "        array([ 0.208016,  0.81749 , -3.07807 ])],\n",
       "       [array(32.), array(367.),\n",
       "        array([-1.65017 , -1.061836,  1.72768 ])],\n",
       "       [array(32.), array(374.),\n",
       "        array([-0.018221,  0.098268,  0.21605 ])],\n",
       "       [array(32.), array(382.), array([0.235335, 2.451229, 2.82151 ])],\n",
       "       [array(32.), array(387.), array([0.993162, 2.566664, 0.274705])],\n",
       "       [array(32.), array(1003.),\n",
       "        array([ 0.362306, -0.196467,  3.066965])],\n",
       "       [array(32.), array(1008.),\n",
       "        array([-2.427177, -0.386394, -2.85128 ])],\n",
       "       [array(32.), array(1010.), array([-2.82179, -0.88242, -2.26041])],\n",
       "       [array(44.), array(437.), array([ 0.69665, -2.77105, -0.20546])],\n",
       "       [array(44.), array(454.),\n",
       "        array([-1.152851, -1.893499,  1.516715])],\n",
       "       [array(44.), array(467.), array([1.218289, 1.232598, 1.11314 ])],\n",
       "       [array(44.), array(494.),\n",
       "        array([ 2.154809, -0.649767, -0.30653 ])],\n",
       "       [array(44.), array(988.),\n",
       "        array([ 2.712903, -0.996652,  3.0471  ])],\n",
       "       [array(44.), array(994.),\n",
       "        array([-0.892482, -0.642947,  3.093485])],\n",
       "       [array(50.), array(467.),\n",
       "        array([-2.75621 ,  1.060141,  1.33454 ])],\n",
       "       [array(50.), array(494.),\n",
       "        array([-1.42919 , -0.570621, -0.08513 ])],\n",
       "       [array(50.), array(500.),\n",
       "        array([ 2.26834 , -0.490379,  0.26364 ])],\n",
       "       [array(50.), array(982.),\n",
       "        array([ 2.823043, -0.459737, -3.096925])],\n",
       "       [array(50.), array(988.),\n",
       "        array([-0.808543, -0.786485, -3.014685])],\n",
       "       [array(61.), array(508.),\n",
       "        array([-1.4492  ,  2.112314,  1.47767 ])],\n",
       "       [array(61.), array(522.),\n",
       "        array([-1.053664, -0.045704,  0.099   ])],\n",
       "       [array(61.), array(528.),\n",
       "        array([ 2.466833,  0.101003, -0.08824 ])],\n",
       "       [array(61.), array(976.),\n",
       "        array([ 1.165811, -0.076649, -3.05444 ])],\n",
       "       [array(61.), array(982.),\n",
       "        array([-2.503567, -0.32281 , -2.934405])],\n",
       "       [array(67.), array(528.),\n",
       "        array([-1.085869,  0.142906, -0.10159 ])],\n",
       "       [array(67.), array(532.), array([ 1.03848, -0.18454, -0.18727])],\n",
       "       [array(67.), array(556.),\n",
       "        array([ 0.87596 ,  2.072499, -1.60875 ])],\n",
       "       [array(67.), array(564.),\n",
       "        array([ 0.93453 , -0.521388, -1.42509 ])],\n",
       "       [array(67.), array(567.),\n",
       "        array([ 1.07864 , -1.127738,  0.06864 ])],\n",
       "       [array(67.), array(570.),\n",
       "        array([ 2.695842, -0.809094,  0.12996 ])],\n",
       "       [array(67.), array(965.),\n",
       "        array([ 0.918287, -0.079133,  1.69211 ])],\n",
       "       [array(67.), array(976.),\n",
       "        array([-2.389147, -0.017363, -3.06779 ])],\n",
       "       [array(81.), array(528.),\n",
       "        array([-2.540636, -1.571989,  1.26443 ])],\n",
       "       [array(81.), array(532.),\n",
       "        array([-1.788049,  0.44139 ,  1.17875 ])],\n",
       "       [array(81.), array(564.),\n",
       "        array([-1.479377,  0.271115, -0.05907 ])],\n",
       "       [array(81.), array(567.),\n",
       "        array([-0.856391,  0.288913,  1.43466 ])],\n",
       "       [array(81.), array(570.),\n",
       "        array([-0.839522,  1.937122,  1.49598 ])],\n",
       "       [array(81.), array(575.),\n",
       "        array([-0.874481,  2.499055, -2.998155])],\n",
       "       [array(81.), array(588.), array([ 2.58541, -0.39859,  0.03299])],\n",
       "       [array(81.), array(959.),\n",
       "        array([ 1.715988, -0.147087,  2.880085])],\n",
       "       [array(81.), array(965.),\n",
       "        array([-1.915695,  0.345142,  3.05813 ])],\n",
       "       [array(87.), array(588.),\n",
       "        array([-0.567044, -0.325829,  0.32767 ])],\n",
       "       [array(87.), array(597.), array([1.033167, 2.497995, 1.74759 ])],\n",
       "       [array(87.), array(604.),\n",
       "        array([ 1.169979,  2.733059, -1.27963 ])],\n",
       "       [array(87.), array(953.),\n",
       "        array([ 1.577352,  0.448961, -2.82305 ])],\n",
       "       [array(87.), array(959.),\n",
       "        array([-1.472035, -0.337676, -3.10842 ])],\n",
       "       [array(94.), array(597.),\n",
       "        array([-2.073375,  1.943112,  1.63383 ])],\n",
       "       [array(94.), array(604.),\n",
       "        array([-1.910764,  2.161126, -1.39339 ])],\n",
       "       [array(94.), array(616.),\n",
       "        array([-0.567925,  0.985809,  1.72827 ])],\n",
       "       [array(94.), array(632.),\n",
       "        array([-0.25823 , -0.057031, -0.96101 ])],\n",
       "       [array(94.), array(637.), array([2.180403, 0.487495, 0.04818 ])],\n",
       "       [array(94.), array(947.),\n",
       "        array([ 1.819562,  0.355845, -2.812985])],\n",
       "       [array(94.), array(953.),\n",
       "        array([-1.765303, -0.154451, -2.93681 ])],\n",
       "       [array(101.), array(637.),\n",
       "        array([-2.066317,  0.407256, -0.09209 ])],\n",
       "       [array(101.), array(642.), array([ 0.70254,  0.05899, -0.15806])],\n",
       "       [array(101.), array(645.), array([1.268565, 0.117224, 1.302975])],\n",
       "       [array(101.), array(657.),\n",
       "        array([ 0.970735,  1.275733, -1.200065])],\n",
       "       [array(101.), array(663.), array([2.721944, 0.234701, 0.154665])],\n",
       "       [array(101.), array(665.), array([2.743644, 0.343689, 1.4844  ])],\n",
       "       [array(101.), array(939.),\n",
       "        array([ 1.736598,  0.040097, -3.13977 ])],\n",
       "       [array(101.), array(944.),\n",
       "        array([-1.229619,  0.290529,  3.03468 ])],\n",
       "       [array(101.), array(947.),\n",
       "        array([-2.44202 ,  0.327348, -2.953255])],\n",
       "       [array(101.), array(1138.), array([-0.04498, -2.12809,  1.40634])],\n",
       "       [array(101.), array(1188.),\n",
       "        array([ 1.043367, -1.716987,  3.078145])],\n",
       "       [array(107.), array(642.),\n",
       "        array([-2.988279,  0.073654, -0.10314 ])],\n",
       "       [array(107.), array(645.),\n",
       "        array([-2.426303,  0.162871,  1.357895])],\n",
       "       [array(107.), array(663.),\n",
       "        array([-0.981564,  0.35995 ,  0.209585])],\n",
       "       [array(107.), array(665.),\n",
       "        array([-0.96588 ,  0.469964,  1.53932 ])],\n",
       "       [array(107.), array(680.),\n",
       "        array([-1.101202,  1.597727, -1.08272 ])],\n",
       "       [array(107.), array(683.),\n",
       "        array([-0.373238,  0.237253, -0.97867 ])],\n",
       "       [array(107.), array(704.),\n",
       "        array([-0.174419, -0.744617, -2.36496 ])],\n",
       "       [array(107.), array(714.),\n",
       "        array([-0.001585, -1.518738,  0.04075 ])],\n",
       "       [array(107.), array(730.),\n",
       "        array([ 1.719547, -1.998733, -2.849795])],\n",
       "       [array(107.), array(929.),\n",
       "        array([ 0.4823  , -2.592003,  1.96035 ])],\n",
       "       [array(107.), array(935.),\n",
       "        array([-0.294578,  0.372182,  2.191385])],\n",
       "       [array(107.), array(939.),\n",
       "        array([-1.954743,  0.111552, -3.08485 ])],\n",
       "       [array(107.), array(1147.),\n",
       "        array([-0.324254, -1.481983,  0.14015 ])],\n",
       "       [array(107.), array(1150.),\n",
       "        array([ 0.364219, -1.279939,  1.435915])],\n",
       "       [array(114.), array(663.),\n",
       "        array([-2.629135, -1.250276,  1.555165])],\n",
       "       [array(114.), array(665.),\n",
       "        array([-2.732868, -1.21042 ,  2.8849  ])],\n",
       "       [array(114.), array(683.),\n",
       "        array([-2.373686, -0.684712,  0.36691 ])],\n",
       "       [array(114.), array(704.),\n",
       "        array([-1.372213, -0.710183, -1.01938 ])],\n",
       "       [array(114.), array(714.),\n",
       "        array([-0.579045, -0.714588,  1.38633 ])],\n",
       "       [array(114.), array(730.),\n",
       "        array([ 0.273187,  0.855886, -1.504215])],\n",
       "       [array(114.), array(929.),\n",
       "        array([ 0.575175, -0.482602, -2.977255])],\n",
       "       [array(114.), array(935.),\n",
       "        array([-2.487642, -0.577907, -2.74622 ])],\n",
       "       [array(114.), array(1147.),\n",
       "        array([-0.686929, -1.020901,  1.48573 ])],\n",
       "       [array(114.), array(1150.),\n",
       "        array([-0.730123, -0.304695,  2.781495])],\n",
       "       [array(114.), array(1158.),\n",
       "        array([ 1.96507 , -0.055808,  0.08396 ])],\n",
       "       [array(114.), array(1175.),\n",
       "        array([ 2.570804, -0.255481,  2.91302 ])],\n",
       "       [array(121.), array(754.),\n",
       "        array([-0.176774, -0.090674, -0.10416 ])],\n",
       "       [array(121.), array(759.),\n",
       "        array([ 2.795658, -0.372882, -0.04799 ])],\n",
       "       [array(121.), array(923.),\n",
       "        array([-0.35994 , -0.158411,  2.81678 ])],\n",
       "       [array(121.), array(1158.),\n",
       "        array([-1.765259,  0.015433,  0.09439 ])],\n",
       "       [array(121.), array(1164.),\n",
       "        array([ 1.939145, -0.416391, -0.07191 ])],\n",
       "       [array(121.), array(1175.),\n",
       "        array([-1.157476, -0.177912,  2.92345 ])],\n",
       "       [array(126.), array(754.),\n",
       "        array([-2.366181, -0.037747,  0.07694 ])],\n",
       "       [array(126.), array(759.), array([0.60847, 0.22003, 0.13311])],\n",
       "       [array(126.), array(762.), array([1.256487, 0.430359, 1.24809 ])],\n",
       "       [array(126.), array(923.),\n",
       "        array([-2.534151, -0.137367,  2.99788 ])],\n",
       "       [array(126.), array(1164.),\n",
       "        array([-0.2262  ,  0.022965,  0.10919 ])],\n",
       "       [array(132.), array(762.),\n",
       "        array([-2.43904 ,  0.574751,  1.15347 ])],\n",
       "       [array(132.), array(778.),\n",
       "        array([-1.013501,  1.621706,  1.56121 ])],\n",
       "       [array(132.), array(792.),\n",
       "        array([-0.882133,  1.768911, -1.79792 ])],\n",
       "       [array(132.), array(800.), array([1.214689, 0.372313, 0.0059  ])],\n",
       "       [array(132.), array(907.),\n",
       "        array([ 2.246094, -0.166035, -3.06389 ])],\n",
       "       [array(132.), array(911.),\n",
       "        array([ 0.28743 , -0.091199,  2.898905])],\n",
       "       [array(132.), array(1084.),\n",
       "        array([-0.744736, -2.350749, -1.849821])],\n",
       "       [array(138.), array(800.),\n",
       "        array([-2.384799,  0.661256,  0.02339 ])],\n",
       "       [array(138.), array(806.), array([1.314158, 0.976356, 0.186155])],\n",
       "       [array(138.), array(821.),\n",
       "        array([ 1.339602,  0.836157, -1.72864 ])],\n",
       "       [array(138.), array(823.),\n",
       "        array([ 1.391787,  0.830084, -0.20168 ])],\n",
       "       [array(138.), array(903.), array([0.257877, 0.385262, 2.46846 ])],\n",
       "       [array(138.), array(904.), array([0.21146 , 0.361905, 2.91854 ])],\n",
       "       [array(138.), array(907.),\n",
       "        array([-1.344137,  0.141028, -3.0464  ])],\n",
       "       [array(151.), array(828.),\n",
       "        array([-2.783661,  1.064375,  1.52977 ])],\n",
       "       [array(151.), array(847.),\n",
       "        array([-2.892269,  0.357584, -1.72055 ])],\n",
       "       [array(151.), array(855.),\n",
       "        array([ 0.421564, -0.036975, -0.07298 ])],\n",
       "       [array(151.), array(895.),\n",
       "        array([-0.308314,  0.072387, -2.94072 ])],\n",
       "       [array(151.), array(897.),\n",
       "        array([-0.653297, -0.34078 , -2.14582 ])],\n",
       "       [array(151.), array(1029.),\n",
       "        array([ 2.658346, -1.322835, -1.61216 ])],\n",
       "       [array(157.), array(297.),\n",
       "        array([-1.431635, -0.047784, -0.1921  ])],\n",
       "       [array(157.), array(305.),\n",
       "        array([ 2.323872, -0.569035,  0.02611 ])],\n",
       "       [array(157.), array(1029.),\n",
       "        array([-0.951615, -1.287326, -1.5808  ])],\n",
       "       [array(157.), array(1217.),\n",
       "        array([-0.999593, -2.295582,  1.58812 ])],\n",
       "       [array(163.), array(297.),\n",
       "        array([-0.152489, -1.643361,  1.29416 ])],\n",
       "       [array(163.), array(305.), array([0.683999, 2.054722, 1.51237 ])],\n",
       "       [array(163.), array(1029.),\n",
       "        array([ 1.123157, -1.269718, -0.09454 ])],\n",
       "       [array(163.), array(1217.),\n",
       "        array([ 2.123761, -1.402656,  3.07438 ])],\n",
       "       [array(166.), array(297.),\n",
       "        array([-2.448623, -0.097923, -0.18193 ])],\n",
       "       [array(166.), array(305.),\n",
       "        array([ 1.31199 , -0.580954,  0.03628 ])],\n",
       "       [array(166.), array(1016.),\n",
       "        array([ 2.45332 , -0.496114, -3.104945])],\n",
       "       [array(166.), array(1029.),\n",
       "        array([-1.956023, -1.33252 , -1.57063 ])],\n",
       "       [array(172.), array(305.),\n",
       "        array([-2.223813, -0.584373,  0.13961 ])],\n",
       "       [array(172.), array(315.), array([0.916741, 1.192284, 1.7682  ])],\n",
       "       [array(172.), array(328.),\n",
       "        array([ 0.389353,  2.701274, -1.41888 ])],\n",
       "       [array(172.), array(337.), array([0.634889, 0.129966, 2.22049 ])],\n",
       "       [array(172.), array(342.),\n",
       "        array([ 1.382392, -0.108475, -0.25566 ])],\n",
       "       [array(172.), array(1010.),\n",
       "        array([ 2.747473,  0.046909, -3.04821 ])],\n",
       "       [array(172.), array(1016.),\n",
       "        array([-1.097321, -0.382262, -3.001615])],\n",
       "       [array(178.), array(342.),\n",
       "        array([-2.376956, -0.213431, -0.18304 ])],\n",
       "       [array(178.), array(367.),\n",
       "        array([-0.259854, -0.86316 ,  1.0125  ])],\n",
       "       [array(178.), array(374.),\n",
       "        array([ 1.732968, -1.057467, -0.49913 ])],\n",
       "       [array(178.), array(1003.),\n",
       "        array([ 1.826983, -1.529516,  2.351785])],\n",
       "       [array(178.), array(1008.),\n",
       "        array([-0.403552,  0.156306,  2.716725])],\n",
       "       [array(178.), array(1010.),\n",
       "        array([-1.026746,  0.040588, -2.97559 ])],\n",
       "       [array(183.), array(367.),\n",
       "        array([-1.618063, -1.419954,  1.68608 ])],\n",
       "       [array(183.), array(374.),\n",
       "        array([ 0.06072 , -0.328723,  0.17445 ])],\n",
       "       [array(183.), array(382.), array([0.411911, 2.011657, 2.77991 ])],\n",
       "       [array(183.), array(387.), array([1.173883, 2.095476, 0.233105])],\n",
       "       [array(183.), array(1003.),\n",
       "        array([ 0.42866 , -0.639029,  3.025365])],\n",
       "       [array(183.), array(1008.),\n",
       "        array([-2.366308, -0.712782, -2.89288 ])],\n",
       "       [array(189.), array(400.),\n",
       "        array([-1.948699,  2.200613, -1.11637 ])],\n",
       "       [array(189.), array(414.),\n",
       "        array([-0.254807, -1.783532, -1.50836 ])],\n",
       "       [array(189.), array(454.),\n",
       "        array([ 0.83136 , -1.515476,  1.318995])],\n",
       "       [array(189.), array(994.),\n",
       "        array([ 1.332308, -0.340434,  2.895765])],\n",
       "       [array(195.), array(437.),\n",
       "        array([-0.591701, -2.641206, -0.20018 ])],\n",
       "       [array(195.), array(467.), array([-0.09121,  1.36514,  1.11842])],\n",
       "       [array(195.), array(484.),\n",
       "        array([ 0.655807,  2.573505, -2.00924 ])],\n",
       "       [array(195.), array(494.),\n",
       "        array([ 0.855236, -0.512254, -0.30125 ])],\n",
       "       [array(195.), array(988.),\n",
       "        array([ 1.415155, -0.856188,  3.05238 ])],\n",
       "       [array(195.), array(994.),\n",
       "        array([-2.192048, -0.521524,  3.098765])],\n",
       "       [array(201.), array(494.),\n",
       "        array([-2.683977, -0.793909, -0.03443 ])],\n",
       "       [array(201.), array(500.),\n",
       "        array([ 1.004735, -0.526385,  0.31434 ])],\n",
       "       [array(201.), array(982.),\n",
       "        array([ 1.557172, -0.467671, -3.046225])],\n",
       "       [array(201.), array(988.),\n",
       "        array([-2.053188, -0.978041, -2.963985])],\n",
       "       [array(203.), array(500.),\n",
       "        array([-0.236863, -0.54809 ,  0.34829 ])],\n",
       "       [array(203.), array(508.), array([1.553867, 1.875066, 1.3998  ])],\n",
       "       [array(203.), array(522.),\n",
       "        array([ 1.780329, -0.307182,  0.02113 ])],\n",
       "       [array(203.), array(982.),\n",
       "        array([ 0.313263, -0.470658, -3.012275])],\n",
       "       [array(209.), array(508.),\n",
       "        array([-2.161765,  2.058644,  1.46878 ])],\n",
       "       [array(209.), array(522.),\n",
       "        array([-1.785428, -0.102806,  0.09011 ])],\n",
       "       [array(209.), array(528.),\n",
       "        array([ 1.736233,  0.012599, -0.09713 ])],\n",
       "       [array(209.), array(976.),\n",
       "        array([ 0.433683, -0.153481, -3.06333 ])],\n",
       "       [array(220.), array(528.),\n",
       "        array([-1.597199, -1.638814,  1.31131 ])],\n",
       "       [array(220.), array(532.),\n",
       "        array([-0.939792,  0.407621,  1.22563 ])],\n",
       "       [array(220.), array(564.),\n",
       "        array([-0.62348 ,  0.251998, -0.01219 ])],\n",
       "       [array(220.), array(567.),\n",
       "        array([-0.002013,  0.298972,  1.48154 ])],\n",
       "       [array(220.), array(570.),\n",
       "        array([-0.062402,  1.94616 ,  1.54286 ])],\n",
       "       [array(220.), array(575.),\n",
       "        array([-0.123656,  2.505837, -2.951275])],\n",
       "       [array(220.), array(959.),\n",
       "        array([ 2.587973, -0.016   ,  2.926965])],\n",
       "       [array(220.), array(965.),\n",
       "        array([-1.062787,  0.305497,  3.10501 ])],\n",
       "       [array(226.), array(231.),\n",
       "        array([ 1.660221,  0.12692 , -0.04982 ])],\n",
       "       [array(226.), array(588.),\n",
       "        array([-0.273207, -0.444423, -0.01616 ])],\n",
       "       [array(226.), array(597.), array([2.185242, 1.6747  , 1.40376 ])],\n",
       "       [array(226.), array(953.),\n",
       "        array([ 2.006857, -0.437847,  3.116305])],\n",
       "       [array(226.), array(959.),\n",
       "        array([-1.129223, -0.150509,  2.830935])],\n",
       "       [array(923.), array(1175.), array([0.74961, 0.273  , 0.10667])],\n",
       "       [array(929.), array(1175.),\n",
       "        array([-2.005899,  0.102421, -0.39291 ])],\n",
       "       [array(939.), array(1188.),\n",
       "        array([ 0.696432,  1.755817, -0.06527 ])],\n",
       "       [array(1029.), array(1217.),\n",
       "        array([ 1.008685, -0.037889, -3.114265])],\n",
       "       [array(1044.), array(1217.),\n",
       "        array([ 2.098504, -0.83843 ,  0.47989 ])],\n",
       "       [array(1050.), array(1210.),\n",
       "        array([-0.300235, -2.565672,  1.53656 ])],\n",
       "       [array(1050.), array(1217.),\n",
       "        array([0.231465, 1.66829 , 1.55914 ])],\n",
       "       [array(1056.), array(1217.),\n",
       "        array([ 2.128743, -0.472375, -0.93116 ])],\n",
       "       [array(1061.), array(1210.),\n",
       "        array([ 1.269232, -1.441319, -2.90961 ])],\n",
       "       [array(1075.), array(1210.),\n",
       "        array([-1.662329,  0.436026, -1.59984 ])],\n",
       "       [array(1084.), array(1210.),\n",
       "        array([2.070374, 1.896269, 1.836205])],\n",
       "       [array(1088.), array(1210.),\n",
       "        array([ 0.609503, -1.485166,  0.53677 ])],\n",
       "       [array(1093.), array(1210.),\n",
       "        array([-0.233452, -0.529583,  1.49436 ])],\n",
       "       [array(1098.), array(1210.),\n",
       "        array([-0.37828 , -0.172442, -2.937025])],\n",
       "       [array(1138.), array(1188.),\n",
       "        array([ 0.583736, -1.006358,  1.671805])],\n",
       "       [array(1147.), array(1188.),\n",
       "        array([-2.232188,  0.113982,  2.992915])],\n",
       "       [array(1150.), array(1188.),\n",
       "        array([-0.789302,  2.834301,  1.69715 ])],\n",
       "       [array(1158.), array(1175.),\n",
       "        array([ 0.586855, -0.249767,  2.82906 ])]], dtype=object)"
      ]
     },
     "execution_count": 11,
     "metadata": {},
     "output_type": "execute_result"
    }
   ],
   "source": [
    "donnees_odo = []\n",
    "donnees_loop = []\n",
    "\n",
    "def recup_donnees(fichier):\n",
    "    with open(fichier, 'r') as intel:\n",
    "        for ligne in intel:\n",
    "            l = ligne.split()\n",
    "            for i in range(1,len(l)):\n",
    "                l[i]=float(l[i])\n",
    "            if l[0]==\"EDGE_ODO\":\n",
    "                donnees_odo.append(l[1:3]+[l[3:]])\n",
    "            else:\n",
    "                donnees_loop.append(l[1:3]+[l[3:]])\n",
    "                \n",
    "recup_donnees(\"INTEL.txt\")\n",
    "np.array(donnees_loop)\n"
   ]
  },
  {
   "cell_type": "markdown",
   "metadata": {},
   "source": [
    "### Question 2"
   ]
  },
  {
   "cell_type": "code",
   "execution_count": 12,
   "metadata": {
    "scrolled": false
   },
   "outputs": [
    {
     "data": {
      "image/png": "[encoded data removed]",
      "text/plain": [
       "<matplotlib.figure.Figure at 0x272149e46d8>"
      ]
     },
     "metadata": {},
     "output_type": "display_data"
    }
   ],
   "source": [
    "def estim_trajectoire(odometrie):\n",
    "    liste_x = [0]\n",
    "    liste_y = [0]\n",
    "    liste_theta = [0]\n",
    "    for i in range(len(odometrie)):\n",
    "        p_i = np.array([liste_x[-1], liste_y[-1], liste_theta[-1]])\n",
    "        di = np.array(odometrie[i][2])\n",
    "        rot = np.array([[cos(p_i[2]), -sin(p_i[2]), 0], [sin(p_i[2]),cos(p_i[2]), 0], [0, 0, 1]])\n",
    "        p_i = p_i + np.dot(rot, di)\n",
    "        liste_x.append(p_i[0])\n",
    "        liste_y.append(p_i[1])\n",
    "        liste_theta.append(p_i[2])\n",
    "    return liste_x, liste_y, liste_theta\n",
    "\n",
    "x, y, t = estim_trajectoire(donnees_odo)\n",
    "plt.figure()\n",
    "plt.plot(x, y, 'r--')\n",
    "plt.show()\n",
    "        \n"
   ]
  },
  {
   "cell_type": "markdown",
   "metadata": {},
   "source": [
    "La trajectoire semble un peu paradoxale avec la forme du laboratoire, il semble que le robot se déplace même sur les zones infranchissables. D'où une optimisation nécéssaire avec les fermetures de boucle."
   ]
  },
  {
   "cell_type": "markdown",
   "metadata": {},
   "source": [
    "### Question 3"
   ]
  },
  {
   "cell_type": "markdown",
   "metadata": {},
   "source": [
    "#### Convexité de la fonction\n",
    "\n",
    "Interessons nous d'abord à la convexité de la fonction. Comme celle-ci contient des cosinus et sinus en fonction des variables $\\theta$ de chaque pose, on sent que la fonction ne sera pas convexe. Un moyen de vérifier qu'elle ne l'est pas est de faire varier simplement le $\\theta$ d'une seule pose et de tracer l'allure de la courbe que l'on obtient."
   ]
  },
  {
   "cell_type": "code",
   "execution_count": 13,
   "metadata": {
    "scrolled": true
   },
   "outputs": [
    {
     "name": "stdout",
     "output_type": "stream",
     "text": [
      "609595.6753715187\n"
     ]
    },
    {
     "data": {
      "image/png": "[encoded data removed]",
      "text/plain": [
       "<matplotlib.figure.Figure at 0x272128666a0>"
      ]
     },
     "metadata": {},
     "output_type": "display_data"
    }
   ],
   "source": [
    "#Definition de la fonction à minimiser f_minim en trois étapes\n",
    "\n",
    "def F(p_i,di):\n",
    "    rot = np.array([[np.cos(p_i[2]), -np.sin(p_i[2]), 0], [np.sin(p_i[2]),np.cos(p_i[2]), 0], [0, 0, 1]])\n",
    "    p_i = p_i + np.dot(rot, np.array(di))\n",
    "    return p_i\n",
    "    \n",
    "def norme_carree(X):\n",
    "    return sum(X[i]**2 for i in range(len(X)))\n",
    "    \n",
    "def f_minim_pose(P,i):\n",
    "    \"\"\"C'est la fonction qui calcule les termes de la somme où intervient uniquement la pose Pi\"\"\"\n",
    "    \n",
    "    #Partie odométrie\n",
    "    p_i=np.array(P[i])\n",
    "    pi_1=np.array(P[i+1])\n",
    "    relations_odo=[]\n",
    "    if i<len(donnees_odo):\n",
    "        relations_odo = donnees_odo[i]\n",
    "    diff_o=pi_1-F(p_i,np.array(relations_odo[2]))\n",
    "    a=norme_carree(diff_o)\n",
    "\n",
    "    #Partie loop\n",
    "    relations_loop = [relation for relation in donnees_loop if relation[0]==i] #Pas les relations où i est le deuxième indice pour ne pas compter les relations 2 fois\n",
    "    indexes_loop = [int(relation[1]) for relation in relations_loop]\n",
    "    Pj=[np.array(P[j]) for j in indexes_loop] #Les poses qui ont des relations de fermeture de boucle avec la pose Pi\n",
    "    for k in range(len(relations_loop)):\n",
    "        diff=Pj[k]-F(p_i,np.array(relations_loop[k][2]))\n",
    "        a+=norme_carree(diff)\n",
    "    return a\n",
    "\n",
    "def f_minim(P):\n",
    "    P=np.array([[P[3*i],P[3*i+1],P[3*i+2]] for i in range(int(len(P)/3))]) #On passe le vectur en version matricielle [[x1,y1,theta1],...,[xn,yn,thetan]] pour utiliser la fonction précédente\n",
    "    return sum([f_minim_pose(P,i) for i in range(len(donnees_odo))])\n",
    "\n",
    "\n",
    "#Vecteur de R^3n correspondant à l'estimation précédente\n",
    "P=[]\n",
    "for i in range(len(x)):\n",
    "    P.append(x[i])\n",
    "    P.append(y[i])\n",
    "    P.append(t[i])\n",
    "P=np.array(P)\n",
    "    \n",
    "#Variation de theta de la pose k\n",
    "k=19\n",
    "print(f_minim(P))\n",
    "\n",
    "liste_theta=np.linspace(-3*pi,3*pi,300)\n",
    "liste_f=[]\n",
    "for i in range(300):\n",
    "    P[3*k+2]=liste_theta[i]\n",
    "    liste_f.append(f_minim(P))\n",
    "    \n",
    "plt.figure()\n",
    "plt.plot(liste_theta, liste_f, 'b--')\n",
    "plt.title(\"Fonction à minimiser\")\n",
    "\n",
    "\n",
    "plt.show()"
   ]
  },
  {
   "cell_type": "markdown",
   "metadata": {},
   "source": [
    "On voit donc que la fonction n'est pas convexe. \n",
    "\n",
    "#### Existence et unicité de la solution\n",
    "\n",
    "De plus, sur cet exemple, on a un minimum atteint pour deux valeurs de $\\theta$ différentes, ce qui peut supposer qu'il soit possible d'obtenir le même résultat pour un vecteur P qui minimise la fonction. Si ce n'est pas le cas pour tout jeu de données d'entrée (s'il n'y a que des relations d'odométrie, il y'a unicité de la solution par exemple), on peut trouver des jeux de données qui ont plusieurs solutions. Pour plus de détails, des démonstrations moins qualitatives sont en pièce jointe.\n",
    "\n",
    "L'existence de la solution se justifie par le caractère fermé borné de l'espace dans lequel on cherche nos solutions, qui n'est pas $R^{3n}$ tout entier mais restreint par les dimensions du laboratoire selon x et y. Pour les theta, l'espace dans lequel on les cherche est au plus [0,2n$\\pi]^{n}$ car tous les d$\\theta$ appartiennent à [0,2$\\pi$]."
   ]
  },
  {
   "cell_type": "markdown",
   "metadata": {},
   "source": [
    "#### Conditionnement\n",
    "\n",
    "Calculons désormais le conditionnement du problème, c'est-à-dire la sensibilité relative de la fonction f par rapport à une légère variation spatiale du point en laquelle on l'évalue. On va donc calculer $\\frac{\\|f(x)-f(x+\\delta)\\|}{\\|f(x)_\\| \\epsilon}$\n"
   ]
  },
  {
   "cell_type": "code",
   "execution_count": 14,
   "metadata": {},
   "outputs": [
    {
     "name": "stdout",
     "output_type": "stream",
     "text": [
      "[2.0119190102185405, 0.0, 0.0, 1.9966378403297071, 0.0, 0.0, 0.0, 0.0, 1.8702207601717324, 0.0, 0.0, 0.0, 0.0, 1.657759809642381, 0.0, 1.5835813614189598, 1.5688346236583592, 4.442632025114782, 1.4325350484385204, 0.0, 1.399857531357225, 1.316290950031806, 0.0, 0.0, 0.0, 2.386833313563582, 0.0, 0.0, 0.0, 0.0, 0.0, 0.0, 0.0, 0.0, 0.0, 1.6943984411695256, 0.0, 0.0, 1.5385222807062888, 0.0, 0.0, 1.3781132872449509, 0.0, 0.0, 0.0, 0.0, 1.1709812635041414, 0.0, 0.0, 1.1159147551068984, 0.0, 0.0, 1.973696920520922, 1.9728534180682884, 0.0, 0.0, 0.0, 0.0, 1.6908191184761694, 0.0, 0.0, 1.5349656506888554, 0.0, 0.0, 0.0, 0.0, 0.0, 0.0, 0.0, 1.269450900717182, 0.0, 0.0, 0.0, 0.0, 1.132653804233046, 0.0, 0.0, 2.062644037670465, 0.0, 2.119705063481474, 0.0, 0.0, 1.8785742016746156, 0.0, 0.0, 0.0, 0.0, 0.0, 0.0, 0.0, 0.0, 0.0, 0.0, 0.0, 0.0, 0.0, 0.0, 0.0, 0.0]\n",
      "Moyenne: 0.44646864057786284\n"
     ]
    }
   ],
   "source": [
    "epsilon=10**(-16)\n",
    "m=10\n",
    "n=3*(len(donnees_odo)+1)\n",
    "\n",
    "def conditionnement(f,liste,epsilon,deplacement):\n",
    "    l=[]\n",
    "    for x in liste:\n",
    "        k=abs((f(np.array(x)+np.array(deplacement))-f(x))/f(x))*1/epsilon\n",
    "        l.append(k)\n",
    "    return l\n",
    "\n",
    "def normalise(x):\n",
    "    norm=np.linalg.norm(np.array(x))\n",
    "    n=len(x)\n",
    "    for i in range(n):\n",
    "        x[i]=x[i]/norm\n",
    "    return x\n",
    "\n",
    "from random import uniform\n",
    "\n",
    "#on crée des vecteurs de façon aléatoire de norme variant de 1 à 100 afin de déterminer la valeur de k et se cantonner à un espace borné, comme le laboratoire\n",
    "liste=[normalise([uniform(-i,i) for k in range(n)]) for i in range (1,100)]\n",
    "p=len(liste)\n",
    "for i in range(p):\n",
    "    for j in range(n):\n",
    "        liste[i][j]=liste[i][j]*(i+1)\n",
    "\n",
    "\n",
    "#print([[f_minim(vecteur+deplacement),f_minim(vecteur)] for vecteur in liste])\n",
    "\n",
    "\n",
    "deplacement=[uniform(-1,1)*epsilon for k in range(n)] #on crée un déplacement de façon aléatoire et plus petit que $\\espilon$ en valeur absolue pour chaque composante\n",
    "\n",
    "\n",
    "l=conditionnement(f_minim,liste,epsilon,deplacement)\n",
    "print(l)\n",
    "\n",
    "k=sum(l)/len(l)\n",
    "print(\"Moyenne:\", k)"
   ]
  },
  {
   "cell_type": "markdown",
   "metadata": {},
   "source": [
    "Même si la valeur de k est relativement faible (moyenne inférieure à 1) elle reste très grande devant epsilon ce qui indique un mauvais conditionnement du problème.\n",
    "\n",
    "Cependant, bien que l'on ne prenne pas en compte les données de fermeture de boucle, on peut considérer que le vecteur calculé en question 2 de cette deuxième partie est une première approximation (bien que grossière) du vecteur solution. Ainsi, il n'est pas trop éloigné spatialement du vecteur x* solution.\n",
    "Comme il s'agit d'un problème d'optimisation non-convexe, lorsque l'on a atteint un minimum local (gradient nul), on ne peut savoir qu'il est global uniquement si l'on a testé toutes les autres valeurs, ce qui est très coûteux.\n",
    "Mais, si l'on sait qu'une racine n'est pas trop éloignée spatialement du minimum global, on peut en utilisant des méthodes d'optimisation pour des fonctions convexes, espérer converger vers ce minimum global.\n",
    "C'est ce choix que nous avons fait pour la question suivante."
   ]
  },
  {
   "cell_type": "markdown",
   "metadata": {},
   "source": [
    "### Question 4"
   ]
  },
  {
   "cell_type": "markdown",
   "metadata": {},
   "source": [
    "Même si la fonction n'est pas convexe, les oscillations très légères comparées au caractère quadratique de la fonction nous permettent de penser qu'une méthode de descente de gradient à pas variable avec conditions de Wolfe nous mènera au minimum global. On part de l'estimation avec les relations d'odométrie seulement."
   ]
  },
  {
   "cell_type": "code",
   "execution_count": 16,
   "metadata": {},
   "outputs": [
    {
     "name": "stdout",
     "output_type": "stream",
     "text": [
      "[  0.           0.           0.         ...  -7.61606458 -30.64994328\n",
      "  83.53317   ]\n",
      "[0. 0. 0. ... 0. 0. 0.]\n",
      "4791.772660825386\n",
      "BFGS...\n",
      "1593.1784352161767\n",
      "1301.3636439074414\n",
      "1004.7149042193962\n",
      "1076.9953518742705\n",
      "796.5848115828196\n",
      "731.8701565640122\n",
      "717.5648985841951\n",
      "660.7667109398412\n",
      "584.5896212250773\n",
      "654.4565285563131\n",
      "685.357781876745\n",
      "617.6400840549311\n",
      "508.34672850784597\n",
      "458.6103045874558\n",
      "488.0328151219849\n",
      "452.60270335169264\n",
      "394.64123091209336\n",
      "375.1268830217532\n",
      "397.180372129253\n",
      "309.66830359425995\n",
      "310.63103483660564\n",
      "283.5528414060509\n",
      "214.95567279206787\n",
      "202.01370942180873\n",
      "177.20747833787613\n",
      "292.66581679926486\n",
      "259.5353694114062\n",
      "201.51280380655498\n",
      "214.26492340852275\n",
      "189.55404772559697\n",
      "Nombre d'iterations :  30\n",
      "Durée :  403.4367697238922\n",
      "\n"
     ]
    }
   ],
   "source": [
    "#On définit le gradient\n",
    "def grad_f_minim(p) : \n",
    "    gradf = autograd.grad(f_minim)\n",
    "    gradient = gradf(p)\n",
    "    return gradient\n",
    "\n",
    "M=np.array([uniform(-100,100) for k in range(n)])\n",
    "print(P)\n",
    "print(grad_f_minim(P))\n",
    "print(np.sqrt(norme_carree(grad_f_minim(P))))\n",
    "\n",
    "# Conditions de Wolfe\n",
    "def wolfe_step(fun, grad_fun, xk, pk, c1 = 0.25, c2 = 0.75, M = 1000):\n",
    "    l_moins = 0\n",
    "    l_plus = 0\n",
    "    f_xk = fun(xk)\n",
    "    grad_f_xk = grad_fun(xk)\n",
    "    li = 1 #- 2*0.1*abs(f_x) / np.dot(grad_f_x,d)\n",
    "    i = 0\n",
    "    while(i < M):\n",
    "        if (fun(xk+li*pk)>(f_xk+c1*li*np.dot(grad_f_xk,pk))):\n",
    "            l_plus = li\n",
    "            li = (l_moins+l_plus)/2.0\n",
    "        else:\n",
    "            if (np.dot(grad_fun(xk+li*pk),pk) < c2*np.dot(grad_f_xk,pk)):\n",
    "                l_moins = li\n",
    "                if (l_plus == 0):\n",
    "                    li = 2*li\n",
    "                else:\n",
    "                    li = (l_moins+l_plus)/2.0\n",
    "            else:\n",
    "                return li\n",
    "        i = i + 1\n",
    "    return li\n",
    "\n",
    "def optim_BFGS(fun, grad_fun, x0, max_iter = 30, epsilon_grad_fun = 1e-8):\n",
    "    k = 0\n",
    "    xk = x0\n",
    "    grad_f_xk = grad_fun(xk)\n",
    "    Hk = np.identity(len(x0))\n",
    "    while ((k<max_iter) and (np.linalg.norm(grad_f_xk)>epsilon_grad_fun)):\n",
    "        pk = -np.matmul(Hk,grad_f_xk)\n",
    "        lk = wolfe_step(fun, grad_fun, xk, pk)\n",
    "        xk1 = xk + lk*pk\n",
    "        grad_f_xk1 = grad_fun(xk1)\n",
    "        print(np.linalg.norm(grad_f_xk1))\n",
    "        sk = xk1 - xk\n",
    "        yk = grad_f_xk1 - grad_f_xk\n",
    "        gammak = 1.0/np.dot(yk, sk)\n",
    "        Ak = np.identity(len(x0)) - gammak*np.multiply(sk[:, np.newaxis], yk)\n",
    "        Bk = np.identity(len(x0)) - gammak*np.multiply(yk[:, np.newaxis], sk)\n",
    "        Hk = np.matmul(np.matmul(Ak, Hk), Bk) + gammak*np.multiply(sk[:, np.newaxis], sk)\n",
    "        xk = xk1\n",
    "        grad_f_xk = grad_f_xk1\n",
    "        k = k + 1\n",
    "    print(\"Nombre d'iterations : \", k)\n",
    "    return xk\n",
    "\n",
    "#BFGS\n",
    "print(\"BFGS...\")\n",
    "start_time = time.time()\n",
    "res = optim_BFGS(f_minim, grad_f_minim, P)\n",
    "print(\"Durée : \", time.time()-start_time)\n",
    "print()"
   ]
  },
  {
   "cell_type": "code",
   "execution_count": null,
   "metadata": {
    "scrolled": true
   },
   "outputs": [],
   "source": [
    "print(np.linalg.norm(grad_f_minim(res)))\n",
    "# Méthode de descente de gradient avec recherche linéaire suivant les conditions de Wolfe\n",
    "def optim_gradient_wolfe_step(fun, grad_fun, x0, max_iter = 100000, epsilon_grad_fun = 1e-8):\n",
    "    k = 0\n",
    "    xk = x0\n",
    "    grad_f_xk = grad_fun(xk)\n",
    "    while ((k<max_iter) and (np.linalg.norm(grad_f_xk)>epsilon_grad_fun)):\n",
    "        pk = -grad_f_xk\n",
    "        lk = wolfe_step(fun, grad_fun, xk, pk)\n",
    "        xk = xk + lk*pk\n",
    "        grad_f_xk = grad_fun(xk)\n",
    "        print(np.linalg.norm(grad_f_xk))\n",
    "        k = k + 1\n",
    "    print(\"Nombre d'iterations : \", k)\n",
    "    return xk\n",
    "\n",
    "#Gradient à pas variable avec conditions de Wolfe\n",
    "print(\"Gradient à pas variable avec conditions de Wolfe...\")\n",
    "start_time = time.time()\n",
    "res2 = optim_gradient_wolfe_step(f_minim, grad_f_minim, res)\n",
    "print(\"Durée : \", time.time()-start_time)\n",
    "print()"
   ]
  },
  {
   "cell_type": "markdown",
   "metadata": {},
   "source": [
    "La convergence de l'algorithme de BFGS n'aboutissant pas (des itérations très longues qui oscillaient autour d'une norme de gradient de 100 pendant un long moment), nous avons limité son utilisation à 30 itérations et nous avons tenté de continuer en descente de gradient. Néanmoins, la convergence trop longue nous empêche de pouvoir observer le résultat et donc de commenter la courbe optimisée et une oscillation autour d'une norme de 10 est aussi observable."
   ]
  },
  {
   "cell_type": "code",
   "execution_count": 17,
   "metadata": {},
   "outputs": [
    {
     "data": {
      "image/png": "[encoded data removed]",
      "text/plain": [
       "<matplotlib.figure.Figure at 0x2721492ea90>"
      ]
     },
     "metadata": {},
     "output_type": "display_data"
    }
   ],
   "source": [
    "x, y, t = [res[3*k] for k in range(int(len(res)/3))], [res[3*k+1] for k in range(int(len(res)/3))], [res[3*k+2] for k in range(int(len(res)/3))]\n",
    "plt.figure()\n",
    "plt.plot(x, y, 'r--')\n",
    "plt.show()"
   ]
  },
  {
   "cell_type": "markdown",
   "metadata": {},
   "source": [
    "On peut néanmoins reconnaître une forme plus cohérente de la trajectoire du robot que celle observée avec les données d'odométrie uniquement. "
   ]
  },
  {
   "cell_type": "markdown",
   "metadata": {},
   "source": [
    "## Partie 3"
   ]
  },
  {
   "cell_type": "markdown",
   "metadata": {},
   "source": [
    "### Question 1"
   ]
  },
  {
   "cell_type": "markdown",
   "metadata": {},
   "source": [
    "On a compris que le problème ici réside dans la non convexité de la fonction f selon les variables $\\theta_{i}$, ce que l'on va chercher à corriger. Géométriquement, modifier le produit scalaire en considérent une matrice symétrique définie positive, revient à transformer l'espace en accordant plus ou moins d'importance à l'une ou l'autre des dimensions. On va donc chercher à modifier les dimensions de telle sorte que f deviennent convexe."
   ]
  },
  {
   "cell_type": "markdown",
   "metadata": {},
   "source": [
    "L'objectif ici est de modifier le produit scalaire afin de convexifier la fonction f. A x et y fixé, on a vu précédemment que la fonction f n'est pas convexe suivant les $\\theta_{i}$. Cela se traduit par le fait que dans la hessienne de f, les $\\frac{\\partial^2 f}{\\partial \\alpha_{j} \\partial \\theta_{i} }$ où $\\alpha_{j}$ peut être x,y ou $\\theta$ peuvent être négatives. C'est donc ces facteurs sur lequel on va chercher à agir afin de les rendre le \"moins négatif possible\" pour convexifier le plus possible la fonction f."
   ]
  },
  {
   "cell_type": "markdown",
   "metadata": {},
   "source": [
    "On va donc utiliser une nouvelle norme, à partir d'un nouveau produit scalaire définit à l'aide d'une matrice symétrique définie positive diagonale notée A. Si l'on note $(\\lambda_{i})_{1\\leqslant i \\leqslant 3n}$ ses coefficients diagonaux, on va retrouver les termes des normes au carré dans le calcul de f multipliés par ces $\\lambda_{i}$. Comme ceux-ci sont des constantes, on va également les retrouver dans l'expression du gradient et de la hessienne de f. Cependant, comme le produit scalaire a changé, on va pourvoir écrire pour h très petit que $ \\nabla f(x+h) = \\nabla f(x) + \\nabla^{2} f(x)^{T}Ah  = \\nabla f(x) + (A\\nabla^{2} f(x))^{T}h $. Alors, on remarque que les colonnes de $\\nabla^{2} f(x)$ sont multipliées par les coefficients de A. Ainsi, les $(\\lambda_{i})$ sont \"élevés au carré\" dans la partie hessienne de cette égalité alors qu'ils ne sont qu'à la puissance 1 pour le gradient. Ainsi, choisir des $(\\lambda_{3i})_{1\\leqslant i \\leqslant n}$ très petits en conservant les autres égaux à 1 permet de diminuer fortement la valeur absolue des termes $\\frac{\\partial^2 f}{\\partial \\alpha_{j} \\partial \\theta_{i} }$ pouvant être négatif et les rapprocher de 0. On va ainsi convexifier notre fonction f."
   ]
  },
  {
   "cell_type": "markdown",
   "metadata": {},
   "source": [
    "### Question 2"
   ]
  },
  {
   "cell_type": "markdown",
   "metadata": {},
   "source": [
    "On commence par estimer la trajectoire à partir de l'odométrie comme précédemment"
   ]
  },
  {
   "cell_type": "code",
   "execution_count": 18,
   "metadata": {},
   "outputs": [
    {
     "data": {
      "image/png": "[encoded data removed]",
      "text/plain": [
       "<matplotlib.figure.Figure at 0x272148f4400>"
      ]
     },
     "metadata": {},
     "output_type": "display_data"
    }
   ],
   "source": [
    "donnees_odo = []\n",
    "donnees_loop = []         \n",
    "recup_donnees(\"MIT.txt\")\n",
    "x, y, t = estim_trajectoire(donnees_odo)\n",
    "plt.figure()\n",
    "plt.plot(x, y, 'r--')\n",
    "plt.show()\n",
    "\n",
    "P=[]\n",
    "for i in range(len(x)):\n",
    "    P.append(x[i])\n",
    "    P.append(y[i])\n",
    "    P.append(t[i])\n",
    "P=np.array(P)"
   ]
  },
  {
   "cell_type": "markdown",
   "metadata": {},
   "source": [
    "On définit donc la matrice A de telle sorte que le coefficient attribué à la différence d'angles au carrée soit la plus faible pour négliger l'influence de theta. A est diagonale de taille 3 et possède un coefficient $\\lambda$ arbitrairement faible. On redéfinit ainsi la fonction norme au carrée pour l'associer à A."
   ]
  },
  {
   "cell_type": "code",
   "execution_count": 1,
   "metadata": {},
   "outputs": [
    {
     "ename": "NameError",
     "evalue": "name 'np' is not defined",
     "output_type": "error",
     "traceback": [
      "\u001b[1;31m---------------------------------------------------------------------------\u001b[0m",
      "\u001b[1;31mNameError\u001b[0m                                 Traceback (most recent call last)",
      "\u001b[1;32m<ipython-input-1-792ee76c7e5b>\u001b[0m in \u001b[0;36m<module>\u001b[1;34m()\u001b[0m\n\u001b[1;32m----> 1\u001b[1;33m \u001b[0mA\u001b[0m \u001b[1;33m=\u001b[0m \u001b[0mnp\u001b[0m\u001b[1;33m.\u001b[0m\u001b[0mdiag\u001b[0m\u001b[1;33m(\u001b[0m\u001b[1;33m[\u001b[0m\u001b[1;36m1\u001b[0m\u001b[1;33m,\u001b[0m\u001b[1;36m1\u001b[0m\u001b[1;33m,\u001b[0m\u001b[1;36m0.01\u001b[0m\u001b[1;33m]\u001b[0m\u001b[1;33m)\u001b[0m\u001b[1;33m\u001b[0m\u001b[0m\n\u001b[0m\u001b[0;32m      2\u001b[0m \u001b[1;32mdef\u001b[0m \u001b[0mnorme_carree\u001b[0m\u001b[1;33m(\u001b[0m\u001b[0mX\u001b[0m\u001b[1;33m)\u001b[0m\u001b[1;33m:\u001b[0m\u001b[1;33m\u001b[0m\u001b[0m\n\u001b[0;32m      3\u001b[0m     \u001b[1;32mreturn\u001b[0m \u001b[0mnp\u001b[0m\u001b[1;33m.\u001b[0m\u001b[0mdot\u001b[0m\u001b[1;33m(\u001b[0m\u001b[0mX\u001b[0m\u001b[1;33m,\u001b[0m\u001b[0mnp\u001b[0m\u001b[1;33m.\u001b[0m\u001b[0mdot\u001b[0m\u001b[1;33m(\u001b[0m\u001b[0mA\u001b[0m\u001b[1;33m,\u001b[0m\u001b[0mX\u001b[0m\u001b[1;33m)\u001b[0m\u001b[1;33m)\u001b[0m\u001b[1;33m\u001b[0m\u001b[0m\n",
      "\u001b[1;31mNameError\u001b[0m: name 'np' is not defined"
     ]
    }
   ],
   "source": [
    "A = np.diag([1,1,0.1])\n",
    "def norme_carree(X):\n",
    "    return np.dot(X,np.dot(A,X))"
   ]
  },
  {
   "cell_type": "markdown",
   "metadata": {},
   "source": [
    "On essaie donc avec le nouveau produit scalaire sur les autres données. Comme seule la fonction norme a été modifiée précédemment, on peut réutiliser le code de la partie 2 pour essayer d'optimiser la trajectoire:"
   ]
  },
  {
   "cell_type": "code",
   "execution_count": 25,
   "metadata": {},
   "outputs": [
    {
     "name": "stdout",
     "output_type": "stream",
     "text": [
      "954.8642838813398\n",
      "1044.2466371198084\n",
      "945.4371857726871\n",
      "878.3764463328121\n",
      "823.0535670185568\n",
      "791.9608626978437\n",
      "681.3853802987501\n",
      "658.6868112733317\n",
      "617.3515294649928\n",
      "567.413064671018\n",
      "576.1606083361469\n",
      "584.100859900599\n",
      "610.5381283651026\n",
      "556.2694977161091\n",
      "440.7524852846615\n",
      "490.7414797623384\n",
      "479.8214480301344\n",
      "479.6134723827081\n",
      "633.3313536730955\n",
      "412.599637786251\n",
      "Nombre d'iterations :  20\n"
     ]
    }
   ],
   "source": [
    "res3 = optim_BFGS(f_minim, grad_f_minim, P, 20, 200)"
   ]
  },
  {
   "cell_type": "code",
   "execution_count": 26,
   "metadata": {},
   "outputs": [
    {
     "data": {
      "image/png": "[encoded data removed]",
      "text/plain": [
       "<matplotlib.figure.Figure at 0x27215cc3240>"
      ]
     },
     "metadata": {},
     "output_type": "display_data"
    }
   ],
   "source": [
    "x, y, t = [res3[3*k] for k in range(int(len(res3)/3))], [res3[3*k+1] for k in range(int(len(res3)/3))], [res3[3*k+2] for k in range(int(len(res3)/3))]\n",
    "plt.figure()\n",
    "plt.plot(x, y, 'r--')\n",
    "plt.show()"
   ]
  },
  {
   "cell_type": "markdown",
   "metadata": {},
   "source": [
    "On reconnait à nouveau la forme du laboratoire, avec moins de fouillis sauf en haut à droite. Il faudrait probablement augmenter le poids des relations de boucle pour obtenir un résultat plus rapidement. Néanmoins on remarque que les pics sur la branche du bas doivent correspondre à des relations de boucle tout le long couloir. Les dx et dy sont énormément étirés pour tenter de pallier à la fermeture de boucle. On veut peut-être alors diminuer le poids des relations de boucle pour obliger les angles à diminuer. Nous n'avons pas eu le temps de faire les tests."
   ]
  },
  {
   "cell_type": "markdown",
   "metadata": {},
   "source": [
    "### Annexe"
   ]
  },
  {
   "cell_type": "markdown",
   "metadata": {},
   "source": [
    "On a en outre tenté de calculer le gradient de notre fonction à minimiser à la main pour l'utiliser dans nos algorithmes d'optimisation. Le problème était que cette version était beaucoup trop lente. Le code est le suivant:"
   ]
  },
  {
   "cell_type": "code",
   "execution_count": null,
   "metadata": {},
   "outputs": [],
   "source": [
    "def loop_from(i):\n",
    "    \"\"\"\n",
    "    trouve toutes les boucles qui partent de i\n",
    "    \"\"\"\n",
    "    res = []\n",
    "    for loop in donnees_loop:\n",
    "        if loop[0]==i:\n",
    "            res.append(loop)\n",
    "    return res\n",
    "\n",
    "def loop_to(i):\n",
    "    \"\"\"\n",
    "    trouve toutes les boucles qui arrivent en i\n",
    "    \"\"\"\n",
    "    res = []\n",
    "    for loop in donnees_loop:\n",
    "        if loop[1]==i:\n",
    "            res.append(loop)\n",
    "    return res\n",
    "\n",
    "def grad_partiel(x_i,y_i,theta_i,x_i_prec,y_i_prec,theta_i_prec,dx_i_prec,dy_i_prec,dtheta_i_prec):\n",
    "    grad_x = 2*x_i*(x_i - cos(theta_i_prec)*dx_i_prec + sin(theta_i_prec)*dy_i_prec - x_i_prec)\n",
    "    grad_y = 2*y_i*(y_i - sin(theta_i_prec)*dx_i_prec - cos(theta_i_prec)*dx_i_prec - y_i_prec)\n",
    "    grad_theta = 2*theta_i*(theta_i - dtheta_i_prec - theta_i_prec)\n",
    "    return grad_x,grad_y,grad_theta\n",
    "    \n",
    "\n",
    "def grad_f_minim(P):\n",
    "    odo = donnees_odo\n",
    "    loop = donnees_loop\n",
    "    n = len(P)//3\n",
    "    grad = [0,0,0]   #Le gradient au premier point est toujours nul car on a pris (x,y,theta)_0 = (0,0,0)\n",
    "    for i in range(1,n):\n",
    "        grad_x = 0\n",
    "        grad_y = 0\n",
    "        grad_theta = 0\n",
    "        #On commence par ajouter la partie liée à l'odométrie\n",
    "        x_i = P[3*i]\n",
    "        y_i = P[3*i+1]\n",
    "        theta_i = P[3*i+2]\n",
    "        x_i_prec = P[3*(i-1)]\n",
    "        y_i_prec = P[3*(i-1)+1]\n",
    "        theta_i_prec = P[3*(i-1)+2]\n",
    "        dx_i_prec = odo[i-1][2][0]\n",
    "        dy_i_prec = odo[i-1][2][1]\n",
    "        dtheta_i_prec = odo[i-1][2][2]\n",
    "        g_x,g_y,g_theta = grad_partiel(x_i,y_i,theta_i,x_i_prec,y_i_prec,theta_i_prec,dx_i_prec,dy_i_prec,dtheta_i_prec)\n",
    "        grad_x += g_x\n",
    "        grad_y += g_y\n",
    "        grad_theta += g_theta\n",
    "        if i<n-2:\n",
    "            x_i_suiv = P[3*(i+1)]\n",
    "            y_i_suiv = P[3*(i+1)+1]\n",
    "            theta_i_suiv = P[3*(i+1)+2]\n",
    "            dx_i = odo[i][2][0]\n",
    "            dy_i = odo[i][2][1]\n",
    "            dtheta_i = odo[i][2][2]\n",
    "            dx_i_suiv = odo[i+1][2][0]\n",
    "            dy_i_suiv = odo[i+1][2][1]\n",
    "            dtheta_i_suiv = odo[i+1][2][2]\n",
    "            g_x,g_y,g_theta = grad_partiel(x_i_suiv,y_i_suiv,theta_i_suiv,x_i,y_i,theta_i,dx_i,dy_i,dtheta_i)\n",
    "            grad_x -= g_x\n",
    "            grad_y -= g_y\n",
    "            grad_theta -= g_theta\n",
    "            grad_theta += 2*(-sin(theta_i)*dx_i-cos(theta_i)*dy_i)*(x_i_suiv - cos(theta_i)*dx_i + sin(theta_i)*dy_i - x_i)\n",
    "            grad_theta += 2*(cos(theta_i)*dx_i-sin(theta_i)*dy_i)*(y_i_suiv - sin(theta_i)*dx_i - cos(theta_i)*dx_i - y_i)\n",
    "        #On ajoute ensuite la partie liée aux boucles\n",
    "        l_f = loop_from(i)\n",
    "        for k in l_f:\n",
    "            x_k = P[3*int(k[1])]\n",
    "            y_k = P[3*int(k[1])+1]\n",
    "            theta_k = P[3*int(k[1])+2]\n",
    "            dx_k = k[2][0]\n",
    "            dy_k = k[2][1]\n",
    "            dtheta_k = k[2][2]\n",
    "            g_x,g_y,g_theta = grad_partiel(x_k,y_k,theta_k,x_i,y_i,theta_i,dx_k,dy_k,dtheta_k)\n",
    "            grad_x -= g_x\n",
    "            grad_y -= g_y\n",
    "            grad_theta -= g_theta\n",
    "            grad_theta += 2*(-sin(theta_i)*dx_k-cos(theta_i)*dy_k)*(x_k - cos(theta_i)*dx_k + sin(theta_i)*dy_k - x_i)\n",
    "            grad_theta += 2*(cos(theta_i)*dx_k-sin(theta_i)*dy_k)*(y_k - sin(theta_i)*dx_k - cos(theta_i)*dx_k - y_i)\n",
    "        l_t = loop_to(i)\n",
    "        for k in l_f:\n",
    "            x_k = P[3*int(k[0])]\n",
    "            y_k = P[3*int(k[0])+1]\n",
    "            theta_k = P[3*int(k[0])+2]\n",
    "            dx_k = k[2][0]\n",
    "            dy_k = k[2][1]\n",
    "            dtheta_k = k[2][2]\n",
    "            g_x,g_y,g_theta = grad_partiel(x_i,y_i,theta_i,x_k,y_k,theta_k,dx_k,dy_k,dtheta_k)\n",
    "            grad_x += g_x\n",
    "            grad_y += g_y\n",
    "            grad_theta += g_theta\n",
    "        grad.append(grad_x)\n",
    "        grad.append(grad_y)\n",
    "        grad.append(grad_theta)\n",
    "    return np.array(grad)\n"
   ]
  },
  {
   "cell_type": "markdown",
   "metadata": {},
   "source": [
    "Narjis El Amraoui, Timothé Blondel, Alexis Roux"
   ]
  }
 ],
 "metadata": {
  "kernelspec": {
   "display_name": "Python 3",
   "language": "python",
   "name": "python3"
  },
  "language_info": {
   "codemirror_mode": {
    "name": "ipython",
    "version": 3
   },
   "file_extension": ".py",
   "mimetype": "text/x-python",
   "name": "python",
   "nbconvert_exporter": "python",
   "pygments_lexer": "ipython3",
   "version": "3.6.4"
  }
 },
 "nbformat": 4,
 "nbformat_minor": 2
}
