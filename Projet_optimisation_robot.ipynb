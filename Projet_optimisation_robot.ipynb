{
 "cells": [
  {
   "cell_type": "markdown",
   "metadata": {},
   "source": [
    "# Projet optimisation de la trajectoire d'un robot"
   ]
  },
  {
   "cell_type": "markdown",
   "metadata": {},
   "source": [
    "# Partie 1"
   ]
  },
  {
   "cell_type": "markdown",
   "metadata": {},
   "source": [
    "### Question 1"
   ]
  },
  {
   "cell_type": "markdown",
   "metadata": {},
   "source": [
    "Les inconnues du problème sont les poses $Pi$ de la trajectoire. On pose $P_{i}=(x_{i},y_{i},\\theta_{i})$ avec $x_i,y_i,\\theta_i$ définis pour $i$ allant de $0$ à $n$ par rapport à un repère fixe ayant pour origine $P_0 = (0,0,0)$.\n",
    "\n",
    "On cherche à les déterminer grâce aux relations d'odométrie et de fermeture de boucles qui elles sont connues.\n"
   ]
  },
  {
   "cell_type": "markdown",
   "metadata": {},
   "source": [
    "### Question 2"
   ]
  },
  {
   "cell_type": "markdown",
   "metadata": {},
   "source": [
    "Chaque relation d'odométrie est donnée relativement à la pose précédente. \n",
    "On a donc les relations suivantes pour l'odométrie : \n",
    "\n",
    "$$\n",
    "\\left\\{\n",
    "    \\begin{array}{ll}\n",
    "        x_{i+1} = x_i + dx_i\\cos{\\theta_i}- dy_i\\sin{}\\theta_i = f_{x}(x_{i},dx_{i},dy_{i},\\theta_{i})\\\\\n",
    "        y_{i+1} = y_i + dx_i\\sin{\\theta_i}+ dy_i\\cos{}\\theta_i = f_{y}(y_{i},dx_{i},dy_{i},\\theta_{i})\\\\\n",
    "        \\theta_{i+1} = \\theta_i + d\\theta_i = f_{\\theta}(\\theta_{i},d\\theta_{i})\n",
    "    \\end{array}\n",
    "\\right.\n",
    "$$\n",
    "\n",
    "Et on adapte pour les relations de fermetures de boucle en remplaçant $i+1$ par $j$ avec $j$ l'indice de la fermeture de boucle. "
   ]
  },
  {
   "cell_type": "markdown",
   "metadata": {},
   "source": [
    "### Question 3"
   ]
  },
  {
   "cell_type": "markdown",
   "metadata": {},
   "source": [
    "On veut ici déterminer quelle fonction minimiser afin de vérifier au mieux les données d'odométrie et de fermetures de boucles. On va d'abord introduire plusieurs notations."
   ]
  },
  {
   "cell_type": "markdown",
   "metadata": {},
   "source": [
    "On va travailler ici avec des fonctions $f_{x}, f_{y} et f_{\\theta}$ définies respectivement par les relations données en question 2 s'appliquant sur les variables $x_{i}, y_{i}$ et $\\theta_{i}$. De plus, les éléments que nous appelerons $dx_{i},dy_{i}$ et $d\\theta_{i}$ ainsi que $dx'_{i},dy'_{i}$ et $d\\theta'_{i}$ dans la suite correspondent respectivement aux valeurs d'odométrie et de fermeture de boucles mesurées par le robot lors de son parcours, et sont donc connues et fixées."
   ]
  },
  {
   "cell_type": "markdown",
   "metadata": {},
   "source": [
    "Ce faisant, on note $P_{i}=(x_{i},y_{i},\\theta_{i})$ un triplet de $R^{3}$ et M le vecteur de dimension 3n définit par $M=(P_{i})_{1 \\leqslant i \\leqslant n}$. \n",
    "\n",
    "Si M est un minimum de notre fonction, on veut que chacun des $p_{i}$ vérifie au mieux les relations d'odométrie et de fermetures de boucles, c'est-à-dire:\n",
    "\n",
    "1) $\\forall i \\in {1,...,n}$,\n",
    "$x_{i+1}\\approx f_{x}(x_{i},dx_{i},dy_{i},\\theta_{i})$,\n",
    "$y_{i+1}\\approx f_{y}(y_{i},dx_{i},dy_{i},\\theta_{i})$,\n",
    "$\\theta_{i+1}\\approx f_{\\theta}(\\theta_{i},d\\theta_{i})$."
   ]
  },
  {
   "cell_type": "markdown",
   "metadata": {},
   "source": [
    "2) Si l'on note B l'ensemble des couples (j,i) correspondant à des fermetures de boucles détectées par le robot, on veut également vérifier: $x_{j}\\approx f_{x}(x_{i},dx'_{i},dy'_{i},\\theta_{i})$, \n",
    "$y_{j}\\approx f_{y}(y_{i},dx'_{i},dy'_{i},\\theta_{i})$ et\n",
    "$\\theta_{j}\\approx f_{\\theta}(\\theta_{i},d\\theta'_{i})$."
   ]
  },
  {
   "cell_type": "markdown",
   "metadata": {},
   "source": [
    "Plus concrètement, ces approximations se traduisent par le fait que les quantités $\\left|x_{i+1}- f_{x}(x_{i},dx_{i},dy_{i},\\theta_{i}) \\right|^{2}$ soient le plus petites possibles, de même en remplaçant les $x$ par les $y$ et les $\\theta$, et de même pour les relations de fermeture de boucle."
   ]
  },
  {
   "cell_type": "markdown",
   "metadata": {},
   "source": [
    "Comme on veut que cela soit vrai pour toutes ces relations, et que celles-ci sont interdépendantes, cela revient à minimiser la fonction de $R^{3n}$ suivante:"
   ]
  },
  {
   "cell_type": "markdown",
   "metadata": {},
   "source": [
    " $M \\in R^{3n} \\rightarrow \\sum_{i=1}^{n} \\left\\|P_{i+1} - F(P_{i},dx_{i},dy_{i},d\\theta_{i}) \\right\\|^{2} + \\sum_{(j,i) \\in B} \\left\\|P_{j} - F(P_{i},dx'_{i},dy'_{i},d\\theta'_{i}) \\right\\|^{2}$ "
   ]
  },
  {
   "cell_type": "markdown",
   "metadata": {},
   "source": [
    "où les $P_{i}$ ont été définis ci-dessus comme les triplets composants de M et où $F(P_{i},dx_{i},dy_{i},d\\theta_{i})=(f_{x}(x_{i},dx_{i},dy_{i},\\theta_{i}),f_{y}(y_{i},dx_{i},dy_{i},\\theta_{i}),f_{\\theta}(\\theta_{i},d\\theta_{i}))$. "
   ]
  },
  {
   "cell_type": "markdown",
   "metadata": {},
   "source": [
    "# Partie 2"
   ]
  },
  {
   "cell_type": "code",
   "execution_count": 22,
   "metadata": {},
   "outputs": [],
   "source": [
    "import time\n",
    "import matplotlib.pyplot as plt\n",
    "import autograd.numpy as np\n",
    "import autograd\n",
    "import copy\n",
    "import scipy.optimize\n",
    "from math import cos, sin, pi, sqrt"
   ]
  },
  {
   "cell_type": "markdown",
   "metadata": {},
   "source": [
    "### Question 1"
   ]
  },
  {
   "cell_type": "code",
   "execution_count": 26,
   "metadata": {},
   "outputs": [
    {
     "data": {
      "text/plain": [
       "array([[array(19.), array(166.),\n",
       "        array([-2.459689,  0.241111,  0.2528  ])],\n",
       "       [array(19.), array(172.), array([1.067903, 0.915786, 0.14947 ])],\n",
       "       [array(25.), array(172.),\n",
       "        array([-2.539634,  0.85263 , -0.02986 ])],\n",
       "       [array(25.), array(178.),\n",
       "        array([ 1.225223,  0.672079, -0.10248 ])],\n",
       "       [array(32.), array(178.),\n",
       "        array([-2.020007, -0.239771,  0.71518 ])],\n",
       "       [array(32.), array(183.),\n",
       "        array([-0.092559,  0.424181,  0.0416  ])],\n",
       "       [array(44.), array(189.),\n",
       "        array([-2.265706, -0.570857,  0.19772 ])],\n",
       "       [array(44.), array(195.),\n",
       "        array([ 1.302289, -0.133004, -0.00528 ])],\n",
       "       [array(50.), array(195.),\n",
       "        array([-2.374379, -0.253682,  0.21612 ])],\n",
       "       [array(50.), array(201.),\n",
       "        array([ 1.291572,  0.086248, -0.0507  ])],\n",
       "       [array(50.), array(203.),\n",
       "        array([ 2.550695,  0.035722, -0.08465 ])],\n",
       "       [array(61.), array(203.),\n",
       "        array([-2.852494,  0.122053,  0.07787 ])],\n",
       "       [array(61.), array(209.), array([0.73078, 0.07297, 0.00889])],\n",
       "       [array(67.), array(209.),\n",
       "        array([-2.822142,  0.138051, -0.00446 ])],\n",
       "       [array(67.), array(220.),\n",
       "        array([ 0.783704, -1.176736, -1.4129  ])],\n",
       "       [array(81.), array(220.),\n",
       "        array([-0.868391, -0.009825, -0.04688 ])],\n",
       "       [array(81.), array(226.), array([2.836453, 0.058719, 0.04915 ])],\n",
       "       [array(87.), array(226.),\n",
       "        array([-0.45964 ,  0.184679,  0.34383 ])],\n",
       "       [array(87.), array(231.), array([1.060624, 0.863823, 0.29401 ])],\n",
       "       [array(94.), array(231.),\n",
       "        array([-2.231597,  0.316386,  0.18025 ])],\n",
       "       [array(94.), array(241.), array([2.816677, 0.483252, 0.0414  ])],\n",
       "       [array(101.), array(241.),\n",
       "        array([-1.436886,  0.314097, -0.09887 ])],\n",
       "       [array(101.), array(247.),\n",
       "        array([ 2.168416,  0.280309, -0.00387 ])],\n",
       "       [array(107.), array(247.),\n",
       "        array([-1.536762,  0.375104,  0.05105 ])],\n",
       "       [array(107.), array(254.),\n",
       "        array([ 0.592787, -1.020976, -0.778   ])],\n",
       "       [array(107.), array(256.),\n",
       "        array([ 0.707309, -1.207974, -1.16374 ])],\n",
       "       [array(107.), array(258.),\n",
       "        array([ 0.976528, -2.202656, -1.22773 ])],\n",
       "       [array(114.), array(254.),\n",
       "        array([-0.931502, -0.024068,  0.56758 ])],\n",
       "       [array(114.), array(256.),\n",
       "        array([-0.723652,  0.045801,  0.18184 ])],\n",
       "       [array(114.), array(258.), array([0.306031, 0.086093, 0.11785 ])],\n",
       "       [array(121.), array(266.), array([ 0.73719, -0.0172 , -0.11824])],\n",
       "       [array(126.), array(266.),\n",
       "        array([-1.480397,  0.199141,  0.06286 ])],\n",
       "       [array(126.), array(272.), array([2.350796, 0.151313, 0.02506 ])],\n",
       "       [array(132.), array(272.),\n",
       "        array([-1.37599 ,  0.193564, -0.06956 ])],\n",
       "       [array(132.), array(278.),\n",
       "        array([ 2.220707e+00,  3.198820e-01, -5.000000e-04])],\n",
       "       [array(138.), array(278.),\n",
       "        array([-1.378019,  0.626427,  0.01699 ])],\n",
       "       [array(138.), array(284.),\n",
       "        array([ 2.391863,  0.324204, -0.075755])],\n",
       "       [array(151.), array(284.),\n",
       "        array([-2.650853, -0.975732,  1.45455 ])],\n",
       "       [array(151.), array(291.),\n",
       "        array([-1.4985  ,  0.364159,  0.02179 ])],\n",
       "       [array(151.), array(297.),\n",
       "        array([ 2.217429, -0.068852, -0.22346 ])],\n",
       "       [array(19.), array(305.),\n",
       "        array([-1.044094,  0.006772,  0.28908 ])],\n",
       "       [array(19.), array(315.), array([1.796874, 2.231292, 1.91767 ])],\n",
       "       [array(19.), array(337.), array([1.676359, 1.138847, 2.36996 ])],\n",
       "       [array(19.), array(342.),\n",
       "        array([ 2.451034,  1.014379, -0.10619 ])],\n",
       "       [array(19.), array(1016.),\n",
       "        array([ 0.039741,  0.37438 , -2.852145])],\n",
       "       [array(25.), array(315.),\n",
       "        array([-1.587705,  2.017012,  1.73834 ])],\n",
       "       [array(25.), array(337.),\n",
       "        array([-1.901147,  0.963583,  2.19063 ])],\n",
       "       [array(25.), array(342.),\n",
       "        array([-1.161097,  0.702932, -0.28552 ])],\n",
       "       [array(25.), array(367.), array([ 0.87843, -0.15997,  0.91002])],\n",
       "       [array(25.), array(374.),\n",
       "        array([ 2.84092 , -0.557124, -0.60161 ])],\n",
       "       [array(25.), array(1008.), array([0.839778, 0.868849, 2.614245])],\n",
       "       [array(25.), array(1010.),\n",
       "        array([ 0.208016,  0.81749 , -3.07807 ])],\n",
       "       [array(32.), array(367.),\n",
       "        array([-1.65017 , -1.061836,  1.72768 ])],\n",
       "       [array(32.), array(374.),\n",
       "        array([-0.018221,  0.098268,  0.21605 ])],\n",
       "       [array(32.), array(382.), array([0.235335, 2.451229, 2.82151 ])],\n",
       "       [array(32.), array(387.), array([0.993162, 2.566664, 0.274705])],\n",
       "       [array(32.), array(1003.),\n",
       "        array([ 0.362306, -0.196467,  3.066965])],\n",
       "       [array(32.), array(1008.),\n",
       "        array([-2.427177, -0.386394, -2.85128 ])],\n",
       "       [array(32.), array(1010.), array([-2.82179, -0.88242, -2.26041])],\n",
       "       [array(44.), array(437.), array([ 0.69665, -2.77105, -0.20546])],\n",
       "       [array(44.), array(454.),\n",
       "        array([-1.152851, -1.893499,  1.516715])],\n",
       "       [array(44.), array(467.), array([1.218289, 1.232598, 1.11314 ])],\n",
       "       [array(44.), array(494.),\n",
       "        array([ 2.154809, -0.649767, -0.30653 ])],\n",
       "       [array(44.), array(988.),\n",
       "        array([ 2.712903, -0.996652,  3.0471  ])],\n",
       "       [array(44.), array(994.),\n",
       "        array([-0.892482, -0.642947,  3.093485])],\n",
       "       [array(50.), array(467.),\n",
       "        array([-2.75621 ,  1.060141,  1.33454 ])],\n",
       "       [array(50.), array(494.),\n",
       "        array([-1.42919 , -0.570621, -0.08513 ])],\n",
       "       [array(50.), array(500.),\n",
       "        array([ 2.26834 , -0.490379,  0.26364 ])],\n",
       "       [array(50.), array(982.),\n",
       "        array([ 2.823043, -0.459737, -3.096925])],\n",
       "       [array(50.), array(988.),\n",
       "        array([-0.808543, -0.786485, -3.014685])],\n",
       "       [array(61.), array(508.),\n",
       "        array([-1.4492  ,  2.112314,  1.47767 ])],\n",
       "       [array(61.), array(522.),\n",
       "        array([-1.053664, -0.045704,  0.099   ])],\n",
       "       [array(61.), array(528.),\n",
       "        array([ 2.466833,  0.101003, -0.08824 ])],\n",
       "       [array(61.), array(976.),\n",
       "        array([ 1.165811, -0.076649, -3.05444 ])],\n",
       "       [array(61.), array(982.),\n",
       "        array([-2.503567, -0.32281 , -2.934405])],\n",
       "       [array(67.), array(528.),\n",
       "        array([-1.085869,  0.142906, -0.10159 ])],\n",
       "       [array(67.), array(532.), array([ 1.03848, -0.18454, -0.18727])],\n",
       "       [array(67.), array(556.),\n",
       "        array([ 0.87596 ,  2.072499, -1.60875 ])],\n",
       "       [array(67.), array(564.),\n",
       "        array([ 0.93453 , -0.521388, -1.42509 ])],\n",
       "       [array(67.), array(567.),\n",
       "        array([ 1.07864 , -1.127738,  0.06864 ])],\n",
       "       [array(67.), array(570.),\n",
       "        array([ 2.695842, -0.809094,  0.12996 ])],\n",
       "       [array(67.), array(965.),\n",
       "        array([ 0.918287, -0.079133,  1.69211 ])],\n",
       "       [array(67.), array(976.),\n",
       "        array([-2.389147, -0.017363, -3.06779 ])],\n",
       "       [array(81.), array(528.),\n",
       "        array([-2.540636, -1.571989,  1.26443 ])],\n",
       "       [array(81.), array(532.),\n",
       "        array([-1.788049,  0.44139 ,  1.17875 ])],\n",
       "       [array(81.), array(564.),\n",
       "        array([-1.479377,  0.271115, -0.05907 ])],\n",
       "       [array(81.), array(567.),\n",
       "        array([-0.856391,  0.288913,  1.43466 ])],\n",
       "       [array(81.), array(570.),\n",
       "        array([-0.839522,  1.937122,  1.49598 ])],\n",
       "       [array(81.), array(575.),\n",
       "        array([-0.874481,  2.499055, -2.998155])],\n",
       "       [array(81.), array(588.), array([ 2.58541, -0.39859,  0.03299])],\n",
       "       [array(81.), array(959.),\n",
       "        array([ 1.715988, -0.147087,  2.880085])],\n",
       "       [array(81.), array(965.),\n",
       "        array([-1.915695,  0.345142,  3.05813 ])],\n",
       "       [array(87.), array(588.),\n",
       "        array([-0.567044, -0.325829,  0.32767 ])],\n",
       "       [array(87.), array(597.), array([1.033167, 2.497995, 1.74759 ])],\n",
       "       [array(87.), array(604.),\n",
       "        array([ 1.169979,  2.733059, -1.27963 ])],\n",
       "       [array(87.), array(953.),\n",
       "        array([ 1.577352,  0.448961, -2.82305 ])],\n",
       "       [array(87.), array(959.),\n",
       "        array([-1.472035, -0.337676, -3.10842 ])],\n",
       "       [array(94.), array(597.),\n",
       "        array([-2.073375,  1.943112,  1.63383 ])],\n",
       "       [array(94.), array(604.),\n",
       "        array([-1.910764,  2.161126, -1.39339 ])],\n",
       "       [array(94.), array(616.),\n",
       "        array([-0.567925,  0.985809,  1.72827 ])],\n",
       "       [array(94.), array(632.),\n",
       "        array([-0.25823 , -0.057031, -0.96101 ])],\n",
       "       [array(94.), array(637.), array([2.180403, 0.487495, 0.04818 ])],\n",
       "       [array(94.), array(947.),\n",
       "        array([ 1.819562,  0.355845, -2.812985])],\n",
       "       [array(94.), array(953.),\n",
       "        array([-1.765303, -0.154451, -2.93681 ])],\n",
       "       [array(101.), array(637.),\n",
       "        array([-2.066317,  0.407256, -0.09209 ])],\n",
       "       [array(101.), array(642.), array([ 0.70254,  0.05899, -0.15806])],\n",
       "       [array(101.), array(645.), array([1.268565, 0.117224, 1.302975])],\n",
       "       [array(101.), array(657.),\n",
       "        array([ 0.970735,  1.275733, -1.200065])],\n",
       "       [array(101.), array(663.), array([2.721944, 0.234701, 0.154665])],\n",
       "       [array(101.), array(665.), array([2.743644, 0.343689, 1.4844  ])],\n",
       "       [array(101.), array(939.),\n",
       "        array([ 1.736598,  0.040097, -3.13977 ])],\n",
       "       [array(101.), array(944.),\n",
       "        array([-1.229619,  0.290529,  3.03468 ])],\n",
       "       [array(101.), array(947.),\n",
       "        array([-2.44202 ,  0.327348, -2.953255])],\n",
       "       [array(101.), array(1138.), array([-0.04498, -2.12809,  1.40634])],\n",
       "       [array(101.), array(1188.),\n",
       "        array([ 1.043367, -1.716987,  3.078145])],\n",
       "       [array(107.), array(642.),\n",
       "        array([-2.988279,  0.073654, -0.10314 ])],\n",
       "       [array(107.), array(645.),\n",
       "        array([-2.426303,  0.162871,  1.357895])],\n",
       "       [array(107.), array(663.),\n",
       "        array([-0.981564,  0.35995 ,  0.209585])],\n",
       "       [array(107.), array(665.),\n",
       "        array([-0.96588 ,  0.469964,  1.53932 ])],\n",
       "       [array(107.), array(680.),\n",
       "        array([-1.101202,  1.597727, -1.08272 ])],\n",
       "       [array(107.), array(683.),\n",
       "        array([-0.373238,  0.237253, -0.97867 ])],\n",
       "       [array(107.), array(704.),\n",
       "        array([-0.174419, -0.744617, -2.36496 ])],\n",
       "       [array(107.), array(714.),\n",
       "        array([-0.001585, -1.518738,  0.04075 ])],\n",
       "       [array(107.), array(730.),\n",
       "        array([ 1.719547, -1.998733, -2.849795])],\n",
       "       [array(107.), array(929.),\n",
       "        array([ 0.4823  , -2.592003,  1.96035 ])],\n",
       "       [array(107.), array(935.),\n",
       "        array([-0.294578,  0.372182,  2.191385])],\n",
       "       [array(107.), array(939.),\n",
       "        array([-1.954743,  0.111552, -3.08485 ])],\n",
       "       [array(107.), array(1147.),\n",
       "        array([-0.324254, -1.481983,  0.14015 ])],\n",
       "       [array(107.), array(1150.),\n",
       "        array([ 0.364219, -1.279939,  1.435915])],\n",
       "       [array(114.), array(663.),\n",
       "        array([-2.629135, -1.250276,  1.555165])],\n",
       "       [array(114.), array(665.),\n",
       "        array([-2.732868, -1.21042 ,  2.8849  ])],\n",
       "       [array(114.), array(683.),\n",
       "        array([-2.373686, -0.684712,  0.36691 ])],\n",
       "       [array(114.), array(704.),\n",
       "        array([-1.372213, -0.710183, -1.01938 ])],\n",
       "       [array(114.), array(714.),\n",
       "        array([-0.579045, -0.714588,  1.38633 ])],\n",
       "       [array(114.), array(730.),\n",
       "        array([ 0.273187,  0.855886, -1.504215])],\n",
       "       [array(114.), array(929.),\n",
       "        array([ 0.575175, -0.482602, -2.977255])],\n",
       "       [array(114.), array(935.),\n",
       "        array([-2.487642, -0.577907, -2.74622 ])],\n",
       "       [array(114.), array(1147.),\n",
       "        array([-0.686929, -1.020901,  1.48573 ])],\n",
       "       [array(114.), array(1150.),\n",
       "        array([-0.730123, -0.304695,  2.781495])],\n",
       "       [array(114.), array(1158.),\n",
       "        array([ 1.96507 , -0.055808,  0.08396 ])],\n",
       "       [array(114.), array(1175.),\n",
       "        array([ 2.570804, -0.255481,  2.91302 ])],\n",
       "       [array(121.), array(754.),\n",
       "        array([-0.176774, -0.090674, -0.10416 ])],\n",
       "       [array(121.), array(759.),\n",
       "        array([ 2.795658, -0.372882, -0.04799 ])],\n",
       "       [array(121.), array(923.),\n",
       "        array([-0.35994 , -0.158411,  2.81678 ])],\n",
       "       [array(121.), array(1158.),\n",
       "        array([-1.765259,  0.015433,  0.09439 ])],\n",
       "       [array(121.), array(1164.),\n",
       "        array([ 1.939145, -0.416391, -0.07191 ])],\n",
       "       [array(121.), array(1175.),\n",
       "        array([-1.157476, -0.177912,  2.92345 ])],\n",
       "       [array(126.), array(754.),\n",
       "        array([-2.366181, -0.037747,  0.07694 ])],\n",
       "       [array(126.), array(759.), array([0.60847, 0.22003, 0.13311])],\n",
       "       [array(126.), array(762.), array([1.256487, 0.430359, 1.24809 ])],\n",
       "       [array(126.), array(923.),\n",
       "        array([-2.534151, -0.137367,  2.99788 ])],\n",
       "       [array(126.), array(1164.),\n",
       "        array([-0.2262  ,  0.022965,  0.10919 ])],\n",
       "       [array(132.), array(762.),\n",
       "        array([-2.43904 ,  0.574751,  1.15347 ])],\n",
       "       [array(132.), array(778.),\n",
       "        array([-1.013501,  1.621706,  1.56121 ])],\n",
       "       [array(132.), array(792.),\n",
       "        array([-0.882133,  1.768911, -1.79792 ])],\n",
       "       [array(132.), array(800.), array([1.214689, 0.372313, 0.0059  ])],\n",
       "       [array(132.), array(907.),\n",
       "        array([ 2.246094, -0.166035, -3.06389 ])],\n",
       "       [array(132.), array(911.),\n",
       "        array([ 0.28743 , -0.091199,  2.898905])],\n",
       "       [array(132.), array(1084.),\n",
       "        array([-0.744736, -2.350749, -1.849821])],\n",
       "       [array(138.), array(800.),\n",
       "        array([-2.384799,  0.661256,  0.02339 ])],\n",
       "       [array(138.), array(806.), array([1.314158, 0.976356, 0.186155])],\n",
       "       [array(138.), array(821.),\n",
       "        array([ 1.339602,  0.836157, -1.72864 ])],\n",
       "       [array(138.), array(823.),\n",
       "        array([ 1.391787,  0.830084, -0.20168 ])],\n",
       "       [array(138.), array(903.), array([0.257877, 0.385262, 2.46846 ])],\n",
       "       [array(138.), array(904.), array([0.21146 , 0.361905, 2.91854 ])],\n",
       "       [array(138.), array(907.),\n",
       "        array([-1.344137,  0.141028, -3.0464  ])],\n",
       "       [array(151.), array(828.),\n",
       "        array([-2.783661,  1.064375,  1.52977 ])],\n",
       "       [array(151.), array(847.),\n",
       "        array([-2.892269,  0.357584, -1.72055 ])],\n",
       "       [array(151.), array(855.),\n",
       "        array([ 0.421564, -0.036975, -0.07298 ])],\n",
       "       [array(151.), array(895.),\n",
       "        array([-0.308314,  0.072387, -2.94072 ])],\n",
       "       [array(151.), array(897.),\n",
       "        array([-0.653297, -0.34078 , -2.14582 ])],\n",
       "       [array(151.), array(1029.),\n",
       "        array([ 2.658346, -1.322835, -1.61216 ])],\n",
       "       [array(157.), array(297.),\n",
       "        array([-1.431635, -0.047784, -0.1921  ])],\n",
       "       [array(157.), array(305.),\n",
       "        array([ 2.323872, -0.569035,  0.02611 ])],\n",
       "       [array(157.), array(1029.),\n",
       "        array([-0.951615, -1.287326, -1.5808  ])],\n",
       "       [array(157.), array(1217.),\n",
       "        array([-0.999593, -2.295582,  1.58812 ])],\n",
       "       [array(163.), array(297.),\n",
       "        array([-0.152489, -1.643361,  1.29416 ])],\n",
       "       [array(163.), array(305.), array([0.683999, 2.054722, 1.51237 ])],\n",
       "       [array(163.), array(1029.),\n",
       "        array([ 1.123157, -1.269718, -0.09454 ])],\n",
       "       [array(163.), array(1217.),\n",
       "        array([ 2.123761, -1.402656,  3.07438 ])],\n",
       "       [array(166.), array(297.),\n",
       "        array([-2.448623, -0.097923, -0.18193 ])],\n",
       "       [array(166.), array(305.),\n",
       "        array([ 1.31199 , -0.580954,  0.03628 ])],\n",
       "       [array(166.), array(1016.),\n",
       "        array([ 2.45332 , -0.496114, -3.104945])],\n",
       "       [array(166.), array(1029.),\n",
       "        array([-1.956023, -1.33252 , -1.57063 ])],\n",
       "       [array(172.), array(305.),\n",
       "        array([-2.223813, -0.584373,  0.13961 ])],\n",
       "       [array(172.), array(315.), array([0.916741, 1.192284, 1.7682  ])],\n",
       "       [array(172.), array(328.),\n",
       "        array([ 0.389353,  2.701274, -1.41888 ])],\n",
       "       [array(172.), array(337.), array([0.634889, 0.129966, 2.22049 ])],\n",
       "       [array(172.), array(342.),\n",
       "        array([ 1.382392, -0.108475, -0.25566 ])],\n",
       "       [array(172.), array(1010.),\n",
       "        array([ 2.747473,  0.046909, -3.04821 ])],\n",
       "       [array(172.), array(1016.),\n",
       "        array([-1.097321, -0.382262, -3.001615])],\n",
       "       [array(178.), array(342.),\n",
       "        array([-2.376956, -0.213431, -0.18304 ])],\n",
       "       [array(178.), array(367.),\n",
       "        array([-0.259854, -0.86316 ,  1.0125  ])],\n",
       "       [array(178.), array(374.),\n",
       "        array([ 1.732968, -1.057467, -0.49913 ])],\n",
       "       [array(178.), array(1003.),\n",
       "        array([ 1.826983, -1.529516,  2.351785])],\n",
       "       [array(178.), array(1008.),\n",
       "        array([-0.403552,  0.156306,  2.716725])],\n",
       "       [array(178.), array(1010.),\n",
       "        array([-1.026746,  0.040588, -2.97559 ])],\n",
       "       [array(183.), array(367.),\n",
       "        array([-1.618063, -1.419954,  1.68608 ])],\n",
       "       [array(183.), array(374.),\n",
       "        array([ 0.06072 , -0.328723,  0.17445 ])],\n",
       "       [array(183.), array(382.), array([0.411911, 2.011657, 2.77991 ])],\n",
       "       [array(183.), array(387.), array([1.173883, 2.095476, 0.233105])],\n",
       "       [array(183.), array(1003.),\n",
       "        array([ 0.42866 , -0.639029,  3.025365])],\n",
       "       [array(183.), array(1008.),\n",
       "        array([-2.366308, -0.712782, -2.89288 ])],\n",
       "       [array(189.), array(400.),\n",
       "        array([-1.948699,  2.200613, -1.11637 ])],\n",
       "       [array(189.), array(414.),\n",
       "        array([-0.254807, -1.783532, -1.50836 ])],\n",
       "       [array(189.), array(454.),\n",
       "        array([ 0.83136 , -1.515476,  1.318995])],\n",
       "       [array(189.), array(994.),\n",
       "        array([ 1.332308, -0.340434,  2.895765])],\n",
       "       [array(195.), array(437.),\n",
       "        array([-0.591701, -2.641206, -0.20018 ])],\n",
       "       [array(195.), array(467.), array([-0.09121,  1.36514,  1.11842])],\n",
       "       [array(195.), array(484.),\n",
       "        array([ 0.655807,  2.573505, -2.00924 ])],\n",
       "       [array(195.), array(494.),\n",
       "        array([ 0.855236, -0.512254, -0.30125 ])],\n",
       "       [array(195.), array(988.),\n",
       "        array([ 1.415155, -0.856188,  3.05238 ])],\n",
       "       [array(195.), array(994.),\n",
       "        array([-2.192048, -0.521524,  3.098765])],\n",
       "       [array(201.), array(494.),\n",
       "        array([-2.683977, -0.793909, -0.03443 ])],\n",
       "       [array(201.), array(500.),\n",
       "        array([ 1.004735, -0.526385,  0.31434 ])],\n",
       "       [array(201.), array(982.),\n",
       "        array([ 1.557172, -0.467671, -3.046225])],\n",
       "       [array(201.), array(988.),\n",
       "        array([-2.053188, -0.978041, -2.963985])],\n",
       "       [array(203.), array(500.),\n",
       "        array([-0.236863, -0.54809 ,  0.34829 ])],\n",
       "       [array(203.), array(508.), array([1.553867, 1.875066, 1.3998  ])],\n",
       "       [array(203.), array(522.),\n",
       "        array([ 1.780329, -0.307182,  0.02113 ])],\n",
       "       [array(203.), array(982.),\n",
       "        array([ 0.313263, -0.470658, -3.012275])],\n",
       "       [array(209.), array(508.),\n",
       "        array([-2.161765,  2.058644,  1.46878 ])],\n",
       "       [array(209.), array(522.),\n",
       "        array([-1.785428, -0.102806,  0.09011 ])],\n",
       "       [array(209.), array(528.),\n",
       "        array([ 1.736233,  0.012599, -0.09713 ])],\n",
       "       [array(209.), array(976.),\n",
       "        array([ 0.433683, -0.153481, -3.06333 ])],\n",
       "       [array(220.), array(528.),\n",
       "        array([-1.597199, -1.638814,  1.31131 ])],\n",
       "       [array(220.), array(532.),\n",
       "        array([-0.939792,  0.407621,  1.22563 ])],\n",
       "       [array(220.), array(564.),\n",
       "        array([-0.62348 ,  0.251998, -0.01219 ])],\n",
       "       [array(220.), array(567.),\n",
       "        array([-0.002013,  0.298972,  1.48154 ])],\n",
       "       [array(220.), array(570.),\n",
       "        array([-0.062402,  1.94616 ,  1.54286 ])],\n",
       "       [array(220.), array(575.),\n",
       "        array([-0.123656,  2.505837, -2.951275])],\n",
       "       [array(220.), array(959.),\n",
       "        array([ 2.587973, -0.016   ,  2.926965])],\n",
       "       [array(220.), array(965.),\n",
       "        array([-1.062787,  0.305497,  3.10501 ])],\n",
       "       [array(226.), array(231.),\n",
       "        array([ 1.660221,  0.12692 , -0.04982 ])],\n",
       "       [array(226.), array(588.),\n",
       "        array([-0.273207, -0.444423, -0.01616 ])],\n",
       "       [array(226.), array(597.), array([2.185242, 1.6747  , 1.40376 ])],\n",
       "       [array(226.), array(953.),\n",
       "        array([ 2.006857, -0.437847,  3.116305])],\n",
       "       [array(226.), array(959.),\n",
       "        array([-1.129223, -0.150509,  2.830935])],\n",
       "       [array(923.), array(1175.), array([0.74961, 0.273  , 0.10667])],\n",
       "       [array(929.), array(1175.),\n",
       "        array([-2.005899,  0.102421, -0.39291 ])],\n",
       "       [array(939.), array(1188.),\n",
       "        array([ 0.696432,  1.755817, -0.06527 ])],\n",
       "       [array(1029.), array(1217.),\n",
       "        array([ 1.008685, -0.037889, -3.114265])],\n",
       "       [array(1044.), array(1217.),\n",
       "        array([ 2.098504, -0.83843 ,  0.47989 ])],\n",
       "       [array(1050.), array(1210.),\n",
       "        array([-0.300235, -2.565672,  1.53656 ])],\n",
       "       [array(1050.), array(1217.),\n",
       "        array([0.231465, 1.66829 , 1.55914 ])],\n",
       "       [array(1056.), array(1217.),\n",
       "        array([ 2.128743, -0.472375, -0.93116 ])],\n",
       "       [array(1061.), array(1210.),\n",
       "        array([ 1.269232, -1.441319, -2.90961 ])],\n",
       "       [array(1075.), array(1210.),\n",
       "        array([-1.662329,  0.436026, -1.59984 ])],\n",
       "       [array(1084.), array(1210.),\n",
       "        array([2.070374, 1.896269, 1.836205])],\n",
       "       [array(1088.), array(1210.),\n",
       "        array([ 0.609503, -1.485166,  0.53677 ])],\n",
       "       [array(1093.), array(1210.),\n",
       "        array([-0.233452, -0.529583,  1.49436 ])],\n",
       "       [array(1098.), array(1210.),\n",
       "        array([-0.37828 , -0.172442, -2.937025])],\n",
       "       [array(1138.), array(1188.),\n",
       "        array([ 0.583736, -1.006358,  1.671805])],\n",
       "       [array(1147.), array(1188.),\n",
       "        array([-2.232188,  0.113982,  2.992915])],\n",
       "       [array(1150.), array(1188.),\n",
       "        array([-0.789302,  2.834301,  1.69715 ])],\n",
       "       [array(1158.), array(1175.),\n",
       "        array([ 0.586855, -0.249767,  2.82906 ])]], dtype=object)"
      ]
     },
     "execution_count": 26,
     "metadata": {},
     "output_type": "execute_result"
    }
   ],
   "source": [
    "donnees_odo = []\n",
    "donnees_loop = []\n",
    "\n",
    "def recup_donnees(fichier):\n",
    "    with open(fichier, 'r') as intel:\n",
    "        for ligne in intel:\n",
    "            l = ligne.split()\n",
    "            for i in range(1,len(l)):\n",
    "                l[i]=float(l[i])\n",
    "            if l[0]==\"EDGE_ODO\":\n",
    "                donnees_odo.append(l[1:3]+[l[3:]])\n",
    "            else:\n",
    "                donnees_loop.append(l[1:3]+[l[3:]])\n",
    "                \n",
    "recup_donnees(\"INTEL.txt\")\n",
    "np.array(donnees_loop)\n"
   ]
  },
  {
   "cell_type": "markdown",
   "metadata": {},
   "source": [
    "### Question 2"
   ]
  },
  {
   "cell_type": "code",
   "execution_count": 27,
   "metadata": {
    "scrolled": false
   },
   "outputs": [
    {
     "data": {
      "image/png": "[encoded data removed]",
      "text/plain": [
       "<matplotlib.figure.Figure at 0x29f9fc75898>"
      ]
     },
     "metadata": {},
     "output_type": "display_data"
    }
   ],
   "source": [
    "def estim_trajectoire(odometrie):\n",
    "    liste_x = [0]\n",
    "    liste_y = [0]\n",
    "    liste_theta = [0]\n",
    "    for i in range(len(odometrie)):\n",
    "        p_i = np.array([liste_x[-1], liste_y[-1], liste_theta[-1]])\n",
    "        di = np.array(odometrie[i][2])\n",
    "        rot = np.array([[cos(p_i[2]), -sin(p_i[2]), 0], [sin(p_i[2]),cos(p_i[2]), 0], [0, 0, 1]])\n",
    "        p_i = p_i + np.dot(rot, di)\n",
    "        liste_x.append(p_i[0])\n",
    "        liste_y.append(p_i[1])\n",
    "        liste_theta.append(p_i[2])\n",
    "    return liste_x, liste_y, liste_theta\n",
    "\n",
    "x, y, t = estim_trajectoire(donnees_odo)\n",
    "plt.figure()\n",
    "plt.plot(x, y, 'r--')\n",
    "plt.show()\n",
    "        \n"
   ]
  },
  {
   "cell_type": "markdown",
   "metadata": {},
   "source": [
    "### Question 3"
   ]
  },
  {
   "cell_type": "markdown",
   "metadata": {},
   "source": [
    "#### Convexité de la fonction\n",
    "\n",
    "Interessons nous d'abord à la convexité de la fonction. Comme celle-ci contient des cosinus et sinus en fonction des variables $\\theta$ de chaque pose, on sent que la fonction ne sera pas convexe. Un moyen de vérifier qu'elle ne l'est pas est de faire varier simplement le $\\theta$ d'une seule pose et de tracer l'allure de la courbe que l'on obtient."
   ]
  },
  {
   "cell_type": "code",
   "execution_count": 28,
   "metadata": {
    "scrolled": true
   },
   "outputs": [
    {
     "name": "stdout",
     "output_type": "stream",
     "text": [
      "609595.6753715187\n",
      "1770.1931478963636\n",
      "1770.1931478963618\n"
     ]
    },
    {
     "data": {
      "text/plain": [
       "'liste_theta=np.linspace(-3*pi,3*pi,300)\\nliste_f=[]\\nfor i in range(300):\\n    P[3*k+2]=liste_theta[i]\\n    liste_f.append(f_minim(P))\\n    \\nplt.figure()\\nplt.plot(liste_theta, liste_f, \\'b--\\')\\nplt.title(\"Fonction à minimiser\")\\n\\n\\nplt.show()'"
      ]
     },
     "execution_count": 28,
     "metadata": {},
     "output_type": "execute_result"
    }
   ],
   "source": [
    "#Definition de la fonction à minimiser f_minim en trois étapes\n",
    "\n",
    "def F(p_i,di):\n",
    "    rot = np.array([[np.cos(p_i[2]), -np.sin(p_i[2]), 0], [np.sin(p_i[2]),np.cos(p_i[2]), 0], [0, 0, 1]])\n",
    "    p_i = p_i + np.dot(rot, np.array(di))\n",
    "    return p_i\n",
    "    \n",
    "def norme_carree(X):\n",
    "    return sum(X[i]**2 for i in range(len(X)))\n",
    "    \n",
    "def f_minim_pose(P,i):\n",
    "    \"\"\"C'est la fonction qui calcule les termes de la somme où intervient uniquement la pose Pi\"\"\"\n",
    "    \n",
    "    #Partie odométrie\n",
    "    p_i=np.array(P[i])\n",
    "    pi_1=np.array(P[i+1])\n",
    "    relations_odo=[]\n",
    "    if i<len(donnees_odo):\n",
    "        relations_odo = donnees_odo[i]\n",
    "    diff_o=pi_1-F(p_i,np.array(relations_odo[2]))\n",
    "    a=norme_carree(diff_o)\n",
    "\n",
    "    #Partie loop\n",
    "    relations_loop = [relation for relation in donnees_loop if relation[0]==i] #Pas les relations où i est le deuxième indice pour ne pas compter les relations 2 fois\n",
    "    indexes_loop = [int(relation[1]) for relation in relations_loop]\n",
    "    Pj=[np.array(P[j]) for j in indexes_loop] #Les poses qui ont des relations de fermeture de boucle avec la pose Pi\n",
    "    for k in range(len(relations_loop)):\n",
    "        diff=Pj[k]-F(p_i,np.array(relations_loop[k][2]))\n",
    "        a+=norme_carree(diff)\n",
    "    return a\n",
    "\n",
    "def f_minim(P):\n",
    "    P=np.array([[P[3*i],P[3*i+1],P[3*i+2]] for i in range(int(len(P)/3))]) #On passe le vectur en version matricielle [[x1,y1,theta1],...,[xn,yn,thetan]] pour utiliser la fonction précédente\n",
    "    return sum([f_minim_pose(P,i) for i in range(len(donnees_odo))])\n",
    "\n",
    "\n",
    "#Vecteur de R^3n correspondant à l'estimation précédente\n",
    "P=[]\n",
    "for i in range(len(x)):\n",
    "    P.append(x[i])\n",
    "    P.append(y[i])\n",
    "    P.append(t[i])\n",
    "P=np.array(P)\n",
    "    \n",
    "#Variation de theta de la pose k\n",
    "k=19\n",
    "print(f_minim(P))\n",
    "print(np.linalg.norm(P))\n",
    "print(np.sqrt(norme_carree(P)))\n",
    "\n",
    "\"\"\"liste_theta=np.linspace(-3*pi,3*pi,300)\n",
    "liste_f=[]\n",
    "for i in range(300):\n",
    "    P[3*k+2]=liste_theta[i]\n",
    "    liste_f.append(f_minim(P))\n",
    "    \n",
    "plt.figure()\n",
    "plt.plot(liste_theta, liste_f, 'b--')\n",
    "plt.title(\"Fonction à minimiser\")\n",
    "\n",
    "\n",
    "plt.show()\"\"\""
   ]
  },
  {
   "cell_type": "markdown",
   "metadata": {},
   "source": [
    "On voit donc que la fonction n'est pas convexe. \n",
    "\n",
    "#### Existence et unicité de la solution\n",
    "\n",
    "De plus, sur cet exemple, on a un minimum atteint pour deux valeurs de $\\theta$ différentes, ce qui peut supposer qu'il soit possible d'obtenir le même résultat pour un vecteur P qui minimise la fonction. Si ce n'est pas le cas pour tout jeu de données d'entrée (s'il n'y a que des relations d'odométrie, il y'a unicité de la solution par exemple), on peut trouver des jeux de données qui ont plusieurs solutions. Pour plus de détails, des démonstrations moins qualitatives sont en pièce jointe.\n",
    "\n",
    "L'existence de la solution se justifie par le caractère fermé borné de l'espace dans lequel on cherche nos solutions, qui n'est pas $R^{3n}$ tout entier mais restreint par les dimensions du laboratoire selon x et y. Pour les theta, l'espace dans lequel on les cherche est au plus [0,2n$\\pi]^{n}$ car tous les d$\\theta$ appartiennent à [0,2$\\pi$]."
   ]
  },
  {
   "cell_type": "markdown",
   "metadata": {},
   "source": [
    "#### Conditionnement\n",
    "\n",
    "Calculons désormais le conditionnement du problème, c'est-à-dire la sensibilité relative de la fonction f par rapport à une légère variation spatiale du point en laquelle on l'évalue. On va donc calculer $\\frac{\\|f(x)-f(x+\\delta)\\|}{\\|f(x)_\\| \\epsilon}$\n"
   ]
  },
  {
   "cell_type": "code",
   "execution_count": 5,
   "metadata": {},
   "outputs": [
    {
     "name": "stdout",
     "output_type": "stream",
     "text": [
      "[0.0, 0.0, 2.0096778896389536, 1.9839021097122276, 0.0, 0.0, 0.0, 1.9013552299837932, 0.0, 0.0, 1.7875370991204997, 0.0, 0.0, 0.0, 0.0, 3.143581394916293, 0.0, 2.974693309560196, 0.0, 0.0, 2.7733617165083744, 0.0, 0.0, 1.2714516714818316, 0.0, 0.0, 0.0, 0.0, 2.0896926398727746, 2.0564963299245735, 1.992411997361156, 0.0, 0.0, 1.8337715048972367, 0.0, 0.0, 1.6589015049068978, 0.0, 1.5626858939734607, 0.0, 0.0, 0.0, 0.0, 0.0, 1.2739591149631946, 1.2651401730262195, 0.0, 0.0, 2.1974188390271703, 0.0, 2.1438334978122713, 0.0, 0.0, 1.9690737888100542, 0.0, 0.0, 0.0, 1.7565524294691581, 0.0, 0.0, 0.0, 0.0, 0.0, 1.513423954879204, 0.0, 0.0, 1.444337231626798, 0.0, 0.0, 0.0, 1.2644776524781063, 0.0, 1.2090333406050013, 0.0, 0.0, 0.0, 1.115835463212356, 0.0, 0.0, 0.0, 0.0, 0.0, 0.0, 0.0, 1.903143144865217, 0.0, 0.0, 0.0, 0.0, 0.0, 0.0, 0.0, 0.0, 0.0, 0.0, 0.0, 0.0, 0.0, 2.7592159316495035]\n",
      "Moyenne: 0.5136865136796215\n"
     ]
    }
   ],
   "source": [
    "epsilon=10**(-16)\n",
    "m=10\n",
    "n=3*(len(donnees_odo)+1)\n",
    "\n",
    "def conditionnement(f,liste,epsilon,deplacement):\n",
    "    l=[]\n",
    "    for x in liste:\n",
    "        k=abs((f(np.array(x)+np.array(deplacement))-f(x))/f(x))*1/epsilon\n",
    "        l.append(k)\n",
    "    return l\n",
    "\n",
    "def normalise(x):\n",
    "    norm=np.linalg.norm(np.array(x))\n",
    "    n=len(x)\n",
    "    for i in range(n):\n",
    "        x[i]=x[i]/norm\n",
    "    return x\n",
    "\n",
    "from random import uniform\n",
    "\n",
    "#on crée des vecteurs de façon aléatoire de norme variant de 1 à 100 afin de déterminer la valeur de k et se cantonner à un espace borné, comme le laboratoire\n",
    "liste=[normalise([uniform(-i,i) for k in range(n)]) for i in range (1,100)]\n",
    "p=len(liste)\n",
    "for i in range(p):\n",
    "    for j in range(n):\n",
    "        liste[i][j]=liste[i][j]*(i+1)\n",
    "\n",
    "\n",
    "#print([[f_minim(vecteur+deplacement),f_minim(vecteur)] for vecteur in liste])\n",
    "\n",
    "\n",
    "deplacement=[uniform(-1,1)*epsilon for k in range(n)] #on crée un déplacement de façon aléatoire et plus petit que $\\espilon$ en valeur absolue pour chaque composante\n",
    "\n",
    "\"\"\"X=liste[0]\n",
    "print(np.array(deplacement))\n",
    "print(np.array(X))\n",
    "print(np.array(liste[0])+np.array(deplacement))\n",
    "\"\"\"\n",
    "\n",
    "l=conditionnement(f_minim,liste,epsilon,deplacement)\n",
    "print(l)\n",
    "\n",
    "k=sum(l)/len(l)\n",
    "print(\"Moyenne:\", k)"
   ]
  },
  {
   "cell_type": "markdown",
   "metadata": {},
   "source": [
    "Même si la valeur de k est relativement faible (moyenne inférieure à 1) elle reste très grande devant epsilon ce qui indique un mauvais conditionnement du problème.\n",
    "\n",
    "\n",
    "La valeur de k obtenue est faible devant $\\epsilon$, ce qui signifie que le problème est bien conditionné. On sait de plus que la fonction f diverge quand $\\|M\\|$, $M \\in R^{3n}$ diverge. Ainsi, si f(y) est plutôt proche de f(x), cela signifie que x et y ne sont pas trop éloignés spatialement l'un de l'autre.\n",
    "Et, bien que l'on ne prenne pas en compte les données de fermeture de boucle, on peut considérer que le vecteur calculé en question 2 de cette deuxième partie est une première approximation (bien que grossière) du vecteur solution. Ainsi, il n'est pas trop éloigné spatialement du vecteur x* solution.\n",
    "Comme il s'agit d'un problème d'optimisation non-convexe, lorsque l'on a atteint un minimum local (gradient nul), on ne peut savoir qu'il est global uniquement si l'on a testé toutes les autres valeurs, ce qui est très coûteux.\n",
    "Mais, si l'on sait qu'une racine n'est pas trop éloignée spatialement du minimum global, on peut en utilisant des méthodes d'optimisation pour des fonctions convexes, espérer converger vers ce minimum global.\n",
    "C'est ce choix que nous avons fait pour la question suivante."
   ]
  },
  {
   "cell_type": "markdown",
   "metadata": {},
   "source": [
    "### Question 4"
   ]
  },
  {
   "cell_type": "markdown",
   "metadata": {},
   "source": [
    "Même si la fonction n'est pas convexe, les oscillations très légères comparées au caractère quadratique de la fonction nous permettent de penser qu'une méthode de descente de gradient à pas variable avec conditions de Wolfe ne nous mènera au minimum global. On part de l'estimation avec les relations d'odométrie seulement."
   ]
  },
  {
   "cell_type": "code",
   "execution_count": 29,
   "metadata": {},
   "outputs": [
    {
     "name": "stdout",
     "output_type": "stream",
     "text": [
      "[  0.           0.           0.         ...  -7.61606458 -30.64994328\n",
      "  83.53317   ]\n",
      "[0. 0. 0. ... 0. 0. 0.]\n",
      "4790.796752787352\n",
      "BFGS...\n",
      "[0. 0. 0. ... 0. 0. 0.]\n",
      "1585.3049787200266\n",
      "[0. 0. 0. ... 0. 0. 0.]\n",
      "1292.7376361376066\n",
      "[0. 0. 0. ... 0. 0. 0.]\n",
      "1000.3606962655019\n",
      "[0. 0. 0. ... 0. 0. 0.]\n",
      "969.1330840738584\n",
      "[0. 0. 0. ... 0. 0. 0.]\n",
      "850.0450690029353\n",
      "[0. 0. 0. ... 0. 0. 0.]\n",
      "750.6512647441824\n",
      "[0. 0. 0. ... 0. 0. 0.]\n",
      "720.0155267170841\n",
      "[0. 0. 0. ... 0. 0. 0.]\n",
      "670.9165412562581\n",
      "[0. 0. 0. ... 0. 0. 0.]\n",
      "656.6808307590304\n",
      "[ 0.00000000e+00  0.00000000e+00  0.00000000e+00 ... -3.32888249e-07\n",
      " -3.85468859e-07  2.25092833e-07]\n",
      "561.81563841443\n",
      "[ 0.00000000e+00  0.00000000e+00  0.00000000e+00 ... -4.84853506e-06\n",
      " -5.30361189e-06  3.28472569e-06]\n",
      "545.4818303654422\n",
      "[ 0.00000000e+00  0.00000000e+00  0.00000000e+00 ... -3.67269647e-05\n",
      " -3.68865183e-05  2.44480207e-05]\n",
      "538.4422829129214\n",
      "[ 0.          0.          0.         ... -0.0001642  -0.00015149\n",
      "  0.00010787]\n",
      "492.2560375268388\n",
      "[ 0.          0.          0.         ... -0.00044154 -0.00037929\n",
      "  0.00028828]\n",
      "387.8262478137809\n",
      "[ 0.          0.          0.         ... -0.00167336 -0.00131643\n",
      "  0.00108936]\n",
      "452.7196645808664\n",
      "[ 0.          0.          0.         ... -0.00499471 -0.00364571\n",
      "  0.00325682]\n",
      "439.78481529465597\n",
      "[ 0.          0.          0.         ... -0.01210933 -0.00816164\n",
      "  0.0079321 ]\n",
      "448.19263413906526\n",
      "[ 0.          0.          0.         ... -0.01934096 -0.01230124\n",
      "  0.01272605]\n",
      "365.0357170857815\n",
      "[ 5.48476480e-18  4.80770172e-17  1.02999206e-16 ... -4.92065357e-02\n",
      " -2.75211138e-02  3.27704224e-02]\n",
      "421.1529879610203\n",
      "[ 1.13431918e-16  1.14362438e-15  2.39890573e-15 ... -9.27550234e-02\n",
      " -4.49120800e-02  6.29445635e-02]\n",
      "378.9899811266646\n",
      "[ 1.24265902e-15  1.45046077e-14  2.98457006e-14 ... -1.67229371e-01\n",
      " -6.60105518e-02  1.17412675e-01]\n",
      "397.16291102542783\n",
      "[ 5.23225069e-15  7.01448581e-14  1.42002946e-13 ... -2.24520224e-01\n",
      " -7.45475714e-02  1.63574286e-01]\n",
      "280.9863072241227\n",
      "[ 4.08615816e-14  6.64105782e-13  1.31801471e-12 ... -3.49547487e-01\n",
      " -7.09680389e-02  2.83789530e-01]\n",
      "262.6080748891122\n",
      "[ 1.45458977e-13  2.83440370e-12  5.53526886e-12 ... -4.42742431e-01\n",
      " -4.91620288e-02  4.02365128e-01]\n",
      "221.69099996046168\n",
      "[ 7.21339145e-13  1.80492164e-11  3.45961408e-11 ... -5.50979873e-01\n",
      "  2.79906778e-02  6.48447930e-01]\n",
      "234.7630117991789\n",
      "[ 1.84287599e-12  5.92581460e-11  1.11858140e-10 ... -5.82370121e-01\n",
      "  9.47992650e-02  8.66036915e-01]\n",
      "167.5303786862335\n",
      "[ 4.11211094e-12  1.92160665e-10  3.56404035e-10 ... -5.42432833e-01\n",
      "  1.39019462e-01  1.08839757e+00]\n",
      "179.1400386969528\n",
      "[ 8.35968974e-12  6.59196206e-10  1.20236369e-09 ... -4.24759436e-01\n",
      "  1.60954259e-01  1.43171748e+00]\n",
      "152.62510766603634\n",
      "[ 7.89102256e-12  1.94552463e-09  3.48666366e-09 ... -2.76968678e-01\n",
      "  9.94934239e-02  1.75283178e+00]\n",
      "133.46402929298216\n",
      "[-5.46665722e-11  9.12920699e-09  1.60052090e-08 ...  3.91245474e-02\n",
      " -2.12747784e-01  2.42109727e+00]\n",
      "186.2539902579055\n",
      "Nombre d'iterations :  30\n",
      "Durée :  473.5356514453888\n",
      "\n"
     ]
    }
   ],
   "source": [
    "#On définit le gradient\n",
    "def grad_f_minim(p) : \n",
    "    gradf = autograd.grad(f_minim)\n",
    "    gradient = gradf(p)\n",
    "    return gradient\n",
    "\n",
    "M=np.array([uniform(-100,100) for k in range(n)])\n",
    "print(P)\n",
    "print(grad_f_minim(P))\n",
    "print(np.sqrt(norme_carree(grad_f_minim(P))))\n",
    "\n",
    "# Conditions de Wolfe\n",
    "def wolfe_step(fun, grad_fun, xk, pk, c1 = 0.25, c2 = 0.75, M = 1000):\n",
    "    l_moins = 0\n",
    "    l_plus = 0\n",
    "    f_xk = fun(xk)\n",
    "    grad_f_xk = grad_fun(xk)\n",
    "    li = 1 #- 2*0.1*abs(f_x) / np.dot(grad_f_x,d)\n",
    "    i = 0\n",
    "    while(i < M):\n",
    "        if (fun(xk+li*pk)>(f_xk+c1*li*np.dot(grad_f_xk,pk))):\n",
    "            l_plus = li\n",
    "            li = (l_moins+l_plus)/2.0\n",
    "        else:\n",
    "            if (np.dot(grad_fun(xk+li*pk),pk) < c2*np.dot(grad_f_xk,pk)):\n",
    "                l_moins = li\n",
    "                if (l_plus == 0):\n",
    "                    li = 2*li\n",
    "                else:\n",
    "                    li = (l_moins+l_plus)/2.0\n",
    "            else:\n",
    "                return li\n",
    "        i = i + 1\n",
    "    return li\n",
    "\n",
    "def optim_BFGS(fun, grad_fun, x0, max_iter = 30, epsilon_grad_fun = 1e-8):\n",
    "    k = 0\n",
    "    xk = x0\n",
    "    grad_f_xk = grad_fun(xk)\n",
    "    Hk = np.identity(len(x0))\n",
    "    while ((k<max_iter) and (np.linalg.norm(grad_f_xk)>epsilon_grad_fun)):\n",
    "        pk = -np.matmul(Hk,grad_f_xk)\n",
    "        lk = wolfe_step(fun, grad_fun, xk, pk)\n",
    "        xk1 = xk + lk*pk\n",
    "        grad_f_xk1 = grad_fun(xk1)\n",
    "        print(grad_f_xk1)\n",
    "        print(np.linalg.norm(grad_f_xk1))\n",
    "        sk = xk1 - xk\n",
    "        yk = grad_f_xk1 - grad_f_xk\n",
    "        gammak = 1.0/np.dot(yk, sk)\n",
    "        Ak = np.identity(len(x0)) - gammak*np.multiply(sk[:, np.newaxis], yk)\n",
    "        Bk = np.identity(len(x0)) - gammak*np.multiply(yk[:, np.newaxis], sk)\n",
    "        Hk = np.matmul(np.matmul(Ak, Hk), Bk) + gammak*np.multiply(sk[:, np.newaxis], sk)\n",
    "        xk = xk1\n",
    "        grad_f_xk = grad_f_xk1\n",
    "        k = k + 1\n",
    "    print(\"Nombre d'iterations : \", k)\n",
    "    return xk\n",
    "\n",
    "#BFGS\n",
    "print(\"BFGS...\")\n",
    "start_time = time.time()\n",
    "res = optim_BFGS(f_minim, grad_f_minim, P)\n",
    "print(\"Durée : \", time.time()-start_time)\n",
    "print()"
   ]
  },
  {
   "cell_type": "code",
   "execution_count": null,
   "metadata": {
    "scrolled": true
   },
   "outputs": [
    {
     "name": "stdout",
     "output_type": "stream",
     "text": [
      "186.2539902579055\n",
      "BFGS...\n",
      "[-1.44353522e-10  1.31934374e-08  2.28576188e-08 ...  2.37385618e-02\n",
      " -2.64249051e-01  2.43975014e+00]\n",
      "86.68147793998759\n",
      "[-4.89218791e-10  2.63727810e-08  4.48213971e-08 ... -1.35352924e-02\n",
      " -3.79490548e-01  2.48198465e+00]\n",
      "104.0685974926861\n",
      "[-1.64449714e-09  6.43074392e-08  1.07236140e-07 ... -9.12020084e-02\n",
      " -5.97556656e-01  2.56273703e+00]\n",
      "114.92660408120601\n",
      "[-4.04054957e-09  1.29958764e-07  2.13213567e-07 ... -1.68998398e-01\n",
      " -7.71796109e-01  2.62823948e+00]\n",
      "98.68312056547889\n"
     ]
    }
   ],
   "source": [
    "print(np.linalg.norm(grad_f_minim(res)))\n",
    "print(\"BFGS...\")\n",
    "start_time = time.time()\n",
    "res = optim_BFGS(f_minim, grad_f_minim, res)\n",
    "print(\"Durée : \", time.time()-start_time)\n",
    "print()"
   ]
  },
  {
   "cell_type": "code",
   "execution_count": 20,
   "metadata": {},
   "outputs": [
    {
     "name": "stdout",
     "output_type": "stream",
     "text": [
      "320.467393445288\n"
     ]
    }
   ],
   "source": [
    "print(np.linalg.norm(grad_f_minim(res)))"
   ]
  },
  {
   "cell_type": "code",
   "execution_count": 23,
   "metadata": {},
   "outputs": [
    {
     "name": "stdout",
     "output_type": "stream",
     "text": [
      "BFGS avec scipy...\n"
     ]
    },
    {
     "ename": "KeyboardInterrupt",
     "evalue": "",
     "output_type": "error",
     "traceback": [
      "\u001b[1;31m---------------------------------------------------------------------------\u001b[0m",
      "\u001b[1;31mKeyboardInterrupt\u001b[0m                         Traceback (most recent call last)",
      "\u001b[1;32m<ipython-input-23-497413b6056b>\u001b[0m in \u001b[0;36m<module>\u001b[1;34m()\u001b[0m\n\u001b[0;32m      2\u001b[0m \u001b[0mprint\u001b[0m\u001b[1;33m(\u001b[0m\u001b[1;34m\"BFGS avec scipy...\"\u001b[0m\u001b[1;33m)\u001b[0m\u001b[1;33m\u001b[0m\u001b[0m\n\u001b[0;32m      3\u001b[0m \u001b[0mstart_time\u001b[0m \u001b[1;33m=\u001b[0m \u001b[0mtime\u001b[0m\u001b[1;33m.\u001b[0m\u001b[0mtime\u001b[0m\u001b[1;33m(\u001b[0m\u001b[1;33m)\u001b[0m\u001b[1;33m\u001b[0m\u001b[0m\n\u001b[1;32m----> 4\u001b[1;33m \u001b[0mres\u001b[0m \u001b[1;33m=\u001b[0m \u001b[0mscipy\u001b[0m\u001b[1;33m.\u001b[0m\u001b[0moptimize\u001b[0m\u001b[1;33m.\u001b[0m\u001b[0mminimize\u001b[0m\u001b[1;33m(\u001b[0m\u001b[0mf_minim\u001b[0m\u001b[1;33m,\u001b[0m \u001b[0mP\u001b[0m\u001b[1;33m,\u001b[0m \u001b[0mmethod\u001b[0m\u001b[1;33m=\u001b[0m\u001b[1;34m'BFGS'\u001b[0m\u001b[1;33m,\u001b[0m \u001b[0mjac\u001b[0m\u001b[1;33m=\u001b[0m\u001b[0mgrad_f_minim\u001b[0m\u001b[1;33m,\u001b[0m \u001b[0moptions\u001b[0m\u001b[1;33m=\u001b[0m\u001b[1;33m{\u001b[0m\u001b[1;34m'disp'\u001b[0m\u001b[1;33m:\u001b[0m \u001b[1;32mTrue\u001b[0m\u001b[1;33m}\u001b[0m\u001b[1;33m)\u001b[0m\u001b[1;33m\u001b[0m\u001b[0m\n\u001b[0m\u001b[0;32m      5\u001b[0m \u001b[0mprint\u001b[0m\u001b[1;33m(\u001b[0m\u001b[1;34m\"Durée : \"\u001b[0m\u001b[1;33m,\u001b[0m \u001b[0mtime\u001b[0m\u001b[1;33m.\u001b[0m\u001b[0mtime\u001b[0m\u001b[1;33m(\u001b[0m\u001b[1;33m)\u001b[0m\u001b[1;33m-\u001b[0m\u001b[0mstart_time\u001b[0m\u001b[1;33m)\u001b[0m\u001b[1;33m\u001b[0m\u001b[0m\n\u001b[0;32m      6\u001b[0m \u001b[0mprint\u001b[0m\u001b[1;33m(\u001b[0m\u001b[1;33m)\u001b[0m\u001b[1;33m\u001b[0m\u001b[0m\n",
      "\u001b[1;32m~\\Anaconda3\\lib\\site-packages\\scipy\\optimize\\_minimize.py\u001b[0m in \u001b[0;36mminimize\u001b[1;34m(fun, x0, args, method, jac, hess, hessp, bounds, constraints, tol, callback, options)\u001b[0m\n\u001b[0;32m    479\u001b[0m         \u001b[1;32mreturn\u001b[0m \u001b[0m_minimize_cg\u001b[0m\u001b[1;33m(\u001b[0m\u001b[0mfun\u001b[0m\u001b[1;33m,\u001b[0m \u001b[0mx0\u001b[0m\u001b[1;33m,\u001b[0m \u001b[0margs\u001b[0m\u001b[1;33m,\u001b[0m \u001b[0mjac\u001b[0m\u001b[1;33m,\u001b[0m \u001b[0mcallback\u001b[0m\u001b[1;33m,\u001b[0m \u001b[1;33m**\u001b[0m\u001b[0moptions\u001b[0m\u001b[1;33m)\u001b[0m\u001b[1;33m\u001b[0m\u001b[0m\n\u001b[0;32m    480\u001b[0m     \u001b[1;32melif\u001b[0m \u001b[0mmeth\u001b[0m \u001b[1;33m==\u001b[0m \u001b[1;34m'bfgs'\u001b[0m\u001b[1;33m:\u001b[0m\u001b[1;33m\u001b[0m\u001b[0m\n\u001b[1;32m--> 481\u001b[1;33m         \u001b[1;32mreturn\u001b[0m \u001b[0m_minimize_bfgs\u001b[0m\u001b[1;33m(\u001b[0m\u001b[0mfun\u001b[0m\u001b[1;33m,\u001b[0m \u001b[0mx0\u001b[0m\u001b[1;33m,\u001b[0m \u001b[0margs\u001b[0m\u001b[1;33m,\u001b[0m \u001b[0mjac\u001b[0m\u001b[1;33m,\u001b[0m \u001b[0mcallback\u001b[0m\u001b[1;33m,\u001b[0m \u001b[1;33m**\u001b[0m\u001b[0moptions\u001b[0m\u001b[1;33m)\u001b[0m\u001b[1;33m\u001b[0m\u001b[0m\n\u001b[0m\u001b[0;32m    482\u001b[0m     \u001b[1;32melif\u001b[0m \u001b[0mmeth\u001b[0m \u001b[1;33m==\u001b[0m \u001b[1;34m'newton-cg'\u001b[0m\u001b[1;33m:\u001b[0m\u001b[1;33m\u001b[0m\u001b[0m\n\u001b[0;32m    483\u001b[0m         return _minimize_newtoncg(fun, x0, args, jac, hess, hessp, callback,\n",
      "\u001b[1;32m~\\Anaconda3\\lib\\site-packages\\scipy\\optimize\\optimize.py\u001b[0m in \u001b[0;36m_minimize_bfgs\u001b[1;34m(fun, x0, args, jac, callback, gtol, norm, eps, maxiter, disp, return_all, **unknown_options)\u001b[0m\n\u001b[0;32m   1003\u001b[0m         \u001b[0mA1\u001b[0m \u001b[1;33m=\u001b[0m \u001b[0mI\u001b[0m \u001b[1;33m-\u001b[0m \u001b[0msk\u001b[0m\u001b[1;33m[\u001b[0m\u001b[1;33m:\u001b[0m\u001b[1;33m,\u001b[0m \u001b[0mnumpy\u001b[0m\u001b[1;33m.\u001b[0m\u001b[0mnewaxis\u001b[0m\u001b[1;33m]\u001b[0m \u001b[1;33m*\u001b[0m \u001b[0myk\u001b[0m\u001b[1;33m[\u001b[0m\u001b[0mnumpy\u001b[0m\u001b[1;33m.\u001b[0m\u001b[0mnewaxis\u001b[0m\u001b[1;33m,\u001b[0m \u001b[1;33m:\u001b[0m\u001b[1;33m]\u001b[0m \u001b[1;33m*\u001b[0m \u001b[0mrhok\u001b[0m\u001b[1;33m\u001b[0m\u001b[0m\n\u001b[0;32m   1004\u001b[0m         \u001b[0mA2\u001b[0m \u001b[1;33m=\u001b[0m \u001b[0mI\u001b[0m \u001b[1;33m-\u001b[0m \u001b[0myk\u001b[0m\u001b[1;33m[\u001b[0m\u001b[1;33m:\u001b[0m\u001b[1;33m,\u001b[0m \u001b[0mnumpy\u001b[0m\u001b[1;33m.\u001b[0m\u001b[0mnewaxis\u001b[0m\u001b[1;33m]\u001b[0m \u001b[1;33m*\u001b[0m \u001b[0msk\u001b[0m\u001b[1;33m[\u001b[0m\u001b[0mnumpy\u001b[0m\u001b[1;33m.\u001b[0m\u001b[0mnewaxis\u001b[0m\u001b[1;33m,\u001b[0m \u001b[1;33m:\u001b[0m\u001b[1;33m]\u001b[0m \u001b[1;33m*\u001b[0m \u001b[0mrhok\u001b[0m\u001b[1;33m\u001b[0m\u001b[0m\n\u001b[1;32m-> 1005\u001b[1;33m         Hk = numpy.dot(A1, numpy.dot(Hk, A2)) + (rhok * sk[:, numpy.newaxis] *\n\u001b[0m\u001b[0;32m   1006\u001b[0m                                                  sk[numpy.newaxis, :])\n\u001b[0;32m   1007\u001b[0m \u001b[1;33m\u001b[0m\u001b[0m\n",
      "\u001b[1;32m<__array_function__ internals>\u001b[0m in \u001b[0;36mdot\u001b[1;34m(*args, **kwargs)\u001b[0m\n",
      "\u001b[1;31mKeyboardInterrupt\u001b[0m: "
     ]
    }
   ],
   "source": [
    "#BFGS avec scipy\n",
    "print(\"BFGS avec scipy...\")\n",
    "start_time = time.time()\n",
    "res = scipy.optimize.minimize(f_minim, P, method='BFGS', jac=grad_f_minim, options={'disp': True})\n",
    "print(\"Durée : \", time.time()-start_time)\n",
    "print()"
   ]
  },
  {
   "cell_type": "markdown",
   "metadata": {},
   "source": [
    "## Partie 3"
   ]
  },
  {
   "cell_type": "markdown",
   "metadata": {},
   "source": [
    "### Question 1"
   ]
  },
  {
   "cell_type": "markdown",
   "metadata": {},
   "source": [
    "On a compris que le problème ici réside dans la non convexité de la fonction f selon les variables $\\theta_{i}$, ce que l'on va chercher à corriger. Géométriquement, modifier le produit scalaire en considérent une matrice symétrique définie positive, revient à transformer l'espace en accordant plus ou moins d'importance à l'une ou l'autre des dimensions. On va donc chercher à modifier les dimensions de telle sorte que f deviennent convexe.\n"
   ]
  },
  {
   "cell_type": "markdown",
   "metadata": {},
   "source": [
    "Fixons tous les paramètres sauf $\\theta_{i}$.\n",
    "Si i n'est pas engagé dans une fermeture de boucle, la dépendance de f en $\\theta_{i}$ vient uniquement du terme  $ \\|P_{i+1} - F(P_{i},dx_{i},dy_{i},d\\theta_{i})\\|² = (x_{i+1}-x_{i}-dx_{i}\\cos(\\theta_{i})+dy_{i}\\sin(\\theta_{i})² + (y_{i+1}-y_{i}-dx_{i}\\sin(\\theta_{i})-dy_{i}\\cos(\\theta_{i})² + (\\theta_{i+1}-\\theta_{i}-d\\theta_{i})²$.\n",
    "\n",
    "\n",
    "\n"
   ]
  },
  {
   "cell_type": "markdown",
   "metadata": {},
   "source": [
    "On va donc chercher à accorder plus de poids à ce troisième terme de telle sorte que les variations quadratiques de $\\theta_{i}$ dans ce terme compensent les oscillations dûes au cos et au sin dans les autres termes. Comme une matrice symétrique définie positive est diagonalisable, on peut la choisir diagonale. On va donc multiplier ce troisième terme par un réel $\\lambda \\geqslant 0$, ce qui correspond à une dilatation de la 3i-ème composante de l'espace d'un facteur $\\lambda$."
   ]
  },
  {
   "cell_type": "markdown",
   "metadata": {},
   "source": [
    "Alors, $\\frac{1}{2}\\frac{\\partial^2 f}{\\partial \\theta_{i}^2}= (dx_{i}\\cos(\\theta_{i})-dy_{i}\\sin(\\theta_{i})\n",
    "(x_{i+1}-x_{i}-dx_{i}\\cos(\\theta_{i})+dy_{i}\\sin(\\theta_{i}) + (dx_{i}\\cos(\\theta_{i})+dy_{i}\\sin(\\theta_{i})² + (dx_{i}\\sin(\\theta_{i})+dy_{i}\\cos(\\theta_{i})\n",
    "(y_{i+1}-y_{i}-dx_{i}\\sin(\\theta_{i})-dy_{i}\\cos(\\theta_{i}) + (-dx_{i}\\cos(\\theta_{i})+dy_{i}\\sin(\\theta_{i})² + \\lambda$."
   ]
  },
  {
   "cell_type": "markdown",
   "metadata": {},
   "source": [
    "Alors, pour obtenir $\\frac{1}{2}\\frac{\\partial^2 f}{\\partial \\theta_{i}^2} \\geqslant 0$, il suffit qu'on ait $\\lambda \\geqslant  (\\|dx_{i}\\| +\\|dy_{i}\\|)(4(longueur maximale du laboratoire) + 3(\\|dx_{i}\\| +\\|dy_{i}\\|)$.\n",
    "Si i est engagé dans une fermture de boucle, multiplier ce terme par deux est suffisant.\n",
    "\n",
    "Ainsi, on peut convexifier le problème en changeant de produit scalire et en travaillant avec la matrice symétrique définie positive $A=(A_{ij})_{1\\leqslant i,j \\leqslant 3n}$ tq A est diagonale et $A_{3k+1, 3k+1}= A_{3k+2, 3k+2} = 1$ et $A_{3k+3, 3k+3}= 2(\\|dx_{k}\\| +\\|dy_{k}\\|)(4(longueur maximale du laboratoire) + 3(\\|dx_{k}\\| +\\|dy_{k}\\|)$ par exemple.\n",
    "\n",
    "Remarque: on travaille ici avec la longueur maximale du laboratoire car on sait que le domaine auquel aura accès le robot est borné. En pratique, on connait cette valeur. Pour notre algorithme, il suffira de chosiir une valeur suffisamment grande.\n"
   ]
  },
  {
   "cell_type": "markdown",
   "metadata": {},
   "source": [
    "### Question 2"
   ]
  },
  {
   "cell_type": "markdown",
   "metadata": {},
   "source": [
    "On définit donc la matrice A et on redéfinit la fonction norme pour l'associer à A."
   ]
  },
  {
   "cell_type": "code",
   "execution_count": 16,
   "metadata": {},
   "outputs": [],
   "source": [
    "m=len(donnees_odo)\n",
    "A = np.eye(3*m)\n",
    "\n",
    "borne_max = 10000\n",
    "for k in range(m):\n",
    "    A[3*k+2][3*k+2]= 2*(np.linalg.norm(donnees_odo[k][2][0])+np.linalg.norm(donnees_odo[k][2][1]))*4*(borne_max + 3*(np.linalg.norm(donnees_odo[k][2][0])+np.linalg.norm(donnees_odo[k][2][1])))\n",
    "\n",
    "def norme(X):\n",
    "    return np.dot(X,np.dot(A,X))"
   ]
  },
  {
   "cell_type": "markdown",
   "metadata": {},
   "source": [
    "On essaie donc avec le nouveau produit scalaire sur les autres données.\n",
    "On commence par estimer la trajectoire à partir de l'odométrie comme précédemment"
   ]
  },
  {
   "cell_type": "code",
   "execution_count": 17,
   "metadata": {},
   "outputs": [
    {
     "data": {
      "image/png": "[encoded data removed]",
      "text/plain": [
       "<matplotlib.figure.Figure at 0x29f966934a8>"
      ]
     },
     "metadata": {},
     "output_type": "display_data"
    }
   ],
   "source": [
    "donnees_odo = []\n",
    "donnees_loop = []         \n",
    "recup_donnees(\"MIT.txt\")\n",
    "x, y, t = estim_trajectoire(donnees_odo)\n",
    "plt.figure()\n",
    "plt.plot(x, y, 'r--')\n",
    "plt.show()"
   ]
  },
  {
   "cell_type": "markdown",
   "metadata": {},
   "source": [
    "Puis comme seule la fonction norme a été modifiée précédemment, on peut réutiliser le code de la partie 2 pour essayer d'optimiser la trajectoire:"
   ]
  },
  {
   "cell_type": "code",
   "execution_count": null,
   "metadata": {},
   "outputs": [],
   "source": [
    "P=[]\n",
    "for i in range(len(x)):\n",
    "    P.append(x[i])\n",
    "    P.append(y[i])\n",
    "    P.append(t[i])\n",
    "P=np.array(P)\n",
    "\n",
    "#res = optim_BFGS(f_minim, grad_f_minim, P)"
   ]
  },
  {
   "cell_type": "code",
   "execution_count": null,
   "metadata": {},
   "outputs": [],
   "source": []
  }
 ],
 "metadata": {
  "kernelspec": {
   "display_name": "Python 3",
   "language": "python",
   "name": "python3"
  },
  "language_info": {
   "codemirror_mode": {
    "name": "ipython",
    "version": 3
   },
   "file_extension": ".py",
   "mimetype": "text/x-python",
   "name": "python",
   "nbconvert_exporter": "python",
   "pygments_lexer": "ipython3",
   "version": "3.6.4"
  }
 },
 "nbformat": 4,
 "nbformat_minor": 2
}
