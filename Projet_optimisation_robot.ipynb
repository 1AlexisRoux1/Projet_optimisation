{
 "cells": [
  {
   "cell_type": "markdown",
   "metadata": {},
   "source": [
    "# Projet optimisation de la trajectoire d'un robot"
   ]
  },
  {
   "cell_type": "markdown",
   "metadata": {},
   "source": [
    "# Partie 1"
   ]
  },
  {
   "cell_type": "markdown",
   "metadata": {},
   "source": [
    "### Question 1"
   ]
  },
  {
   "cell_type": "markdown",
   "metadata": {},
   "source": [
    "Les inconnues du problème sont les poses $Pi$ de la trajectoire. On pose $P_{i}=(x_{i},y_{i},\\theta_{i})$ avec $x_i,y_i,\\theta_i$ définis pour $i$ allant de $0$ à $n$ par rapport à un repère fixe ayant pour origine $P_0 = (0,0,0)$.\n",
    "\n",
    "On cherche à les déterminer grâce aux relations d'odométrie et de fermeture de boucles qui elles sont connues.\n"
   ]
  },
  {
   "cell_type": "markdown",
   "metadata": {},
   "source": [
    "### Question 2"
   ]
  },
  {
   "cell_type": "markdown",
   "metadata": {},
   "source": [
    "Chaque relation d'odométrie est donnée relativement à la pose précédente. \n",
    "On a donc les relations suivantes pour l'odométrie : \n",
    "\n",
    "$$\n",
    "\\left\\{\n",
    "    \\begin{array}{ll}\n",
    "        x_{i+1} = x_i + dx_i\\cos{\\theta_i}- dy_i\\sin{}\\theta_i = f_{x}(x_{i},dx_{i},dy_{i},\\theta_{i})\\\\\n",
    "        y_{i+1} = y_i + dx_i\\sin{\\theta_i}+ dy_i\\cos{}\\theta_i = f_{y}(y_{i},dx_{i},dy_{i},\\theta_{i})\\\\\n",
    "        \\theta_{i+1} = \\theta_i + d\\theta_i = f_{\\theta}(\\theta_{i},d\\theta_{i})\n",
    "    \\end{array}\n",
    "\\right.\n",
    "$$\n",
    "\n",
    "Et on adapte pour les relations de fermetures de boucle en remplaçant $i+1$ par $j$ avec $j$ l'indice de la fermeture de boucle. "
   ]
  },
  {
   "cell_type": "markdown",
   "metadata": {},
   "source": [
    "### Question 3"
   ]
  },
  {
   "cell_type": "markdown",
   "metadata": {},
   "source": [
    "On veut ici déterminer quelle fonction minimiser afin de vérifier au mieux les données d'odométrie et de fermetures de boucles. On va d'abord introduire plusieurs notations."
   ]
  },
  {
   "cell_type": "markdown",
   "metadata": {},
   "source": [
    "On va travailler ici avec des fonctions $f_{x}, f_{y} et f_{\\theta}$ définies respectivement par les relations données en question 2 s'appliquant sur les variables $x_{i}, y_{i}$ et $\\theta_{i}$. De plus, les éléments que nous appelerons $dx_{i},dy_{i}$ et $d\\theta_{i}$ ainsi que $dx'_{i},dy'_{i}$ et $d\\theta'_{i}$ dans la suite correspondent respectivement aux valeurs d'odométrie et de fermeture de boucles mesurées par le robot lors de son parcours, et sont donc connues et fixées."
   ]
  },
  {
   "cell_type": "markdown",
   "metadata": {},
   "source": [
    "Ce faisant, on note $P_{i}=(x_{i},y_{i},\\theta_{i})$ un triplet de $R^{3}$ et M le vecteur de dimension 3n définit par $M=(P_{i})_{1 \\leqslant i \\leqslant n}$. \n",
    "\n",
    "Si M est un minimum de notre fonction, on veut que chacun des $p_{i}$ vérifie au mieux les relations d'odométrie et de fermetures de boucles, c'est-à-dire:\n",
    "\n",
    "1) $\\forall i \\in {1,...,n}$,\n",
    "$x_{i+1}\\approx f_{x}(x_{i},dx_{i},dy_{i},\\theta_{i})$,\n",
    "$y_{i+1}\\approx f_{y}(y_{i},dx_{i},dy_{i},\\theta_{i})$,\n",
    "$\\theta_{i+1}\\approx f_{\\theta}(\\theta_{i},d\\theta_{i})$."
   ]
  },
  {
   "cell_type": "markdown",
   "metadata": {},
   "source": [
    "2) Si l'on note B l'ensemble des couples (j,i) correspondant à des fermetures de boucles détectées par le robot, on veut également vérifier: $x_{j}\\approx f_{x}(x_{i},dx'_{i},dy'_{i},\\theta_{i})$, \n",
    "$y_{j}\\approx f_{y}(y_{i},dx'_{i},dy'_{i},\\theta_{i})$ et\n",
    "$\\theta_{j}\\approx f_{\\theta}(\\theta_{i},d\\theta'_{i})$."
   ]
  },
  {
   "cell_type": "markdown",
   "metadata": {},
   "source": [
    "Plus concrètement, ces approximations se traduisent par le fait que les quantités $\\left|x_{i+1}- f_{x}(x_{i},dx_{i},dy_{i},\\theta_{i}) \\right|^{2}$ soient le plus petites possibles, de même en remplaçant les $x$ par les $y$ et les $\\theta$, et de même pour les relations de fermeture de boucle."
   ]
  },
  {
   "cell_type": "markdown",
   "metadata": {},
   "source": [
    "Comme on veut que cela soit vrai pour toutes ces relations, et que celles-ci sont interdépendantes, cela revient à minimiser la fonction de $R^{3n}$ suivante:"
   ]
  },
  {
   "cell_type": "markdown",
   "metadata": {},
   "source": [
    " $M \\in R^{3n} \\rightarrow \\sum_{i=1}^{n} \\left\\|P_{i+1} - F(P_{i},dx_{i},dy_{i},d\\theta_{i}) \\right\\|^{2} + \\sum_{(j,i) \\in B} \\left\\|P_{j} - F(P_{i},dx'_{i},dy'_{i},d\\theta'_{i}) \\right\\|^{2}$ "
   ]
  },
  {
   "cell_type": "markdown",
   "metadata": {},
   "source": [
    "où les $P_{i}$ ont été définis ci-dessus comme les triplets composants de M et où $F(P_{i},dx_{i},dy_{i},d\\theta_{i})=(f_{x}(x_{i},dx_{i},dy_{i},\\theta_{i}),f_{y}(y_{i},dx_{i},dy_{i},\\theta_{i}),f_{\\theta}(\\theta_{i},d\\theta_{i}))$. "
   ]
  },
  {
   "cell_type": "markdown",
   "metadata": {},
   "source": [
    "# Partie 2"
   ]
  },
  {
   "cell_type": "code",
   "execution_count": 29,
   "metadata": {},
   "outputs": [],
   "source": [
    "import matplotlib.pyplot as plt\n",
    "import autograd.numpy as np\n",
    "import autograd\n",
    "import copy\n",
    "import scipy.optimize\n",
    "from math import cos, sin, pi, sqrt"
   ]
  },
  {
   "cell_type": "markdown",
   "metadata": {},
   "source": [
    "### Question 1"
   ]
  },
  {
   "cell_type": "code",
   "execution_count": 42,
   "metadata": {},
   "outputs": [
    {
     "data": {
      "text/plain": [
       "[[19.0, 166.0, [-2.459689, 0.241111, 0.2528]],\n",
       " [19.0, 172.0, [1.067903, 0.915786, 0.14947]],\n",
       " [25.0, 172.0, [-2.539634, 0.85263, -0.02986]],\n",
       " [25.0, 178.0, [1.225223, 0.672079, -0.10248]],\n",
       " [32.0, 178.0, [-2.020007, -0.239771, 0.71518]],\n",
       " [32.0, 183.0, [-0.092559, 0.424181, 0.0416]],\n",
       " [44.0, 189.0, [-2.265706, -0.570857, 0.19772]],\n",
       " [44.0, 195.0, [1.302289, -0.133004, -0.00528]],\n",
       " [50.0, 195.0, [-2.374379, -0.253682, 0.21612]],\n",
       " [50.0, 201.0, [1.291572, 0.086248, -0.0507]],\n",
       " [50.0, 203.0, [2.550695, 0.035722, -0.08465]],\n",
       " [61.0, 203.0, [-2.852494, 0.122053, 0.07787]],\n",
       " [61.0, 209.0, [0.73078, 0.07297, 0.00889]],\n",
       " [67.0, 209.0, [-2.822142, 0.138051, -0.00446]],\n",
       " [67.0, 220.0, [0.783704, -1.176736, -1.4129]],\n",
       " [81.0, 220.0, [-0.868391, -0.009825, -0.04688]],\n",
       " [81.0, 226.0, [2.836453, 0.058719, 0.04915]],\n",
       " [87.0, 226.0, [-0.45964, 0.184679, 0.34383]],\n",
       " [87.0, 231.0, [1.060624, 0.863823, 0.29401]],\n",
       " [94.0, 231.0, [-2.231597, 0.316386, 0.18025]],\n",
       " [94.0, 241.0, [2.816677, 0.483252, 0.0414]],\n",
       " [101.0, 241.0, [-1.436886, 0.314097, -0.09887]],\n",
       " [101.0, 247.0, [2.168416, 0.280309, -0.00387]],\n",
       " [107.0, 247.0, [-1.536762, 0.375104, 0.05105]],\n",
       " [107.0, 254.0, [0.592787, -1.020976, -0.778]],\n",
       " [107.0, 256.0, [0.707309, -1.207974, -1.16374]],\n",
       " [107.0, 258.0, [0.976528, -2.202656, -1.22773]],\n",
       " [114.0, 254.0, [-0.931502, -0.024068, 0.56758]],\n",
       " [114.0, 256.0, [-0.723652, 0.045801, 0.18184]],\n",
       " [114.0, 258.0, [0.306031, 0.086093, 0.11785]],\n",
       " [121.0, 266.0, [0.73719, -0.0172, -0.11824]],\n",
       " [126.0, 266.0, [-1.480397, 0.199141, 0.06286]],\n",
       " [126.0, 272.0, [2.350796, 0.151313, 0.02506]],\n",
       " [132.0, 272.0, [-1.37599, 0.193564, -0.06956]],\n",
       " [132.0, 278.0, [2.220707, 0.319882, -0.0005]],\n",
       " [138.0, 278.0, [-1.378019, 0.626427, 0.01699]],\n",
       " [138.0, 284.0, [2.391863, 0.324204, -0.075755]],\n",
       " [151.0, 284.0, [-2.650853, -0.975732, 1.45455]],\n",
       " [151.0, 291.0, [-1.4985, 0.364159, 0.02179]],\n",
       " [151.0, 297.0, [2.217429, -0.068852, -0.22346]],\n",
       " [19.0, 305.0, [-1.044094, 0.006772, 0.28908]],\n",
       " [19.0, 315.0, [1.796874, 2.231292, 1.91767]],\n",
       " [19.0, 337.0, [1.676359, 1.138847, 2.36996]],\n",
       " [19.0, 342.0, [2.451034, 1.014379, -0.10619]],\n",
       " [19.0, 1016.0, [0.039741, 0.37438, -2.852145]],\n",
       " [25.0, 315.0, [-1.587705, 2.017012, 1.73834]],\n",
       " [25.0, 337.0, [-1.901147, 0.963583, 2.19063]],\n",
       " [25.0, 342.0, [-1.161097, 0.702932, -0.28552]],\n",
       " [25.0, 367.0, [0.87843, -0.15997, 0.91002]],\n",
       " [25.0, 374.0, [2.84092, -0.557124, -0.60161]],\n",
       " [25.0, 1008.0, [0.839778, 0.868849, 2.614245]],\n",
       " [25.0, 1010.0, [0.208016, 0.81749, -3.07807]],\n",
       " [32.0, 367.0, [-1.65017, -1.061836, 1.72768]],\n",
       " [32.0, 374.0, [-0.018221, 0.098268, 0.21605]],\n",
       " [32.0, 382.0, [0.235335, 2.451229, 2.82151]],\n",
       " [32.0, 387.0, [0.993162, 2.566664, 0.274705]],\n",
       " [32.0, 1003.0, [0.362306, -0.196467, 3.066965]],\n",
       " [32.0, 1008.0, [-2.427177, -0.386394, -2.85128]],\n",
       " [32.0, 1010.0, [-2.82179, -0.88242, -2.26041]],\n",
       " [44.0, 437.0, [0.69665, -2.77105, -0.20546]],\n",
       " [44.0, 454.0, [-1.152851, -1.893499, 1.516715]],\n",
       " [44.0, 467.0, [1.218289, 1.232598, 1.11314]],\n",
       " [44.0, 494.0, [2.154809, -0.649767, -0.30653]],\n",
       " [44.0, 988.0, [2.712903, -0.996652, 3.0471]],\n",
       " [44.0, 994.0, [-0.892482, -0.642947, 3.093485]],\n",
       " [50.0, 467.0, [-2.75621, 1.060141, 1.33454]],\n",
       " [50.0, 494.0, [-1.42919, -0.570621, -0.08513]],\n",
       " [50.0, 500.0, [2.26834, -0.490379, 0.26364]],\n",
       " [50.0, 982.0, [2.823043, -0.459737, -3.096925]],\n",
       " [50.0, 988.0, [-0.808543, -0.786485, -3.014685]],\n",
       " [61.0, 508.0, [-1.4492, 2.112314, 1.47767]],\n",
       " [61.0, 522.0, [-1.053664, -0.045704, 0.099]],\n",
       " [61.0, 528.0, [2.466833, 0.101003, -0.08824]],\n",
       " [61.0, 976.0, [1.165811, -0.076649, -3.05444]],\n",
       " [61.0, 982.0, [-2.503567, -0.32281, -2.934405]],\n",
       " [67.0, 528.0, [-1.085869, 0.142906, -0.10159]],\n",
       " [67.0, 532.0, [1.03848, -0.18454, -0.18727]],\n",
       " [67.0, 556.0, [0.87596, 2.072499, -1.60875]],\n",
       " [67.0, 564.0, [0.93453, -0.521388, -1.42509]],\n",
       " [67.0, 567.0, [1.07864, -1.127738, 0.06864]],\n",
       " [67.0, 570.0, [2.695842, -0.809094, 0.12996]],\n",
       " [67.0, 965.0, [0.918287, -0.079133, 1.69211]],\n",
       " [67.0, 976.0, [-2.389147, -0.017363, -3.06779]],\n",
       " [81.0, 528.0, [-2.540636, -1.571989, 1.26443]],\n",
       " [81.0, 532.0, [-1.788049, 0.44139, 1.17875]],\n",
       " [81.0, 564.0, [-1.479377, 0.271115, -0.05907]],\n",
       " [81.0, 567.0, [-0.856391, 0.288913, 1.43466]],\n",
       " [81.0, 570.0, [-0.839522, 1.937122, 1.49598]],\n",
       " [81.0, 575.0, [-0.874481, 2.499055, -2.998155]],\n",
       " [81.0, 588.0, [2.58541, -0.39859, 0.03299]],\n",
       " [81.0, 959.0, [1.715988, -0.147087, 2.880085]],\n",
       " [81.0, 965.0, [-1.915695, 0.345142, 3.05813]],\n",
       " [87.0, 588.0, [-0.567044, -0.325829, 0.32767]],\n",
       " [87.0, 597.0, [1.033167, 2.497995, 1.74759]],\n",
       " [87.0, 604.0, [1.169979, 2.733059, -1.27963]],\n",
       " [87.0, 953.0, [1.577352, 0.448961, -2.82305]],\n",
       " [87.0, 959.0, [-1.472035, -0.337676, -3.10842]],\n",
       " [94.0, 597.0, [-2.073375, 1.943112, 1.63383]],\n",
       " [94.0, 604.0, [-1.910764, 2.161126, -1.39339]],\n",
       " [94.0, 616.0, [-0.567925, 0.985809, 1.72827]],\n",
       " [94.0, 632.0, [-0.25823, -0.057031, -0.96101]],\n",
       " [94.0, 637.0, [2.180403, 0.487495, 0.04818]],\n",
       " [94.0, 947.0, [1.819562, 0.355845, -2.812985]],\n",
       " [94.0, 953.0, [-1.765303, -0.154451, -2.93681]],\n",
       " [101.0, 637.0, [-2.066317, 0.407256, -0.09209]],\n",
       " [101.0, 642.0, [0.70254, 0.05899, -0.15806]],\n",
       " [101.0, 645.0, [1.268565, 0.117224, 1.302975]],\n",
       " [101.0, 657.0, [0.970735, 1.275733, -1.200065]],\n",
       " [101.0, 663.0, [2.721944, 0.234701, 0.154665]],\n",
       " [101.0, 665.0, [2.743644, 0.343689, 1.4844]],\n",
       " [101.0, 939.0, [1.736598, 0.040097, -3.13977]],\n",
       " [101.0, 944.0, [-1.229619, 0.290529, 3.03468]],\n",
       " [101.0, 947.0, [-2.44202, 0.327348, -2.953255]],\n",
       " [101.0, 1138.0, [-0.04498, -2.12809, 1.40634]],\n",
       " [101.0, 1188.0, [1.043367, -1.716987, 3.078145]],\n",
       " [107.0, 642.0, [-2.988279, 0.073654, -0.10314]],\n",
       " [107.0, 645.0, [-2.426303, 0.162871, 1.357895]],\n",
       " [107.0, 663.0, [-0.981564, 0.35995, 0.209585]],\n",
       " [107.0, 665.0, [-0.96588, 0.469964, 1.53932]],\n",
       " [107.0, 680.0, [-1.101202, 1.597727, -1.08272]],\n",
       " [107.0, 683.0, [-0.373238, 0.237253, -0.97867]],\n",
       " [107.0, 704.0, [-0.174419, -0.744617, -2.36496]],\n",
       " [107.0, 714.0, [-0.001585, -1.518738, 0.04075]],\n",
       " [107.0, 730.0, [1.719547, -1.998733, -2.849795]],\n",
       " [107.0, 929.0, [0.4823, -2.592003, 1.96035]],\n",
       " [107.0, 935.0, [-0.294578, 0.372182, 2.191385]],\n",
       " [107.0, 939.0, [-1.954743, 0.111552, -3.08485]],\n",
       " [107.0, 1147.0, [-0.324254, -1.481983, 0.14015]],\n",
       " [107.0, 1150.0, [0.364219, -1.279939, 1.435915]],\n",
       " [114.0, 663.0, [-2.629135, -1.250276, 1.555165]],\n",
       " [114.0, 665.0, [-2.732868, -1.21042, 2.8849]],\n",
       " [114.0, 683.0, [-2.373686, -0.684712, 0.36691]],\n",
       " [114.0, 704.0, [-1.372213, -0.710183, -1.01938]],\n",
       " [114.0, 714.0, [-0.579045, -0.714588, 1.38633]],\n",
       " [114.0, 730.0, [0.273187, 0.855886, -1.504215]],\n",
       " [114.0, 929.0, [0.575175, -0.482602, -2.977255]],\n",
       " [114.0, 935.0, [-2.487642, -0.577907, -2.74622]],\n",
       " [114.0, 1147.0, [-0.686929, -1.020901, 1.48573]],\n",
       " [114.0, 1150.0, [-0.730123, -0.304695, 2.781495]],\n",
       " [114.0, 1158.0, [1.96507, -0.055808, 0.08396]],\n",
       " [114.0, 1175.0, [2.570804, -0.255481, 2.91302]],\n",
       " [121.0, 754.0, [-0.176774, -0.090674, -0.10416]],\n",
       " [121.0, 759.0, [2.795658, -0.372882, -0.04799]],\n",
       " [121.0, 923.0, [-0.35994, -0.158411, 2.81678]],\n",
       " [121.0, 1158.0, [-1.765259, 0.015433, 0.09439]],\n",
       " [121.0, 1164.0, [1.939145, -0.416391, -0.07191]],\n",
       " [121.0, 1175.0, [-1.157476, -0.177912, 2.92345]],\n",
       " [126.0, 754.0, [-2.366181, -0.037747, 0.07694]],\n",
       " [126.0, 759.0, [0.60847, 0.22003, 0.13311]],\n",
       " [126.0, 762.0, [1.256487, 0.430359, 1.24809]],\n",
       " [126.0, 923.0, [-2.534151, -0.137367, 2.99788]],\n",
       " [126.0, 1164.0, [-0.2262, 0.022965, 0.10919]],\n",
       " [132.0, 762.0, [-2.43904, 0.574751, 1.15347]],\n",
       " [132.0, 778.0, [-1.013501, 1.621706, 1.56121]],\n",
       " [132.0, 792.0, [-0.882133, 1.768911, -1.79792]],\n",
       " [132.0, 800.0, [1.214689, 0.372313, 0.0059]],\n",
       " [132.0, 907.0, [2.246094, -0.166035, -3.06389]],\n",
       " [132.0, 911.0, [0.28743, -0.091199, 2.898905]],\n",
       " [132.0, 1084.0, [-0.744736, -2.350749, -1.849821]],\n",
       " [138.0, 800.0, [-2.384799, 0.661256, 0.02339]],\n",
       " [138.0, 806.0, [1.314158, 0.976356, 0.186155]],\n",
       " [138.0, 821.0, [1.339602, 0.836157, -1.72864]],\n",
       " [138.0, 823.0, [1.391787, 0.830084, -0.20168]],\n",
       " [138.0, 903.0, [0.257877, 0.385262, 2.46846]],\n",
       " [138.0, 904.0, [0.21146, 0.361905, 2.91854]],\n",
       " [138.0, 907.0, [-1.344137, 0.141028, -3.0464]],\n",
       " [151.0, 828.0, [-2.783661, 1.064375, 1.52977]],\n",
       " [151.0, 847.0, [-2.892269, 0.357584, -1.72055]],\n",
       " [151.0, 855.0, [0.421564, -0.036975, -0.07298]],\n",
       " [151.0, 895.0, [-0.308314, 0.072387, -2.94072]],\n",
       " [151.0, 897.0, [-0.653297, -0.34078, -2.14582]],\n",
       " [151.0, 1029.0, [2.658346, -1.322835, -1.61216]],\n",
       " [157.0, 297.0, [-1.431635, -0.047784, -0.1921]],\n",
       " [157.0, 305.0, [2.323872, -0.569035, 0.02611]],\n",
       " [157.0, 1029.0, [-0.951615, -1.287326, -1.5808]],\n",
       " [157.0, 1217.0, [-0.999593, -2.295582, 1.58812]],\n",
       " [163.0, 297.0, [-0.152489, -1.643361, 1.29416]],\n",
       " [163.0, 305.0, [0.683999, 2.054722, 1.51237]],\n",
       " [163.0, 1029.0, [1.123157, -1.269718, -0.09454]],\n",
       " [163.0, 1217.0, [2.123761, -1.402656, 3.07438]],\n",
       " [166.0, 297.0, [-2.448623, -0.097923, -0.18193]],\n",
       " [166.0, 305.0, [1.31199, -0.580954, 0.03628]],\n",
       " [166.0, 1016.0, [2.45332, -0.496114, -3.104945]],\n",
       " [166.0, 1029.0, [-1.956023, -1.33252, -1.57063]],\n",
       " [172.0, 305.0, [-2.223813, -0.584373, 0.13961]],\n",
       " [172.0, 315.0, [0.916741, 1.192284, 1.7682]],\n",
       " [172.0, 328.0, [0.389353, 2.701274, -1.41888]],\n",
       " [172.0, 337.0, [0.634889, 0.129966, 2.22049]],\n",
       " [172.0, 342.0, [1.382392, -0.108475, -0.25566]],\n",
       " [172.0, 1010.0, [2.747473, 0.046909, -3.04821]],\n",
       " [172.0, 1016.0, [-1.097321, -0.382262, -3.001615]],\n",
       " [178.0, 342.0, [-2.376956, -0.213431, -0.18304]],\n",
       " [178.0, 367.0, [-0.259854, -0.86316, 1.0125]],\n",
       " [178.0, 374.0, [1.732968, -1.057467, -0.49913]],\n",
       " [178.0, 1003.0, [1.826983, -1.529516, 2.351785]],\n",
       " [178.0, 1008.0, [-0.403552, 0.156306, 2.716725]],\n",
       " [178.0, 1010.0, [-1.026746, 0.040588, -2.97559]],\n",
       " [183.0, 367.0, [-1.618063, -1.419954, 1.68608]],\n",
       " [183.0, 374.0, [0.06072, -0.328723, 0.17445]],\n",
       " [183.0, 382.0, [0.411911, 2.011657, 2.77991]],\n",
       " [183.0, 387.0, [1.173883, 2.095476, 0.233105]],\n",
       " [183.0, 1003.0, [0.42866, -0.639029, 3.025365]],\n",
       " [183.0, 1008.0, [-2.366308, -0.712782, -2.89288]],\n",
       " [189.0, 400.0, [-1.948699, 2.200613, -1.11637]],\n",
       " [189.0, 414.0, [-0.254807, -1.783532, -1.50836]],\n",
       " [189.0, 454.0, [0.83136, -1.515476, 1.318995]],\n",
       " [189.0, 994.0, [1.332308, -0.340434, 2.895765]],\n",
       " [195.0, 437.0, [-0.591701, -2.641206, -0.20018]],\n",
       " [195.0, 467.0, [-0.09121, 1.36514, 1.11842]],\n",
       " [195.0, 484.0, [0.655807, 2.573505, -2.00924]],\n",
       " [195.0, 494.0, [0.855236, -0.512254, -0.30125]],\n",
       " [195.0, 988.0, [1.415155, -0.856188, 3.05238]],\n",
       " [195.0, 994.0, [-2.192048, -0.521524, 3.098765]],\n",
       " [201.0, 494.0, [-2.683977, -0.793909, -0.03443]],\n",
       " [201.0, 500.0, [1.004735, -0.526385, 0.31434]],\n",
       " [201.0, 982.0, [1.557172, -0.467671, -3.046225]],\n",
       " [201.0, 988.0, [-2.053188, -0.978041, -2.963985]],\n",
       " [203.0, 500.0, [-0.236863, -0.54809, 0.34829]],\n",
       " [203.0, 508.0, [1.553867, 1.875066, 1.3998]],\n",
       " [203.0, 522.0, [1.780329, -0.307182, 0.02113]],\n",
       " [203.0, 982.0, [0.313263, -0.470658, -3.012275]],\n",
       " [209.0, 508.0, [-2.161765, 2.058644, 1.46878]],\n",
       " [209.0, 522.0, [-1.785428, -0.102806, 0.09011]],\n",
       " [209.0, 528.0, [1.736233, 0.012599, -0.09713]],\n",
       " [209.0, 976.0, [0.433683, -0.153481, -3.06333]],\n",
       " [220.0, 528.0, [-1.597199, -1.638814, 1.31131]],\n",
       " [220.0, 532.0, [-0.939792, 0.407621, 1.22563]],\n",
       " [220.0, 564.0, [-0.62348, 0.251998, -0.01219]],\n",
       " [220.0, 567.0, [-0.002013, 0.298972, 1.48154]],\n",
       " [220.0, 570.0, [-0.062402, 1.94616, 1.54286]],\n",
       " [220.0, 575.0, [-0.123656, 2.505837, -2.951275]],\n",
       " [220.0, 959.0, [2.587973, -0.016, 2.926965]],\n",
       " [220.0, 965.0, [-1.062787, 0.305497, 3.10501]],\n",
       " [226.0, 231.0, [1.660221, 0.12692, -0.04982]],\n",
       " [226.0, 588.0, [-0.273207, -0.444423, -0.01616]],\n",
       " [226.0, 597.0, [2.185242, 1.6747, 1.40376]],\n",
       " [226.0, 953.0, [2.006857, -0.437847, 3.116305]],\n",
       " [226.0, 959.0, [-1.129223, -0.150509, 2.830935]],\n",
       " [923.0, 1175.0, [0.74961, 0.273, 0.10667]],\n",
       " [929.0, 1175.0, [-2.005899, 0.102421, -0.39291]],\n",
       " [939.0, 1188.0, [0.696432, 1.755817, -0.06527]],\n",
       " [1029.0, 1217.0, [1.008685, -0.037889, -3.114265]],\n",
       " [1044.0, 1217.0, [2.098504, -0.83843, 0.47989]],\n",
       " [1050.0, 1210.0, [-0.300235, -2.565672, 1.53656]],\n",
       " [1050.0, 1217.0, [0.231465, 1.66829, 1.55914]],\n",
       " [1056.0, 1217.0, [2.128743, -0.472375, -0.93116]],\n",
       " [1061.0, 1210.0, [1.269232, -1.441319, -2.90961]],\n",
       " [1075.0, 1210.0, [-1.662329, 0.436026, -1.59984]],\n",
       " [1084.0, 1210.0, [2.070374, 1.896269, 1.836205]],\n",
       " [1088.0, 1210.0, [0.609503, -1.485166, 0.53677]],\n",
       " [1093.0, 1210.0, [-0.233452, -0.529583, 1.49436]],\n",
       " [1098.0, 1210.0, [-0.37828, -0.172442, -2.937025]],\n",
       " [1138.0, 1188.0, [0.583736, -1.006358, 1.671805]],\n",
       " [1147.0, 1188.0, [-2.232188, 0.113982, 2.992915]],\n",
       " [1150.0, 1188.0, [-0.789302, 2.834301, 1.69715]],\n",
       " [1158.0, 1175.0, [0.586855, -0.249767, 2.82906]]]"
      ]
     },
     "execution_count": 42,
     "metadata": {},
     "output_type": "execute_result"
    }
   ],
   "source": [
    "donnees_odo = []\n",
    "donnees_loop = []\n",
    "\n",
    "def recup_donnees(fichier):\n",
    "    with open(fichier, 'r') as intel:\n",
    "        for ligne in intel:\n",
    "            l = ligne.split()\n",
    "            for i in range(1,len(l)):\n",
    "                l[i]=float(l[i])\n",
    "            if l[0]==\"EDGE_ODO\":\n",
    "                donnees_odo.append(l[1:3]+[l[3:]])\n",
    "            else:\n",
    "                donnees_loop.append(l[1:3]+[l[3:]])\n",
    "                \n",
    "recup_donnees(\"INTEL.txt\")\n",
    "donnees_loop\n"
   ]
  },
  {
   "cell_type": "markdown",
   "metadata": {},
   "source": [
    "### Question 2"
   ]
  },
  {
   "cell_type": "code",
   "execution_count": 11,
   "metadata": {
    "scrolled": false
   },
   "outputs": [
    {
     "data": {
      "image/png": "[encoded data removed]",
      "text/plain": [
       "<matplotlib.figure.Figure at 0x22c4365ada0>"
      ]
     },
     "metadata": {},
     "output_type": "display_data"
    }
   ],
   "source": [
    "def estim_trajectoire(odometrie):\n",
    "    liste_x = [0]\n",
    "    liste_y = [0]\n",
    "    liste_theta = [0]\n",
    "    for i in range(len(odometrie)):\n",
    "        p_i = np.array([liste_x[-1], liste_y[-1], liste_theta[-1]])\n",
    "        di = np.array(odometrie[i][2])\n",
    "        rot = np.array([[cos(p_i[2]), -sin(p_i[2]), 0], [sin(p_i[2]),cos(p_i[2]), 0], [0, 0, 1]])\n",
    "        p_i = p_i + np.dot(rot, di)\n",
    "        liste_x.append(p_i[0])\n",
    "        liste_y.append(p_i[1])\n",
    "        liste_theta.append(p_i[2])\n",
    "    return liste_x, liste_y, liste_theta\n",
    "\n",
    "x, y, t = estim_trajectoire(donnees_odo)\n",
    "plt.figure()\n",
    "plt.plot(x, y, 'r--')\n",
    "plt.show()\n",
    "        \n"
   ]
  },
  {
   "cell_type": "markdown",
   "metadata": {},
   "source": [
    "### Question 3"
   ]
  },
  {
   "cell_type": "markdown",
   "metadata": {},
   "source": [
    "#### Convexité de la fonction\n",
    "\n",
    "Interessons nous d'abord à la convexité de la fonction. Comme celle-ci contient des cosinus et sinus en fonction des variables $\\theta$ de chaque pose, on sent que la fonction ne sera pas convexe. Un moyen de vérifier qu'elle ne l'est pas est de faire varier simplement le $\\theta$ d'une seule pose et de tracer l'allure de la courbe que l'on obtient."
   ]
  },
  {
   "cell_type": "code",
   "execution_count": 56,
   "metadata": {
    "scrolled": true
   },
   "outputs": [
    {
     "name": "stdout",
     "output_type": "stream",
     "text": [
      "609595.6753715187\n",
      "1770.1931478963636\n",
      "1770.1931478963618\n"
     ]
    },
    {
     "data": {
      "text/plain": [
       "'liste_theta=np.linspace(-3*pi,3*pi,300)\\nliste_f=[]\\nfor i in range(300):\\n    P[3*k+2]=liste_theta[i]\\n    liste_f.append(f_minim(P))\\n    \\nplt.figure()\\nplt.plot(liste_theta, liste_f, \\'b--\\')\\nplt.title(\"Fonction à minimiser\")\\n\\n\\nplt.show()'"
      ]
     },
     "execution_count": 56,
     "metadata": {},
     "output_type": "execute_result"
    }
   ],
   "source": [
    "#Definition de la fonction à minimiser f_minim en trois étapes\n",
    "\n",
    "def F(p_i,di):\n",
    "    rot = np.array([[np.cos(p_i[2]), -np.sin(p_i[2]), 0], [np.sin(p_i[2]),np.cos(p_i[2]), 0], [0, 0, 1]])\n",
    "    p_i = p_i + np.dot(rot, np.array(di))\n",
    "    return p_i\n",
    "    \n",
    "def norme(X):\n",
    "    return np.sqrt(sum(X[i]**2 for i in range(len(X))))\n",
    "    \n",
    "def f_minim_pose(P,i):\n",
    "    \"\"\"C'est la fonction qui calcule les termes de la somme où intervient uniquement la pose Pi\"\"\"\n",
    "    \n",
    "    #Partie odométrie\n",
    "    p_i=np.array(P[i])\n",
    "    pi_1=np.array(P[i+1])\n",
    "    relations_odo=[]\n",
    "    if i<len(donnees_odo):\n",
    "        relations_odo = donnees_odo[i]\n",
    "    diff_o=pi_1-F(p_i,np.array(relations_odo[2]))\n",
    "    a=(norme(diff_o))\n",
    "\n",
    "    #Partie loop\n",
    "    relations_loop = [relation for relation in donnees_loop if relation[0]==i] #Pas les relations où i est le deuxième indice pour ne pas compter les relations 2 fois\n",
    "    indexes_loop = [int(relation[1]) for relation in relations_loop]\n",
    "    Pj=[np.array(P[j]) for j in indexes_loop] #Les poses qui ont des relations de fermeture de boucle avec la pose Pi\n",
    "    for k in range(len(relations_loop)):\n",
    "        diff=Pj[k]-F(p_i,np.array(relations_loop[k][2]))\n",
    "        a+=(norme(diff))\n",
    "    return a\n",
    "\n",
    "def f_minim(P):\n",
    "    P=np.array([[P[3*i],P[3*i+1],P[3*i+2]] for i in range(int(len(P)/3))]) #On passe le vectur en version matricielle [[x1,y1,theta1],...,[xn,yn,thetan]] pour utiliser la fonction précédente\n",
    "    return sum([f_minim_pose(P,i) for i in range(len(donnees_odo))])\n",
    "\n",
    "\n",
    "#Vecteur de R^3n correspondant à l'estimation précédente\n",
    "P=[]\n",
    "for i in range(len(x)):\n",
    "    P.append(x[i])\n",
    "    P.append(y[i])\n",
    "    P.append(t[i])\n",
    "P=np.array(P)\n",
    "    \n",
    "#Variation de theta de la pose k\n",
    "k=19\n",
    "print(f_minim(P))\n",
    "print(np.linalg.norm(P))\n",
    "print(norme(P))\n",
    "\n",
    "\"\"\"liste_theta=np.linspace(-3*pi,3*pi,300)\n",
    "liste_f=[]\n",
    "for i in range(300):\n",
    "    P[3*k+2]=liste_theta[i]\n",
    "    liste_f.append(f_minim(P))\n",
    "    \n",
    "plt.figure()\n",
    "plt.plot(liste_theta, liste_f, 'b--')\n",
    "plt.title(\"Fonction à minimiser\")\n",
    "\n",
    "\n",
    "plt.show()\"\"\""
   ]
  },
  {
   "cell_type": "markdown",
   "metadata": {},
   "source": [
    "On voit donc que la fonction n'est pas convexe. \n",
    "\n",
    "#### Existence et unicité de la solution\n",
    "\n",
    "De plus, sur cet exemple, on a un minimum atteint pour deux valeurs de $\\theta$ différentes, ce qui peut supposer qu'il soit possible d'obtenir le même résultat pour un vecteur P qui minimise la fonction. Si ce n'est pas le cas pour tout jeu de données d'entrée (s'il n'y a que des relations d'odométrie, il y'a unicité de la solution par exemple), on peut trouver des jeux de données qui ont plusieurs solutions. Pour plus de détails, des démonstrations moins qualitatives sont en pièce jointe.\n",
    "\n",
    "L'existence de la solution se justifie par le caractère fermé borné de l'espace dans lequel on cherche nos solutions, qui n'est pas $R^{3n}$ tout entier mais restreint par les dimensions du laboratoire selon x et y. Pour les theta, l'espace dans lequel on les cherche est au plus [0,2n$\\pi]^{n}$ car tous les d$\\theta$ appartiennent à [0,2$\\pi$]."
   ]
  },
  {
   "cell_type": "markdown",
   "metadata": {},
   "source": [
    "#### Conditionnement\n",
    "\n",
    "Calculons désormais le conditionnement du problème, c'est-à-dire la sensibilité relative de la fonction f par rapport à une légère variation spatiale du point en laquelle on l'évalue. On va donc calculer $\\frac{\\|f(x)-f(x+\\delta)\\|}{\\|f(x)_\\| \\epsilon}$\n"
   ]
  },
  {
   "cell_type": "code",
   "execution_count": 54,
   "metadata": {},
   "outputs": [
    {
     "name": "stdout",
     "output_type": "stream",
     "text": [
      "[0.0, 2.0174939352065415, 1.995677360691019, 0.0, 1.977513831904391, 0.0, 0.0, 0.0, 1.8841190237046601, 1.8145120984205507, 1.8075903234446793, 1.7338961271337312, 0.0, 1.6744667083559757, 0.0, 1.5903038740027753, 0.0, 0.0, 0.0, 1.3936014095864393, 0.0, 1.33610144672469, 0.0, 0.0, 1.2245931871847677, 0.0, 1.1413085858426282, 0.0, 0.0, 0.0, 0.0, 1.9284012396165422, 3.6783687034876773, 0.0, 0.0, 1.6960068091448712, 0.0, 1.5755796344613457, 0.0, 2.9261148856045285, 0.0, 1.4061579192725593, 0.0, 0.0, 3.822956037048563, 0.0, 0.0, 0.0, 0.0, 0.0, 0.0, 0.0, 0.0, 0.0, 0.0, 0.0, 0.0, 1.75882117195266, 0.0, 0.0, 0.0, 0.0, 0.0, 0.0, 0.0, 1.4484115420005113, 0.0, 1.3948233200107103, 0.0, 0.0, 0.0, 0.0, 0.0, 0.0, 0.0, 0.0, 2.144748675554602, 2.1308949313611003, 0.0, 0.0, 0.0, 0.0, 0.0, 0.0, 0.0, 0.0, 0.0, 0.0, 0.0, 0.0, 0.0, 0.0, 1.5897143907471245, 0.0, 0.0, 0.0, 0.0, 0.0, 0.0]\n",
      "Moyenne: 0.495880577499653\n"
     ]
    }
   ],
   "source": [
    "epsilon=10**(-16)\n",
    "m=10\n",
    "n=3*(len(donnees_odo)+1)\n",
    "\n",
    "def conditionnement(f,liste,epsilon,deplacement):\n",
    "    l=[]\n",
    "    for x in liste:\n",
    "        k=abs((f(np.array(x)+np.array(deplacement))-f(x))/f(x))*1/epsilon\n",
    "        l.append(k)\n",
    "    return l\n",
    "\n",
    "def normalise(x):\n",
    "    norm=norme(np.array(x))\n",
    "    n=len(x)\n",
    "    for i in range(n):\n",
    "        x[i]=x[i]/norm\n",
    "    return x\n",
    "\n",
    "from random import uniform\n",
    "\n",
    "#on crée des vecteurs de façon aléatoire de norme variant de 1 à 100 afin de déterminer la valeur de k et se cantonner à un espace borné, comme le laboratoire\n",
    "liste=[normalise([uniform(-i,i) for k in range(n)]) for i in range (1,100)]\n",
    "p=len(liste)\n",
    "for i in range(p):\n",
    "    for j in range(n):\n",
    "        liste[i][j]=liste[i][j]*(i+1)\n",
    "\n",
    "\n",
    "#print([[f_minim(vecteur+deplacement),f_minim(vecteur)] for vecteur in liste])\n",
    "\n",
    "\n",
    "deplacement=[uniform(-1,1)*epsilon for k in range(n)] #on crée un déplacement de façon aléatoire et plus petit que $\\espilon$ en valeur absolue pour chaque composante\n",
    "\n",
    "\"\"\"X=liste[0]\n",
    "print(np.array(deplacement))\n",
    "print(np.array(X))\n",
    "print(np.array(liste[0])+np.array(deplacement))\n",
    "\"\"\"\n",
    "\n",
    "l=conditionnement(f_minim,liste,epsilon,deplacement)\n",
    "print(l)\n",
    "\n",
    "k=sum(l)/len(l)\n",
    "print(\"Moyenne:\", k)"
   ]
  },
  {
   "cell_type": "markdown",
   "metadata": {},
   "source": [
    "Même si la valeur de k est relativement faible (moyenne inférieure à 1) elle reste très grande devant epsilon ce qui indique un mauvais conditionnement du problème.\n",
    "\n",
    "\n",
    "La valeur de k obtenue est faible devant $\\epsilon$, ce qui signifie que le problème est bien conditionné. On sait de plus que la fonction f diverge quand $\\|M\\|$, $M \\in R^{3n}$ diverge. Ainsi, si f(y) est plutôt proche de f(x), cela signifie que x et y ne sont pas trop éloignés spatialement l'un de l'autre.\n",
    "Et, bien que l'on ne prenne pas en compte les données de fermeture de boucle, on peut considérer que le vecteur calculé en question 2 de cette deuxième partie est une première approximation (bien que grossière) du vecteur solution. Ainsi, il n'est pas trop éloigné spatialement du vecteur x* solution.\n",
    "Comme il s'agit d'un problème d'optimisation non-convexe, lorsque l'on a atteint un minimum local (gradient nul), on ne peut savoir qu'il est global uniquement si l'on a testé toutes les autres valeurs, ce qui est très coûteux.\n",
    "Mais, si l'on sait qu'une racine n'est pas trop éloignée spatialement du minimum global, on peut en utilisant des méthodes d'optimisation pour des fonctions convexes, espérer converger vers ce minimum global.\n",
    "C'est ce choix que nous avons fait pour la question suivante."
   ]
  },
  {
   "cell_type": "markdown",
   "metadata": {},
   "source": [
    "### Question 4"
   ]
  },
  {
   "cell_type": "markdown",
   "metadata": {},
   "source": [
    "Même si la fonction n'est pas convexe, les oscillations très légères comparées au caractère quadratique de la fonction nous permettent de penser qu'une méthode de descente de gradient à pas variable avec conditions de Wolfe ne nous mènera au minimum global. On part de l'estimation avec les relations d'odométrie seulement."
   ]
  },
  {
   "cell_type": "code",
   "execution_count": 57,
   "metadata": {},
   "outputs": [
    {
     "name": "stdout",
     "output_type": "stream",
     "text": [
      "[  0.           0.           0.         ...  -7.61606458 -30.64994328\n",
      "  83.53317   ]\n"
     ]
    },
    {
     "name": "stderr",
     "output_type": "stream",
     "text": [
      "C:\\Users\\El amraoui\\Anaconda3\\lib\\site-packages\\autograd\\numpy\\numpy_vjps.py:99: RuntimeWarning: divide by zero encountered in double_scalars\n",
      "  defvjp(anp.sqrt,    lambda ans, x : lambda g: g * 0.5 * x**-0.5)\n",
      "C:\\Users\\El amraoui\\Anaconda3\\lib\\site-packages\\autograd\\numpy\\numpy_vjps.py:99: RuntimeWarning: invalid value encountered in double_scalars\n",
      "  defvjp(anp.sqrt,    lambda ans, x : lambda g: g * 0.5 * x**-0.5)\n"
     ]
    },
    {
     "name": "stdout",
     "output_type": "stream",
     "text": [
      "[nan nan nan ... nan nan nan]\n"
     ]
    },
    {
     "data": {
      "text/plain": [
       "'print(\"Gradient à pas variable avec conditions de Wolfe...\")\\nstart_time = time.time()\\nres = optim_gradient_wolfe_step(f_minim, grad_f_minim, P)\\nprint(\"Durée : \", time.time()-start_time)\\nprint()\\n'"
      ]
     },
     "execution_count": 57,
     "metadata": {},
     "output_type": "execute_result"
    }
   ],
   "source": [
    "#On définit le gradient\n",
    "def grad_f_minim(p) : \n",
    "    gradf = autograd.grad(f_minim)\n",
    "    gradient = gradf(p)\n",
    "    return gradient\n",
    "\n",
    "print(P)\n",
    "print(grad_f_minim(P))\n",
    "\n",
    "# Conditions de Wolfe\n",
    "def wolfe_step(fun, grad_fun, xk, pk, c1 = 0.25, c2 = 0.75, M = 1000):\n",
    "    l_moins = 0\n",
    "    l_plus = 0\n",
    "    f_xk = fun(xk)\n",
    "    grad_f_xk = grad_fun(xk)\n",
    "    li = 1 #- 2*0.1*abs(f_x) / np.dot(grad_f_x,d)\n",
    "    i = 0\n",
    "    while(i < M):\n",
    "        if (fun(xk+li*pk)>(f_xk+c1*li*np.dot(grad_f_xk,pk))):\n",
    "            l_plus = li\n",
    "            li = (l_moins+l_plus)/2.0\n",
    "        else:\n",
    "            if (np.dot(grad_fun(xk+li*pk),pk) < c2*np.dot(grad_f_xk,pk)):\n",
    "                l_moins = li\n",
    "                if (l_plus == 0):\n",
    "                    li = 2*li\n",
    "                else:\n",
    "                    li = (l_moins+l_plus)/2.0\n",
    "            else:\n",
    "                return li\n",
    "        i = i + 1\n",
    "    return li\n",
    "\n",
    "def optim_gradient_wolfe_step(fun, grad_fun, x0, max_iter = 100000, epsilon_grad_fun = 1e-8):\n",
    "    k = 0\n",
    "    xk = x0\n",
    "    grad_f_xk = grad_fun(xk)\n",
    "    while ((k<max_iter) and (norme(grad_f_xk)>epsilon_grad_fun)):\n",
    "        pk = -grad_f_xk\n",
    "        lk = wolfe_step(fun, grad_fun, xk, pk)\n",
    "        xk = xk + lk*pk\n",
    "        grad_f_xk = grad_fun(xk)\n",
    "        k = k + 1\n",
    "    print(\"Nombre d'iterations : \", k)\n",
    "    return xk\n",
    "\n",
    "\n",
    "#Gradient à pas variable avec conditions de Wolfe\n",
    "print(\"Gradient à pas variable avec conditions de Wolfe...\")\n",
    "start_time = time.time()\n",
    "res = optim_gradient_wolfe_step(f_minim, grad_f_minim, P)\n",
    "print(\"Durée : \", time.time()-start_time)\n",
    "print()\n"
   ]
  },
  {
   "cell_type": "markdown",
   "metadata": {},
   "source": [
    "Remarque : Nous avons également essayé de calculer le gradient à la main. Mais cette version était beaucoup trop lente et ne nous a jamais fourni de résultat"
   ]
  },
  {
   "cell_type": "code",
   "execution_count": null,
   "metadata": {},
   "outputs": [],
   "source": [
    "def loop_from(i):\n",
    "    \"\"\"\n",
    "    trouve toutes les boucles qui partent de i\n",
    "    \"\"\"\n",
    "    res = []\n",
    "    for loop in donnees_loop:\n",
    "        if loop[0]==i:\n",
    "            res.append(loop)\n",
    "    return res\n",
    "\n",
    "def loop_to(i):\n",
    "    \"\"\"\n",
    "    trouve toutes les boucles qui arrivent en i\n",
    "    \"\"\"\n",
    "    res = []\n",
    "    for loop in donnees_loop:\n",
    "        if loop[1]==i:\n",
    "            res.append(loop)\n",
    "    return res\n",
    "\n",
    "def grad_partiel(x_i,y_i,theta_i,x_i_prec,y_i_prec,theta_i_prec,dx_i_prec,dy_i_prec,dtheta_i_prec):\n",
    "    grad_x = 2*x_i*(x_i - cos(theta_i_prec)*dx_i_prec + sin(theta_i_prec)*dy_i_prec - x_i_prec)\n",
    "    grad_y = 2*y_i*(y_i - sin(theta_i_prec)*dx_i_prec - cos(theta_i_prec)*dx_i_prec - y_i_prec)\n",
    "    grad_theta = 2*theta_i*(theta_i - dtheta_i_prec - theta_i_prec)\n",
    "    return grad_x,grad_y,grad_theta\n",
    "    \n",
    "\n",
    "def grad_f_minim(P):\n",
    "    odo = donnees_odo\n",
    "    loop = donnees_loop\n",
    "    n = len(P)//3\n",
    "    grad = [0,0,0]   #Le gradient au premier point est toujours nul car on a pris (x,y,theta)_0 = (0,0,0)\n",
    "    for i in range(1,n):\n",
    "        grad_x = 0\n",
    "        grad_y = 0\n",
    "        grad_theta = 0\n",
    "        #On commence par ajouter la partie liée à l'odométrie\n",
    "        x_i = P[3*i]\n",
    "        y_i = P[3*i+1]\n",
    "        theta_i = P[3*i+2]\n",
    "        x_i_prec = P[3*(i-1)]\n",
    "        y_i_prec = P[3*(i-1)+1]\n",
    "        theta_i_prec = P[3*(i-1)+2]\n",
    "        dx_i_prec = odo[i-1][2][0]\n",
    "        dy_i_prec = odo[i-1][2][1]\n",
    "        dtheta_i_prec = odo[i-1][2][2]\n",
    "        g_x,g_y,g_theta = grad_partiel(x_i,y_i,theta_i,x_i_prec,y_i_prec,theta_i_prec,dx_i_prec,dy_i_prec,dtheta_i_prec)\n",
    "        grad_x += g_x\n",
    "        grad_y += g_y\n",
    "        grad_theta += g_theta\n",
    "        if i<n-2:\n",
    "            x_i_suiv = P[3*(i+1)]\n",
    "            y_i_suiv = P[3*(i+1)+1]\n",
    "            theta_i_suiv = P[3*(i+1)+2]\n",
    "            dx_i = odo[i][2][0]\n",
    "            dy_i = odo[i][2][1]\n",
    "            dtheta_i = odo[i][2][2]\n",
    "            dx_i_suiv = odo[i+1][2][0]\n",
    "            dy_i_suiv = odo[i+1][2][1]\n",
    "            dtheta_i_suiv = odo[i+1][2][2]\n",
    "            g_x,g_y,g_theta = grad_partiel(x_i_suiv,y_i_suiv,theta_i_suiv,x_i,y_i,theta_i,dx_i,dy_i,dtheta_i)\n",
    "            grad_x -= g_x\n",
    "            grad_y -= g_y\n",
    "            grad_theta -= g_theta\n",
    "            grad_theta += 2*(-sin(theta_i)*dx_i-cos(theta_i)*dy_i)*(x_i_suiv - cos(theta_i)*dx_i + sin(theta_i)*dy_i - x_i)\n",
    "            grad_theta += 2*(cos(theta_i)*dx_i-sin(theta_i)*dy_i)*(y_i_suiv - sin(theta_i)*dx_i - cos(theta_i)*dx_i - y_i)\n",
    "        #On ajoute ensuite la partie liée aux boucles\n",
    "        l_f = loop_from(i)\n",
    "        for k in l_f:\n",
    "            x_k = P[3*int(k[1])]\n",
    "            y_k = P[3*int(k[1])+1]\n",
    "            theta_k = P[3*int(k[1])+2]\n",
    "            dx_k = k[2][0]\n",
    "            dy_k = k[2][1]\n",
    "            dtheta_k = k[2][2]\n",
    "            g_x,g_y,g_theta = grad_partiel(x_k,y_k,theta_k,x_i,y_i,theta_i,dx_k,dy_k,dtheta_k)\n",
    "            grad_x -= g_x\n",
    "            grad_y -= g_y\n",
    "            grad_theta -= g_theta\n",
    "            grad_theta += 2*(-sin(theta_i)*dx_k-cos(theta_i)*dy_k)*(x_k - cos(theta_i)*dx_k + sin(theta_i)*dy_k - x_i)\n",
    "            grad_theta += 2*(cos(theta_i)*dx_k-sin(theta_i)*dy_k)*(y_k - sin(theta_i)*dx_k - cos(theta_i)*dx_k - y_i)\n",
    "        l_t = loop_to(i)\n",
    "        for k in l_f:\n",
    "            x_k = P[3*int(k[0])]\n",
    "            y_k = P[3*int(k[0])+1]\n",
    "            theta_k = P[3*int(k[0])+2]\n",
    "            dx_k = k[2][0]\n",
    "            dy_k = k[2][1]\n",
    "            dtheta_k = k[2][2]\n",
    "            g_x,g_y,g_theta = grad_partiel(x_i,y_i,theta_i,x_k,y_k,theta_k,dx_k,dy_k,dtheta_k)\n",
    "            grad_x += g_x\n",
    "            grad_y += g_y\n",
    "            grad_theta += g_theta\n",
    "        grad.append(grad_x)\n",
    "        grad.append(grad_y)\n",
    "        grad.append(grad_theta)\n",
    "    return np.array(grad)"
   ]
  },
  {
   "cell_type": "markdown",
   "metadata": {},
   "source": [
    "## Partie 3"
   ]
  },
  {
   "cell_type": "markdown",
   "metadata": {},
   "source": [
    "### Question 1"
   ]
  },
  {
   "cell_type": "markdown",
   "metadata": {},
   "source": [
    "On a compris que le problème ici réside dans la non convexité de la fonction f selon les variables $\\theta_{i}$, ce que l'on va chercher à corriger. Géométriquement, modifier le produit scalaire en considérent une matrice symétrique définie positive, revient à transformer l'espace en accordant plus ou moins d'importance à l'une ou l'autre des dimensions. On va donc chercher à modifier les dimensions de telle sorte que f deviennent convexe.\n"
   ]
  },
  {
   "cell_type": "markdown",
   "metadata": {},
   "source": [
    "Fixons tous les paramètres sauf $\\theta_{i}$.\n",
    "Si i n'est pas engagé dans une fermeture de boucle, la dépendance de f en $\\theta_{i}$ vient uniquement du terme  $ \\|P_{i+1} - F(P_{i},dx_{i},dy_{i},d\\theta_{i})\\|² = (x_{i+1}-x_{i}-dx_{i}\\cos(\\theta_{i})+dy_{i}\\sin(\\theta_{i})² + (y_{i+1}-y_{i}-dx_{i}\\sin(\\theta_{i})-dy_{i}\\cos(\\theta_{i})² + (\\theta_{i+1}-\\theta_{i}-d\\theta_{i})²$.\n",
    "\n",
    "\n",
    "\n"
   ]
  },
  {
   "cell_type": "markdown",
   "metadata": {},
   "source": [
    "On va donc chercher à accorder plus de poids à ce troisième terme de telle sorte que les variations quadratiques de $\\theta_{i}$ dans ce terme compensent les oscillations dûes au cos et au sin dans les autres termes. Comme une matrice symétrique définie positive est diagonalisable, on peut la choisir diagonale. On va donc multiplier ce troisième terme par un réel $\\lambda \\geqslant 0$, ce qui correspond à une dilatation de la 3i-ème composante de l'espace d'un facteur $\\lambda$."
   ]
  },
  {
   "cell_type": "markdown",
   "metadata": {},
   "source": [
    "Alors, $\\frac{1}{2}\\frac{\\partial^2 f}{\\partial \\theta_{i}^2}= (dx_{i}\\cos(\\theta_{i})-dy_{i}\\sin(\\theta_{i})\n",
    "(x_{i+1}-x_{i}-dx_{i}\\cos(\\theta_{i})+dy_{i}\\sin(\\theta_{i}) + (dx_{i}\\cos(\\theta_{i})+dy_{i}\\sin(\\theta_{i})² + (dx_{i}\\sin(\\theta_{i})+dy_{i}\\cos(\\theta_{i})\n",
    "(y_{i+1}-y_{i}-dx_{i}\\sin(\\theta_{i})-dy_{i}\\cos(\\theta_{i}) + (-dx_{i}\\cos(\\theta_{i})+dy_{i}\\sin(\\theta_{i})² + \\lambda$."
   ]
  },
  {
   "cell_type": "markdown",
   "metadata": {},
   "source": [
    "Alors, pour obtenir $\\frac{1}{2}\\frac{\\partial^2 f}{\\partial \\theta_{i}^2} \\geqslant 0$, il suffit qu'on ait $\\lambda \\geqslant  (\\|dx_{i}\\| +\\|dy_{i}\\|)(4(longueur maximale du laboratoire) + 3(\\|dx_{i}\\| +\\|dy_{i}\\|)$.\n",
    "Si i est engagé dans une fermture de boucle, multiplier ce terme par deux est suffisant.\n",
    "\n",
    "Ainsi, on peut convexifier le problème en changeant de produit scalire et en travaillant avec la matrice symétrique définie positive $A=(A_{ij})_{1\\leqslant i,j \\leqslant 3n}$ tq A est diagonale et $A_{3k+1, 3k+1}= A_{3k+2, 3k+2} = 1$ et $A_{3k+3, 3k+3}= 2(\\|dx_{k}\\| +\\|dy_{k}\\|)(4(longueur maximale du laboratoire) + 3(\\|dx_{k}\\| +\\|dy_{k}\\|)$ par exemple.\n",
    "\n",
    "Remarque: on travaille ici avec la longueur maximale du laboratoire car on sait que le domaine auquel aura accès le robot est borné. En pratique, on connait cette valeur. Pour notre algorithme, il suffira de chosiir une valeur suffisamment grande.\n"
   ]
  },
  {
   "cell_type": "markdown",
   "metadata": {},
   "source": [
    "### Question 2"
   ]
  },
  {
   "cell_type": "markdown",
   "metadata": {},
   "source": [
    "On définit donc la matrice A et on redéfinit la fonction norme pour l'associer à A."
   ]
  },
  {
   "cell_type": "code",
   "execution_count": 52,
   "metadata": {},
   "outputs": [
    {
     "name": "stdout",
     "output_type": "stream",
     "text": [
      "[0.0, 0.0, 957.2034358694001, 51051.3696684896, 4409.352906562945, 630.4814906438639, 2130.577022322176, 2300.499845780864, 2229.7786443612163, 1242.885792815104, 508.320968959584, 112.96004784985601, 1857.692941156184, 2569.7047622073846, 867.282820654744, 24215.958648150016, 50048.10952562215, 51794.61615245398, 54409.25684929269, 51816.2245433023, 54771.244966, 52924.3395292383, 57068.84797563033, 53514.895106764896, 52826.860895408594, 50662.581458837856, 50598.076978657664, 47480.2909084737, 30592.868908544533, 636.00151686, 17632.60575378678, 52534.10529511701, 52307.4562392294, 52472.40101189223, 52343.3903329335, 52241.67046246678, 34058.58884223242, 360.72048794594394, 2998.1937086126964, 50703.79711696789, 52957.79280422274, 49699.25911037501, 52936.02416500226, 52183.167566581855, 52977.880779595136, 52190.29035280802, 52052.9566988694, 52212.45902697882, 51866.80419778435, 50816.15986903746, 49265.17810531363, 51032.9626260184, 48212.073364682336, 45275.044252055144, 671.2016894104, 2491.2232727903997, 53188.04440046858, 52539.387375162456, 52184.68816136227, 51862.082362140005, 52584.7652532576, 49668.76775472487, 50430.7336152854, 51024.159258777596, 50309.32777714009, 51794.376059241986, 51567.64822887619, 38733.70449067683, 830.0825838730242, 664.881657745304, 669.041678554456, 0.0, 307.360354263136, 371.2005167104, 154.320089304984, 1620.489847332864, 1145.7649228724163, 30222.944572708868, 51540.1175902111, 54196.69032968899, 51830.8702324224, 53290.64534399999, 51290.18126707238, 53685.84378719626, 51768.28593277962, 59993.891181440595, 50423.530892735005, 29211.999327490405, 2405.781703804416, 51840.95415045591, 53084.88331291299, 52747.5495143471, 55160.285246119696, 52799.49006029046, 56135.171868266334, 51303.38634447746, 51383.41714458946, 50614.16308059798, 59518.398222398304, 48924.01255426826, 56407.526738872606, 53690.56568737622, 51837.6728754566, 52693.36810352886, 53181.401752397396, 52091.13159897945, 52410.77678864088, 34542.15319252419, 1208.8054794903999, 1457.7679689908161, 11513.297042114398, 53644.22704707337, 53100.00933239818, 51227.75728248423, 53273.838631778395, 62240.9204682136, 52572.440395952224, 2637.706090084184, 41973.084445413464, 52634.464851734425, 50535.093105642256, 49406.750460821604, 17727.098280899423, 26440.061018376575, 50940.60732951591, 57196.4226055809, 51173.33639667047, 53217.095985677464, 52238.14908360322, 53306.17154669526, 52412.53748033882, 52477.28293209366, 47835.6978752781, 48971.87011356709, 47817.7714485174, 52598.93083741077, 52345.55118074755, 53553.87074637251, 51752.35975379618, 54048.23010361174, 51937.231596718106, 52281.8462006246, 56213.444824409606, 30068.34963182426, 1114.164655071896, 238.160212700696, 6106.139812135, 35657.24662248806, 52477.5230265344, 52596.369827735, 53578.200514855576, 52550.83188264486, 53518.97674405461, 52738.10578089319, 52276.64416213359, 52352.593944236185, 47665.3969182925, 15004.524164050783, 282.16029855349603, 875.1228718813039, 0.720000001944, 2228.978630985056, 253.52024102146402, 1851.372853251936, 14212.3573859046, 53129.4610577967, 51454.64459705954, 49669.96820166595, 50755.41674559242, 49190.03037559945, 47936.7741569537, 52764.83635019759, 52495.1299533664, 51634.073921134426, 50394.720006421405, 50160.3116653679, 50952.21176100706, 53064.47519410262, 28951.86260646114, 273.20027989339997, 45268.32197074954, 48747.78804408871, 50534.692954066304, 55208.62524082941, 52639.1867147104, 54685.289706339434, 50387.03710445506, 51013.995371867415, 51571.00952817206, 52669.2785911607, 51950.99695630691, 51573.49048723047, 47743.58487766426, 49470.93424638361, 49677.33094314082, 52239.18949098505, 52322.66220197659, 51867.44444669814, 53170.27731841638, 51644.39791723759, 52771.719072502136, 46511.06946983286, 66057.63543999015, 49607.62500480961, 49345.527801368604, 47569.6827540454, 49134.89005558389, 52216.54062442979, 51997.41503980674, 52425.98276316198, 51827.50892658057, 53116.73599086229, 52586.68601034278, 51360.68839247739, 29937.440184295425, 652.721597662744, 247.36022945113604, 109.440044914176, 54686.57023121674, 50781.506674013704, 52156.116988647416, 50881.3046988246, 53484.002718777345, 51148.76697461205, 51856.320122258025, 52959.31340783039, 55223.911567304065, 57974.19830152959, 51264.0112084399, 29846.939901728605, 10853.561713301504, 38470.18823198874, 54156.03382008726, 51993.09335548886, 24220.11940368422, 38528.52506917686, 54402.614140429665, 53015.09556267798, 52916.8965768536, 56071.22497804918, 47907.723721362905, 50840.00895536738, 53247.90827993174, 53488.80464390182, 52531.62431819814, 53953.47174917258, 53319.456855590404, 47318.953584078175, 3145.077092287256, 703.921858137624, 51157.41028869661, 46285.551033215066, 48892.8011117993, 49878.686074000536, 3593.8884338222965, 155.040090140256, 49390.42441555414, 51856.320122258025, 52459.03575586114, 47722.13720359359, 3995.099851292256, 53489.68499686006, 49849.075006288214, 50270.03296459318, 49570.251112572056, 52761.39498917844, 61237.33608755234, 57036.9943543064, 51669.127492546904, 53768.757177360225, 56193.516429378586, 53084.56318553501, 57418.67807090978, 51920.82521069095, 55438.160421581335, 50872.5013415894, 47523.82641038473, 56331.4946150406, 52449.191885508706, 51599.58057560561, 53728.66102375349, 51576.3716010336, 52405.574745123544, 51468.56996861493, 53094.88729386199, 49621.31009430722, 3342.761901663743, 1023.0439247906561, 2113.2967473213444, 44668.3597282589, 52157.23742667786, 51937.87184596982, 51893.214468028506, 51244.56373700055, 53456.8718450703, 53133.38261954939, 51460.0866961151, 52151.71526790467, 49647.6398903296, 51310.6691453024, 48421.34915987157, 26261.7857959424, 0.0, 42591.36041781397, 57914.252267050586, 51794.85624566641, 53242.946299597184, 51817.10488522586, 54070.23902157793, 51022.63867722211, 23404.933855471107, 849.4427058061761, 24197.875365989985, 52189.3299771149, 50888.1072934496, 52420.300530374996, 51373.65338440502, 53781.96250004771, 28833.5169698656, 107.440043287576, 1042.6440766181358, 744.9620811202559, 2361.860918580696, 811.682470591584, 283.920302289624, 2541.5442224646636, 2477.6230193815995, 54295.21038760089, 52825.3402933103, 51858.56099329366, 51590.05689244802, 52164.520274104994, 14349.732097449058, 234.720206600544, 3199.958398080024, 1000.6437548015359, 935.923284798424, 440.720728377944, 714.961916879256, 1668.730442349144, 15510.262025928536, 54156.91417744743, 54689.851576270936, 51453.68422666102, 21686.963429621403, 362.16049184949594, 9574.7437592576, 47622.661655871896, 50741.89160065783, 62928.44295399359, 22056.38401356298, 205.920159011424, 367.520506516064, 594.6413259877361, 0.0, 411.840636045696, 2300.179840260096, 1473.5281422294638, 637.5215241190641, 402.960608912856, 1303.6863734307838, 28054.230778661145, 24050.488706355583, 37745.10108556822, 25021.307306348062, 19427.255112223895, 51565.40736272597, 49348.96907429209, 201.760152651616, 643.281551784344, 747.7620967938161, 46290.992921448866, 49020.2078664704, 52003.417379369355, 37881.13964948341, 211.280167397144, 6764.251572918424, 54325.14257232341, 54504.41569086933, 54330.34469067395, 18964.788545212374, 526.561039745376, 446.16074647029603, 338.80043044539997, 1044.9640947802561, 17953.448560953817, 61554.3619673481, 51968.20365778982, 52180.926690094944, 5639.399255545944, 13357.789047455104, 234.72020660054403, 3333.1616613335036, 970.483531867864, 24330.219443439997, 0.0, 141.6000751896, 383.360551118336, 12269.844507118944, 52860.71430450522, 52890.8862626406, 59892.40558694006, 51073.53815344502, 48727.62067629414, 291.6003188646, 647.0415699778559, 32128.34993330727, 49893.25152052962, 24507.69193721098, 431.92069958082396, 87.28002856674402, 51836.79253339735, 52183.72778570947, 52136.749418465384, 52057.67854126806, 25122.206273856096, 30303.282801140092, 35507.686725632855, 880.9629103394561, 5842.127983615, 1636.890047660504, 480.960867459456, 514.4009922776, 0.0, 156.560091916376, 0.0, 2629.385925752536, 54387.00777753443, 52383.4860702934, 27899.398300986464, 1901.6135603095997, 988.723665877144, 134.4000677376, 50946.1294381686, 50964.37640751574, 52284.807361086976, 51937.15156556186, 38382.16287436634, 290.960317466456, 1622.8098755494, 2471.8629124736963, 1489.528320011864, 112.08004710722399, 1893.693447589784, 1452.327909625184, 510.40097690560003, 3208.9986153410555, 53315.8554163014, 54811.34143288002, 52127.70588459106, 39157.028085221136, 252.24023859381603, 116.640051018336, 28202.742099240215, 48462.16398035733, 51880.4895189856, 29450.611801291136, 938.243301103616, 670.0016833750001, 41629.85689036633, 54414.21887299651, 44502.5443088893, 140.8000743424, 30808.03843495526, 49390.7445340696, 48160.69480664, 49691.736308071064, 52003.65747295746, 53960.67466226521, 40063.29719630375, 269.840273051096, 2542.184234665496, 512.560985191576, 718.961938388056, 537.3610828341361, 461.84079986069605, 680.721737673944, 931.923256780824, 501.280942306144, 218.16017847669596, 1837.2126573894, 225.040189911256, 0.0, 37197.34721287049, 51581.573612224594, 51709.54315138086, 52870.398141784026, 51579.65286960739, 40121.79477825142, 427.440685143576, 446.560747809376, 24596.428272647896, 51314.91077673526, 51426.873889158654, 55191.49815460802, 52276.244005335, 53231.661796620065, 53500.169200718185, 53506.49173626741, 59786.35802530186, 50245.70379928501, 60439.13212674698, 37950.5993932614, 107.12004303010399, 30317.606056111894, 51789.41413295753, 52331.705749063774, 52161.47908502114, 52071.3638820454, 30255.031847384602, 450.960762618456, 1062.164230689496, 219.760181104216, 9109.191143855704, 53749.06924414361, 51691.055987108055, 53044.46723751463, 51423.352531797376, 45032.16204126198, 15812.5375251046, 882.0829177442241, 41843.60376718486, 51773.487951452385, 49886.28891677065, 46356.215569757696, 50130.38041486746, 51724.74904599255, 53708.33283870306, 50830.16520445286, 52280.96585563494, 52275.0435349464, 16859.625791419778, 1474.088148419424, 527.5210435400639, 0.0, 31776.9057418295, 50867.219327527055, 47537.67134319739, 52916.656481622296, 53358.75256614883, 54158.27472974274, 54605.176893135, 9602.905784344577, 460.48079515686396, 1765.2116847414, 7716.143257830425, 904.243066187416, 1276.4861102544637, 2055.6158455926, 701.361844646936, 1325.4465879669758, 510.40097690560003, 16191.302974231383, 52634.7849780326, 53198.288484889184, 53923.61968016674, 52195.652450554975, 50976.861177454106, 478.00085681499996, 0.0, 1027.0439555418561, 24324.138334221818, 55355.806226585984, 52282.646514256594, 50086.5239423031, 480.56086601717595, 152.720087462744, 48057.4575769304, 51068.97640714241, 51353.88577376, 28137.448308618266, 5772.604955720064, 6699.128285244057, 957.123435295104, 2160.017496, 113.76004853001601, 912.8031245143999, 2116.176792999296, 52557.71459391113, 53423.4984770144, 51929.94876169609, 52104.176693135, 26559.204690796374, 292.08031991522404, 50536.61368164186, 50236.18021275735, 52543.148856534404, 52050.9559182424, 53994.128197058395, 52776.52097199463, 51588.13614970869, 51936.75140978134, 21863.072183362146, 1863.533022650464, 52170.84274636953, 46465.13346212086, 51886.81197779234, 48855.18733185801, 31714.810962717052, 897.1230180911041, 2646.8262708134002, 2061.455935755776, 27931.805083767707, 54738.0313348934, 52201.4147050904, 52016.3024025423, 50455.863117005785, 30794.195238168533, 897.4430202445761, 1361.286949062144, 50037.70562300759, 40606.9815936024, 2726.987886165656, 710.8018946374, 50914.5173699864, 51900.65736331418, 57634.53114038823, 51558.124547997686, 48256.249336948065, 50585.1920924326, 28222.346246045534, 23531.676157785598, 328.480404621664, 346.560450389376, 774.2422479284158, 664.161654156896, 38328.14734276214, 54655.19737526, 53701.530100302945, 50641.213345944605, 42641.93657546531, 296.96033069465597, 10312.7987959766, 52181.72700312166, 54549.71420447577, 51198.2259461046, 53088.08458673506, 34260.48054631362, 53528.180436440576, 53941.62695959895, 51311.78957623383, 50001.29197024482, 41352.33056912742, 786.082317206624, 24691.325807610458, 56251.94104974402, 56073.22581895577, 55753.49182272471, 53223.41850781441, 61175.62777992961, 12447.3809606134, 349.92045916502394, 2155.4574222059764, 33509.3297239983, 45499.92076233049, 50038.265833127705, 58871.551237819775, 51796.45686709359, 41943.63518246486, 520.4010155606, 23835.7301518336, 50709.39924624021, 52784.924296522266, 773.762245142016, 4493.355710869344, 51420.71151383741, 46907.20817168406, 48726.820383984224, 51233.679556691306, 53689.845397507444, 24740.054837886815, 49059.662369816535, 21919.561455762818, 679.0417291074559, 1646.330163885784, 829.6825813833839, 1349.686831135384, 22587.192855772544, 46586.61583049665, 39292.5879474534, 50769.902257368216, 51988.2914841887, 24404.392995297494, 854.0827354474239, 46890.72237599106, 43014.21609799874, 51785.73270389798, 52558.51490919771, 49054.70054522498, 48715.77635059751, 34568.399992121624, 810.2424618332161, 546.0811182626239, 410.00063037500007, 225.840191263896, 1298.7263250261442, 1328.646619815936, 43757.65789187586, 53447.1079331686, 52404.85446219098, 49035.333425197794, 51611.1850644054, 49769.52530556822, 53010.61378180003, 53876.16050646054, 44292.39436787926, 440.240726792216, 441.120729700704, 5985.814356368985, 1306.966405541656, 112.08004710722399, 507.92096743522393, 48815.81291825751, 51641.8369258817, 52975.23973086754, 52953.15096173814, 52099.53488034453, 68441.7169962689, 53207.8122828294, 51977.2471808541, 52501.052283822944, 2033.935513114624, 1144.9649160002562, 1364.246979315416, 1291.686256639584, 34254.639046025215, 52719.05825273993, 51864.4832954976, 53074.87933271397, 52071.36388204539, 50822.5623079021, 10234.7927860376, 120.560054505176, 47287.1823184854, 48641.74933881411, 415.04064596825594, 1357.126906655104, 48805.48914100437, 54427.10412896, 43762.93962449941, 84.40002671260001, 1056.7241874643441, 499.4409354011759, 974.5635616269759, 236.40020956860002, 53609.01289249161, 51522.11063485449, 48068.10141164918, 5729.083078685055, 654.161604719896, 30175.173756630615, 52779.242048450404, 51495.22025271255, 55778.942460694736, 52345.47114934639, 54653.11652282983, 52655.91331541026, 51141.24409058677, 49210.2778428054, 51109.872068160024, 1994.734920904544, 158.480094184664, 59461.652920984605, 36075.0389616591, 806.4024385536001, 883.5229272784641, 324.8003956064, 859.122767826904, 57746.17941677378, 52559.2351929597, 5751.404039581145, 948.4833735536639, 48654.634037372416, 45154.68345707786, 388.24056523861594, 25562.289895328096, 51664.08553992743, 51075.458888776986, 51601.26122564514, 19204.822895404377, 919.9231734480239, 30774.27063953494, 49840.03162745894, 19293.555702890495, 870.8028435974002, 401.680605050584, 163.6001003686, 817.9225087242241, 833.122602833504, 42421.78638356826, 52648.710472746585, 27612.778653809022, 50761.33899883559, 52335.147099001304, 4599.839341720216, 1313.766472370016, 29507.424357964894, 50625.68745332962, 52783.08356824713, 51928.34813866762, 53537.784290041855, 52217.58103164314, 57511.518058002905, 51844.4755188376, 53434.782996214424, 49490.22139994805, 15588.751177834496, 855.842746732896, 54838.8727464566, 56700.21080306569, 50258.188501981145, 490.96090390645594, 2507.2235726944, 400.32060096038396, 2195.778080107416, 831.5225928456641, 1275.2060980064, 23448.061430935, 48089.86925672541, 49298.950581227095, 44830.013955175054, 174.32011395298397, 2361.3809100789363, 51297.86422104, 52825.5803883773, 57822.772589433225, 52639.42680944245, 52582.04418076758, 49663.80590748298, 49362.334018813395, 48458.16252681654, 45878.61046107493, 20582.388384982398, 503.60095104859994, 1377.2071125494, 1881.453274311776, 2339.380522269536, 1544.088940686424, 148.16008231769598, 1582.169387113496, 1868.173087581696, 23640.735444878934, 46078.839472439904, 51288.98080555491, 51185.58109404341, 52038.47104780759, 51751.239319165405, 13014.795131351895, 473.2008396934, 38000.05347250774, 53647.50836649635, 51620.30859423938, 49122.72557586179, 48826.936989215, 49711.6637321216, 52512.81691402307, 51283.85883653499, 52695.2088305664, 40975.814380883865, 339.36043186953606, 11344.962614599264, 54190.52782645286, 51541.5581467446, 49969.039886096376, 50602.638708861654, 47269.73613555894, 12661.961162638936, 2285.6995912489842, 1452.887915726104, 188.40013310459997, 221.360183750936, 647.921574251224, 963.843483703296, 1570.8892537399042, 1200.645405761536, 52410.4566628801, 47975.26799457333, 18597.21678090242, 56392.880547439454, 37851.371198935, 3483.405501738336, 57005.700979957466, 57271.25470687605, 31273.02664828054, 634.881511522304, 1178.8052108854, 880.322906112384, 667.441670535576, 590.161306083096, 36094.24415714454, 50339.819279167394, 52420.54062471321, 54284.646088713605, 57793.3198281824, 57706.80237960099, 1651.690230175584, 54963.7241234966, 49734.3922033463, 40660.5979258976, 55306.345714078314, 47966.704915389826, 52875.6802351414, 39837.62961024359, 521.841021188696, 47173.94222683761, 52398.37191597283, 51062.09377266519, 51171.97587480949, 50398.64148780391, 15311.919104797056, 50225.8563256086, 48968.188762242404, 46751.47350334434, 50930.12332676059, 45064.8130672694, 22655.444432381468, 53668.556832030816, 44344.09154277634, 50801.35423033959, 51254.2474569926, 51450.402961184875, 51335.55872035299, 49817.14307847049, 42532.381599957596, 1148.964950409056, 48621.42192871158, 50387.03710445506, 51282.81843660186, 50948.6103856087, 52381.405253287696, 52490.40809548802, 51997.014883845506, 51765.8850011529, 40579.69328946946, 574.161236223896, 251.920237988824, 46104.368292848594, 52569.31916603606, 51319.79265458902, 53111.69398354471, 52094.41288021142, 44190.04042279974, 51649.519900096864, 51589.256582969945, 51848.47707392959, 14540.232732433175, 43625.21451338583, 46509.869051311616, 52315.779502834266, 52960.59391614503, 52148.43398526362, 53317.77618391011, 52299.0529447704, 51575.57129163759, 56207.20219432074, 51087.54351587481, 53194.7670807809, 49689.255384, 49693.17684464962, 52802.051073864604, 48778.119130757404, 55570.05529262466, 55972.8636760687, 51855.199686754306, 51169.254831129176, 33460.437449981015, 840.5626495291762, 552.081142971224, 86.560028097376, 0.0, 29063.72693555318, 49727.02945872282, 57391.78650050517, 51118.195257064595, 51369.811905184026, 51866.484073328604, 51980.60849046787, 52441.5088652504, 51249.52564302438, 52902.49086374, 50865.77877827363, 48141.807989653506, 48899.123429043095, 50063.47529096743, 48934.97657553501, 52380.20478195303, 51752.039629615, 50889.78793452803, 51569.72903319221, 51154.44915325273, 51838.2330931337, 49988.24708167271, 52231.266388820055, 49186.10892973687, 47775.3562519334, 49313.35590530741, 52785.72461317155, 31732.975282997402, 1585.849430831896, 57193.14119889091, 55906.675924575255, 53226.29965724199, 55473.53512541501, 52405.73480799797, 49792.653935998336, 50770.30240964953, 48002.79789772789, 24098.497372390782, 19925.248585797017, 50845.05087684874, 50455.78308673802, 50554.860594988546, 54572.20340157206, 56441.140954797396, 54118.33852402314, 63250.75535503542, 49225.80357072835, 46749.31274612069, 51505.22411448354, 52002.05684904483, 51181.0193439104, 5688.361335278616, 958.0034416149999, 51863.36285992535, 53449.268798855774, 14470.305126283864, 522.641024322136, 19947.171863064985, 46796.6093289046, 49925.663646258785, 52158.117770851226, 51201.18708251994, 52484.96595441174, 12865.100605671263, 948.7233752611442, 252.480239048064, 39188.1572267616, 57773.47123187546, 57131.91496691239, 136.8000701784, 163.60010036859998, 760.322167824384, 820.0025215000001, 1937.294073951744, 186.320130181784, 1248.5658458827759, 2050.4957667558638, 37128.92815083702, 52783.80385322133, 53932.42323869666, 53206.13161255526, 50012.25608003111, 33148.5195671926, 305.280349484544, 756.8821482525041, 2272.499365620064, 2006.335094949784, 102.640039506136, 48478.72999929302, 51282.89846736565, 37361.39306008729, 1849.1328221679041, 205.12015777830396, 30675.047783021662, 52876.24045717641, 48808.5302536006, 1135.364833908736, 539.4410912331759, 488.880896263704, 698.4818295286639, 49849.955335233535, 42963.47974767638, 229.92019823702398, 46935.778220500055, 49132.969348185616, 5358.187658829824, 2273.139376529504, 55889.70881581499, 49505.907219840345, 80.640024385536, 47891.79800315841, 18158.276292880855, 1772.7317845107439, 1022.2439186548161, 2504.4235200726, 55616.15450159798, 50025.70112099878, 48859.028738685025, 5780.525298840599, 122.80005654940001, 50715.8016799823, 51585.89528321442, 48296.50390412182, 620.0014415, 2657.9464920202245, 1441.3677906949358, 34917.85101420135, 54223.58125623158, 50128.459693139455, 1634.090013315424, 26349.803156054404, 1026.003947535, 51676.57037533337, 52678.5622565417, 52087.21006785685, 39962.22687918101, 831.4425923467759, 53536.503776188416, 55395.02250357846, 49566.8098339416, 50843.2902058336, 55053.28104858982, 52577.1622567334, 49457.9694393304, 46949.222951471456, 53694.6473300393, 7931.035865957399, 233.120203793504, 292.160320090496, 52114.18060056, 17127.659946465374, 400.480601440864, 47724.1379193126, 49389.864208153944, 51908.66047698778, 7321.561008670937, 108.48004412966401, 193.360140205336, 1308.4064196646, 48105.95505628774, 75606.86434527497, 51426.47373490838, 48500.337853169665, 21351.789347185026, 940.323315756384, 445.04074272725603, 27953.8096938479, 53274.15875961046, 42315.43260420514, 175.04011489625597, 181.60012366960004, 40720.6162338776, 53100.00933239817, 49885.24852773442, 49201.63465484757, 48828.537575040595, 51781.8912128137, 49073.187344236896, 6107.179859765856, 712.0819014672239, 1710.970977690456, 1538.7288787221441, 997.683732620184, 34656.82293730519, 51150.68771102691, 49205.87621923841, 48307.46787382615, 52774.36011720162, 51120.9963303704, 52707.453667592854, 55641.28497986338, 51859.2812732774, 51801.65888686461, 52891.6065481967, 42563.5915545984, 485.6008842776, 93.60003285360001, 567.4412074555761, 7328.921413013143, 48361.80756178965, 52784.20401154202, 49356.972034922495, 51246.0042903433, 52636.945830565375, 52097.29400526211, 51408.54682572694, 50631.28957932259, 51947.79570976419, 51372.372891319064, 21691.444158319384, 554.481152930264, 6466.9568231334, 51057.53202675381, 53621.25781337187, 51945.394774907545, 52872.078807829595, 53167.476202092505, 51361.08854653041, 51885.6915420326, 23915.344404253403, 124.960058556256, 10687.548304502105, 51163.172498397325, 48237.04239068759, 51516.188347846015, 51175.89737903463, 51075.538919416416, 53977.881622893656, 53287.844225149405, 53095.207421264735, 51294.743020937305, 51695.1375686103, 49751.438559305505, 54510.89833940021, 47369.531533828704, 50169.83524648061, 55386.05878210697, 52835.5843498863, 51061.85368077122, 52405.81483943526, 54460.63781335586, 51491.538831769605, 52994.367327379296, 61895.079588153945, 50034.344362336255, 52489.927906560595, 50010.01524000154, 47888.436796544105, 52614.29689649763, 49062.94357650263, 186.24013007001602, 1447.5278574280637, 1230.565678542176, 53093.286656859746, 50377.75359850262, 8529.312791962455, 0.0]\n"
     ]
    }
   ],
   "source": [
    "m=len(donnees_odo)\n",
    "A = np.eye(3*m)\n",
    "\n",
    "borne_max = 10000\n",
    "for k in range(m):\n",
    "    A[3*k+2][3*k+2]= 2*(np.linalg.norm(donnees_odo[k][2][0])+np.linalg.norm(donnees_odo[k][2][1]))*4*(borne_max + 3*(np.linalg.norm(donnees_odo[k][2][0])+np.linalg.norm(donnees_odo[k][2][1])))\n",
    "print([A[3*k+2][3*k+2] for k in range(m)])\n",
    "\n",
    "def norme(X):\n",
    "    return np.dot(X,np.dot(A,X))"
   ]
  },
  {
   "cell_type": "markdown",
   "metadata": {},
   "source": [
    "On essaie donc avec le nouveau produit scalaire sur les autres données.\n",
    "On commence par estimer la trajectoire à partir de l'odométrie comme précédemment"
   ]
  },
  {
   "cell_type": "code",
   "execution_count": null,
   "metadata": {},
   "outputs": [],
   "source": [
    "donnees_odo = []\n",
    "donnees_loop = []         \n",
    "recup_donnees(\"MIT.txt\")\n",
    "x, y, t = estim_trajectoire(donnees_odo)\n",
    "plt.figure()\n",
    "plt.plot(x, y, 'r--')\n",
    "plt.show()"
   ]
  },
  {
   "cell_type": "markdown",
   "metadata": {},
   "source": [
    "Puis comme la fonction norme a été modifiée précédemment, il suffit d'éxecuter le même code"
   ]
  },
  {
   "cell_type": "code",
   "execution_count": null,
   "metadata": {},
   "outputs": [],
   "source": [
    "P=[]\n",
    "for i in range(len(x)):\n",
    "    P.append(x[i])\n",
    "    P.append(y[i])\n",
    "    P.append(t[i])\n",
    "P=np.array(P)\n",
    "\n",
    "res = optim_gradient_wolfe_step(f_minim, grad_f_minim, P)"
   ]
  }
 ],
 "metadata": {
  "kernelspec": {
   "display_name": "Python 3",
   "language": "python",
   "name": "python3"
  },
  "language_info": {
   "codemirror_mode": {
    "name": "ipython",
    "version": 3
   },
   "file_extension": ".py",
   "mimetype": "text/x-python",
   "name": "python",
   "nbconvert_exporter": "python",
   "pygments_lexer": "ipython3",
   "version": "3.6.4"
  }
 },
 "nbformat": 4,
 "nbformat_minor": 2
}
