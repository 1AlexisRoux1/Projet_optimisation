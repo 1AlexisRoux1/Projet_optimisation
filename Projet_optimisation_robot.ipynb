{
 "cells": [
  {
   "cell_type": "markdown",
   "metadata": {},
   "source": [
    "# Projet optimisation de la trajectoire d'un robot"
   ]
  },
  {
   "cell_type": "markdown",
   "metadata": {},
   "source": [
    "# Partie 1"
   ]
  },
  {
   "cell_type": "markdown",
   "metadata": {},
   "source": [
    "### Question 1"
   ]
  },
  {
   "cell_type": "markdown",
   "metadata": {},
   "source": [
    "Les inconnues du problème sont les poses $Pi$ de la trajectoire. On pose $P_{i}=(x_{i},y_{i},\\theta_{i})$ avec $x_i,y_i,\\theta_i$ définis pour $i$ allant de $0$ à $n$ par rapport à un repère fixe ayant pour origine $P_0 = (0,0,0)$.\n",
    "\n",
    "On cherche à les déterminer grâce aux relations d'odométrie et de fermeture de boucles qui elles sont connues.\n"
   ]
  },
  {
   "cell_type": "markdown",
   "metadata": {},
   "source": [
    "### Question 2"
   ]
  },
  {
   "cell_type": "markdown",
   "metadata": {},
   "source": [
    "Chaque relation d'odométrie est donnée relativement à la pose précédente. \n",
    "On a donc les relations suivantes pour l'odométrie : \n",
    "\n",
    "$$\n",
    "\\left\\{\n",
    "    \\begin{array}{ll}\n",
    "        x_{i+1} = x_i + dx_i\\cos{\\theta_i}- dy_i\\sin{}\\theta_i = f_{x}(x_{i},dx_{i},dy_{i},\\theta_{i})\\\\\n",
    "        y_{i+1} = y_i + dx_i\\sin{\\theta_i}+ dy_i\\cos{}\\theta_i = f_{y}(y_{i},dx_{i},dy_{i},\\theta_{i})\\\\\n",
    "        \\theta_{i+1} = \\theta_i + d\\theta_i = f_{\\theta}(\\theta_{i},d\\theta_{i})\n",
    "    \\end{array}\n",
    "\\right.\n",
    "$$\n",
    "\n",
    "Et on adapte pour les relations de fermetures de boucle en remplaçant $i+1$ par $j$ avec $j$ l'indice de la fermeture de boucle. "
   ]
  },
  {
   "cell_type": "markdown",
   "metadata": {},
   "source": [
    "### Question 3"
   ]
  },
  {
   "cell_type": "markdown",
   "metadata": {},
   "source": [
    "On veut ici déterminer quelle fonction minimiser afin de vérifier au mieux les données d'odométrie et de fermetures de boucles. On va d'abord introduire plusieurs notations."
   ]
  },
  {
   "cell_type": "markdown",
   "metadata": {},
   "source": [
    "On va travailler ici avec des fonctions $f_{x}, f_{y} et f_{\\theta}$ définies respectivement par les relations données en question 2 s'appliquant sur les variables $x_{i}, y_{i}$ et $\\theta_{i}$. De plus, les éléments que nous appelerons $dx_{i},dy_{i}$ et $d\\theta_{i}$ ainsi que $dx'_{i},dy'_{i}$ et $d\\theta'_{i}$ dans la suite correspondent respectivement aux valeurs d'odométrie et de fermeture de boucles mesurées par le robot lors de son parcours, et sont donc connues et fixées."
   ]
  },
  {
   "cell_type": "markdown",
   "metadata": {},
   "source": [
    "Ce faisant, on note $P_{i}=(x_{i},y_{i},\\theta_{i})$ un triplet de $R^{3}$ et M le vecteur de dimension 3n définit par $M=(P_{i})_{1 \\leqslant i \\leqslant n}$. \n",
    "\n",
    "Si M est un minimum de notre fonction, on veut que chacun des $p_{i}$ vérifie au mieux les relations d'odométrie et de fermetures de boucles, c'est-à-dire:\n",
    "\n",
    "1) $\\forall i \\in {1,...,n}$,\n",
    "$x_{i+1}\\approx f_{x}(x_{i},dx_{i},dy_{i},\\theta_{i})$,\n",
    "$y_{i+1}\\approx f_{y}(y_{i},dx_{i},dy_{i},\\theta_{i})$,\n",
    "$\\theta_{i+1}\\approx f_{\\theta}(\\theta_{i},d\\theta_{i})$."
   ]
  },
  {
   "cell_type": "markdown",
   "metadata": {},
   "source": [
    "2) Si l'on note B l'ensemble des couples (j,i) correspondant à des fermetures de boucles détectées par le robot, on veut également vérifier: $x_{j}\\approx f_{x}(x_{i},dx'_{i},dy'_{i},\\theta_{i})$, \n",
    "$y_{j}\\approx f_{y}(y_{i},dx'_{i},dy'_{i},\\theta_{i})$ et\n",
    "$\\theta_{j}\\approx f_{\\theta}(\\theta_{i},d\\theta'_{i})$."
   ]
  },
  {
   "cell_type": "markdown",
   "metadata": {},
   "source": [
    "Plus concrètement, ces approximations se traduisent par le fait que les quantités $\\left|x_{i+1}- f_{x}(x_{i},dx_{i},dy_{i},\\theta_{i}) \\right|^{2}$ soient le plus petites possibles, de même en remplaçant les $x$ par les $y$ et les $\\theta$, et de même pour les relations de fermeture de boucle."
   ]
  },
  {
   "cell_type": "markdown",
   "metadata": {},
   "source": [
    "Comme on veut que cela soit vrai pour toutes ces relations, et que celles-ci sont interdépendantes, cela revient à minimiser la fonction de $R^{3n}$ suivante:"
   ]
  },
  {
   "cell_type": "markdown",
   "metadata": {},
   "source": [
    " $M \\in R^{3n} \\rightarrow \\sum_{i=1}^{n} \\left\\|P_{i+1} - F(P_{i},dx_{i},dy_{i},d\\theta_{i}) \\right\\|^{2} + \\sum_{(j,i) \\in B} \\left\\|P_{j} - F(P_{i},dx'_{i},dy'_{i},d\\theta'_{i}) \\right\\|^{2}$ "
   ]
  },
  {
   "cell_type": "markdown",
   "metadata": {},
   "source": [
    "où les $P_{i}$ ont été définis ci-dessus comme les triplets composants de M et où $F(P_{i},dx_{i},dy_{i},d\\theta_{i})=(f_{x}(x_{i},dx_{i},dy_{i},\\theta_{i}),f_{y}(y_{i},dx_{i},dy_{i},\\theta_{i}),f_{\\theta}(\\theta_{i},d\\theta_{i}))$. "
   ]
  },
  {
   "cell_type": "markdown",
   "metadata": {},
   "source": [
    "# Partie 2"
   ]
  },
  {
   "cell_type": "markdown",
   "metadata": {},
   "source": [
    "### Question 1"
   ]
  },
  {
   "cell_type": "code",
   "execution_count": 116,
   "metadata": {},
   "outputs": [
    {
     "data": {
      "text/plain": [
       "[[19.0, 166.0, [-2.459689, 0.241111, 0.2528]],\n",
       " [19.0, 172.0, [1.067903, 0.915786, 0.14947]],\n",
       " [25.0, 172.0, [-2.539634, 0.85263, -0.02986]],\n",
       " [25.0, 178.0, [1.225223, 0.672079, -0.10248]],\n",
       " [32.0, 178.0, [-2.020007, -0.239771, 0.71518]],\n",
       " [32.0, 183.0, [-0.092559, 0.424181, 0.0416]],\n",
       " [44.0, 189.0, [-2.265706, -0.570857, 0.19772]],\n",
       " [44.0, 195.0, [1.302289, -0.133004, -0.00528]],\n",
       " [50.0, 195.0, [-2.374379, -0.253682, 0.21612]],\n",
       " [50.0, 201.0, [1.291572, 0.086248, -0.0507]],\n",
       " [50.0, 203.0, [2.550695, 0.035722, -0.08465]],\n",
       " [61.0, 203.0, [-2.852494, 0.122053, 0.07787]],\n",
       " [61.0, 209.0, [0.73078, 0.07297, 0.00889]],\n",
       " [67.0, 209.0, [-2.822142, 0.138051, -0.00446]],\n",
       " [67.0, 220.0, [0.783704, -1.176736, -1.4129]],\n",
       " [81.0, 220.0, [-0.868391, -0.009825, -0.04688]],\n",
       " [81.0, 226.0, [2.836453, 0.058719, 0.04915]],\n",
       " [87.0, 226.0, [-0.45964, 0.184679, 0.34383]],\n",
       " [87.0, 231.0, [1.060624, 0.863823, 0.29401]],\n",
       " [94.0, 231.0, [-2.231597, 0.316386, 0.18025]],\n",
       " [94.0, 241.0, [2.816677, 0.483252, 0.0414]],\n",
       " [101.0, 241.0, [-1.436886, 0.314097, -0.09887]],\n",
       " [101.0, 247.0, [2.168416, 0.280309, -0.00387]],\n",
       " [107.0, 247.0, [-1.536762, 0.375104, 0.05105]],\n",
       " [107.0, 254.0, [0.592787, -1.020976, -0.778]],\n",
       " [107.0, 256.0, [0.707309, -1.207974, -1.16374]],\n",
       " [107.0, 258.0, [0.976528, -2.202656, -1.22773]],\n",
       " [114.0, 254.0, [-0.931502, -0.024068, 0.56758]],\n",
       " [114.0, 256.0, [-0.723652, 0.045801, 0.18184]],\n",
       " [114.0, 258.0, [0.306031, 0.086093, 0.11785]],\n",
       " [121.0, 266.0, [0.73719, -0.0172, -0.11824]],\n",
       " [126.0, 266.0, [-1.480397, 0.199141, 0.06286]],\n",
       " [126.0, 272.0, [2.350796, 0.151313, 0.02506]],\n",
       " [132.0, 272.0, [-1.37599, 0.193564, -0.06956]],\n",
       " [132.0, 278.0, [2.220707, 0.319882, -0.0005]],\n",
       " [138.0, 278.0, [-1.378019, 0.626427, 0.01699]],\n",
       " [138.0, 284.0, [2.391863, 0.324204, -0.075755]],\n",
       " [151.0, 284.0, [-2.650853, -0.975732, 1.45455]],\n",
       " [151.0, 291.0, [-1.4985, 0.364159, 0.02179]],\n",
       " [151.0, 297.0, [2.217429, -0.068852, -0.22346]],\n",
       " [19.0, 305.0, [-1.044094, 0.006772, 0.28908]],\n",
       " [19.0, 315.0, [1.796874, 2.231292, 1.91767]],\n",
       " [19.0, 337.0, [1.676359, 1.138847, 2.36996]],\n",
       " [19.0, 342.0, [2.451034, 1.014379, -0.10619]],\n",
       " [19.0, 1016.0, [0.039741, 0.37438, -2.852145]],\n",
       " [25.0, 315.0, [-1.587705, 2.017012, 1.73834]],\n",
       " [25.0, 337.0, [-1.901147, 0.963583, 2.19063]],\n",
       " [25.0, 342.0, [-1.161097, 0.702932, -0.28552]],\n",
       " [25.0, 367.0, [0.87843, -0.15997, 0.91002]],\n",
       " [25.0, 374.0, [2.84092, -0.557124, -0.60161]],\n",
       " [25.0, 1008.0, [0.839778, 0.868849, 2.614245]],\n",
       " [25.0, 1010.0, [0.208016, 0.81749, -3.07807]],\n",
       " [32.0, 367.0, [-1.65017, -1.061836, 1.72768]],\n",
       " [32.0, 374.0, [-0.018221, 0.098268, 0.21605]],\n",
       " [32.0, 382.0, [0.235335, 2.451229, 2.82151]],\n",
       " [32.0, 387.0, [0.993162, 2.566664, 0.274705]],\n",
       " [32.0, 1003.0, [0.362306, -0.196467, 3.066965]],\n",
       " [32.0, 1008.0, [-2.427177, -0.386394, -2.85128]],\n",
       " [32.0, 1010.0, [-2.82179, -0.88242, -2.26041]],\n",
       " [44.0, 437.0, [0.69665, -2.77105, -0.20546]],\n",
       " [44.0, 454.0, [-1.152851, -1.893499, 1.516715]],\n",
       " [44.0, 467.0, [1.218289, 1.232598, 1.11314]],\n",
       " [44.0, 494.0, [2.154809, -0.649767, -0.30653]],\n",
       " [44.0, 988.0, [2.712903, -0.996652, 3.0471]],\n",
       " [44.0, 994.0, [-0.892482, -0.642947, 3.093485]],\n",
       " [50.0, 467.0, [-2.75621, 1.060141, 1.33454]],\n",
       " [50.0, 494.0, [-1.42919, -0.570621, -0.08513]],\n",
       " [50.0, 500.0, [2.26834, -0.490379, 0.26364]],\n",
       " [50.0, 982.0, [2.823043, -0.459737, -3.096925]],\n",
       " [50.0, 988.0, [-0.808543, -0.786485, -3.014685]],\n",
       " [61.0, 508.0, [-1.4492, 2.112314, 1.47767]],\n",
       " [61.0, 522.0, [-1.053664, -0.045704, 0.099]],\n",
       " [61.0, 528.0, [2.466833, 0.101003, -0.08824]],\n",
       " [61.0, 976.0, [1.165811, -0.076649, -3.05444]],\n",
       " [61.0, 982.0, [-2.503567, -0.32281, -2.934405]],\n",
       " [67.0, 528.0, [-1.085869, 0.142906, -0.10159]],\n",
       " [67.0, 532.0, [1.03848, -0.18454, -0.18727]],\n",
       " [67.0, 556.0, [0.87596, 2.072499, -1.60875]],\n",
       " [67.0, 564.0, [0.93453, -0.521388, -1.42509]],\n",
       " [67.0, 567.0, [1.07864, -1.127738, 0.06864]],\n",
       " [67.0, 570.0, [2.695842, -0.809094, 0.12996]],\n",
       " [67.0, 965.0, [0.918287, -0.079133, 1.69211]],\n",
       " [67.0, 976.0, [-2.389147, -0.017363, -3.06779]],\n",
       " [81.0, 528.0, [-2.540636, -1.571989, 1.26443]],\n",
       " [81.0, 532.0, [-1.788049, 0.44139, 1.17875]],\n",
       " [81.0, 564.0, [-1.479377, 0.271115, -0.05907]],\n",
       " [81.0, 567.0, [-0.856391, 0.288913, 1.43466]],\n",
       " [81.0, 570.0, [-0.839522, 1.937122, 1.49598]],\n",
       " [81.0, 575.0, [-0.874481, 2.499055, -2.998155]],\n",
       " [81.0, 588.0, [2.58541, -0.39859, 0.03299]],\n",
       " [81.0, 959.0, [1.715988, -0.147087, 2.880085]],\n",
       " [81.0, 965.0, [-1.915695, 0.345142, 3.05813]],\n",
       " [87.0, 588.0, [-0.567044, -0.325829, 0.32767]],\n",
       " [87.0, 597.0, [1.033167, 2.497995, 1.74759]],\n",
       " [87.0, 604.0, [1.169979, 2.733059, -1.27963]],\n",
       " [87.0, 953.0, [1.577352, 0.448961, -2.82305]],\n",
       " [87.0, 959.0, [-1.472035, -0.337676, -3.10842]],\n",
       " [94.0, 597.0, [-2.073375, 1.943112, 1.63383]],\n",
       " [94.0, 604.0, [-1.910764, 2.161126, -1.39339]],\n",
       " [94.0, 616.0, [-0.567925, 0.985809, 1.72827]],\n",
       " [94.0, 632.0, [-0.25823, -0.057031, -0.96101]],\n",
       " [94.0, 637.0, [2.180403, 0.487495, 0.04818]],\n",
       " [94.0, 947.0, [1.819562, 0.355845, -2.812985]],\n",
       " [94.0, 953.0, [-1.765303, -0.154451, -2.93681]],\n",
       " [101.0, 637.0, [-2.066317, 0.407256, -0.09209]],\n",
       " [101.0, 642.0, [0.70254, 0.05899, -0.15806]],\n",
       " [101.0, 645.0, [1.268565, 0.117224, 1.302975]],\n",
       " [101.0, 657.0, [0.970735, 1.275733, -1.200065]],\n",
       " [101.0, 663.0, [2.721944, 0.234701, 0.154665]],\n",
       " [101.0, 665.0, [2.743644, 0.343689, 1.4844]],\n",
       " [101.0, 939.0, [1.736598, 0.040097, -3.13977]],\n",
       " [101.0, 944.0, [-1.229619, 0.290529, 3.03468]],\n",
       " [101.0, 947.0, [-2.44202, 0.327348, -2.953255]],\n",
       " [101.0, 1138.0, [-0.04498, -2.12809, 1.40634]],\n",
       " [101.0, 1188.0, [1.043367, -1.716987, 3.078145]],\n",
       " [107.0, 642.0, [-2.988279, 0.073654, -0.10314]],\n",
       " [107.0, 645.0, [-2.426303, 0.162871, 1.357895]],\n",
       " [107.0, 663.0, [-0.981564, 0.35995, 0.209585]],\n",
       " [107.0, 665.0, [-0.96588, 0.469964, 1.53932]],\n",
       " [107.0, 680.0, [-1.101202, 1.597727, -1.08272]],\n",
       " [107.0, 683.0, [-0.373238, 0.237253, -0.97867]],\n",
       " [107.0, 704.0, [-0.174419, -0.744617, -2.36496]],\n",
       " [107.0, 714.0, [-0.001585, -1.518738, 0.04075]],\n",
       " [107.0, 730.0, [1.719547, -1.998733, -2.849795]],\n",
       " [107.0, 929.0, [0.4823, -2.592003, 1.96035]],\n",
       " [107.0, 935.0, [-0.294578, 0.372182, 2.191385]],\n",
       " [107.0, 939.0, [-1.954743, 0.111552, -3.08485]],\n",
       " [107.0, 1147.0, [-0.324254, -1.481983, 0.14015]],\n",
       " [107.0, 1150.0, [0.364219, -1.279939, 1.435915]],\n",
       " [114.0, 663.0, [-2.629135, -1.250276, 1.555165]],\n",
       " [114.0, 665.0, [-2.732868, -1.21042, 2.8849]],\n",
       " [114.0, 683.0, [-2.373686, -0.684712, 0.36691]],\n",
       " [114.0, 704.0, [-1.372213, -0.710183, -1.01938]],\n",
       " [114.0, 714.0, [-0.579045, -0.714588, 1.38633]],\n",
       " [114.0, 730.0, [0.273187, 0.855886, -1.504215]],\n",
       " [114.0, 929.0, [0.575175, -0.482602, -2.977255]],\n",
       " [114.0, 935.0, [-2.487642, -0.577907, -2.74622]],\n",
       " [114.0, 1147.0, [-0.686929, -1.020901, 1.48573]],\n",
       " [114.0, 1150.0, [-0.730123, -0.304695, 2.781495]],\n",
       " [114.0, 1158.0, [1.96507, -0.055808, 0.08396]],\n",
       " [114.0, 1175.0, [2.570804, -0.255481, 2.91302]],\n",
       " [121.0, 754.0, [-0.176774, -0.090674, -0.10416]],\n",
       " [121.0, 759.0, [2.795658, -0.372882, -0.04799]],\n",
       " [121.0, 923.0, [-0.35994, -0.158411, 2.81678]],\n",
       " [121.0, 1158.0, [-1.765259, 0.015433, 0.09439]],\n",
       " [121.0, 1164.0, [1.939145, -0.416391, -0.07191]],\n",
       " [121.0, 1175.0, [-1.157476, -0.177912, 2.92345]],\n",
       " [126.0, 754.0, [-2.366181, -0.037747, 0.07694]],\n",
       " [126.0, 759.0, [0.60847, 0.22003, 0.13311]],\n",
       " [126.0, 762.0, [1.256487, 0.430359, 1.24809]],\n",
       " [126.0, 923.0, [-2.534151, -0.137367, 2.99788]],\n",
       " [126.0, 1164.0, [-0.2262, 0.022965, 0.10919]],\n",
       " [132.0, 762.0, [-2.43904, 0.574751, 1.15347]],\n",
       " [132.0, 778.0, [-1.013501, 1.621706, 1.56121]],\n",
       " [132.0, 792.0, [-0.882133, 1.768911, -1.79792]],\n",
       " [132.0, 800.0, [1.214689, 0.372313, 0.0059]],\n",
       " [132.0, 907.0, [2.246094, -0.166035, -3.06389]],\n",
       " [132.0, 911.0, [0.28743, -0.091199, 2.898905]],\n",
       " [132.0, 1084.0, [-0.744736, -2.350749, -1.849821]],\n",
       " [138.0, 800.0, [-2.384799, 0.661256, 0.02339]],\n",
       " [138.0, 806.0, [1.314158, 0.976356, 0.186155]],\n",
       " [138.0, 821.0, [1.339602, 0.836157, -1.72864]],\n",
       " [138.0, 823.0, [1.391787, 0.830084, -0.20168]],\n",
       " [138.0, 903.0, [0.257877, 0.385262, 2.46846]],\n",
       " [138.0, 904.0, [0.21146, 0.361905, 2.91854]],\n",
       " [138.0, 907.0, [-1.344137, 0.141028, -3.0464]],\n",
       " [151.0, 828.0, [-2.783661, 1.064375, 1.52977]],\n",
       " [151.0, 847.0, [-2.892269, 0.357584, -1.72055]],\n",
       " [151.0, 855.0, [0.421564, -0.036975, -0.07298]],\n",
       " [151.0, 895.0, [-0.308314, 0.072387, -2.94072]],\n",
       " [151.0, 897.0, [-0.653297, -0.34078, -2.14582]],\n",
       " [151.0, 1029.0, [2.658346, -1.322835, -1.61216]],\n",
       " [157.0, 297.0, [-1.431635, -0.047784, -0.1921]],\n",
       " [157.0, 305.0, [2.323872, -0.569035, 0.02611]],\n",
       " [157.0, 1029.0, [-0.951615, -1.287326, -1.5808]],\n",
       " [157.0, 1217.0, [-0.999593, -2.295582, 1.58812]],\n",
       " [163.0, 297.0, [-0.152489, -1.643361, 1.29416]],\n",
       " [163.0, 305.0, [0.683999, 2.054722, 1.51237]],\n",
       " [163.0, 1029.0, [1.123157, -1.269718, -0.09454]],\n",
       " [163.0, 1217.0, [2.123761, -1.402656, 3.07438]],\n",
       " [166.0, 297.0, [-2.448623, -0.097923, -0.18193]],\n",
       " [166.0, 305.0, [1.31199, -0.580954, 0.03628]],\n",
       " [166.0, 1016.0, [2.45332, -0.496114, -3.104945]],\n",
       " [166.0, 1029.0, [-1.956023, -1.33252, -1.57063]],\n",
       " [172.0, 305.0, [-2.223813, -0.584373, 0.13961]],\n",
       " [172.0, 315.0, [0.916741, 1.192284, 1.7682]],\n",
       " [172.0, 328.0, [0.389353, 2.701274, -1.41888]],\n",
       " [172.0, 337.0, [0.634889, 0.129966, 2.22049]],\n",
       " [172.0, 342.0, [1.382392, -0.108475, -0.25566]],\n",
       " [172.0, 1010.0, [2.747473, 0.046909, -3.04821]],\n",
       " [172.0, 1016.0, [-1.097321, -0.382262, -3.001615]],\n",
       " [178.0, 342.0, [-2.376956, -0.213431, -0.18304]],\n",
       " [178.0, 367.0, [-0.259854, -0.86316, 1.0125]],\n",
       " [178.0, 374.0, [1.732968, -1.057467, -0.49913]],\n",
       " [178.0, 1003.0, [1.826983, -1.529516, 2.351785]],\n",
       " [178.0, 1008.0, [-0.403552, 0.156306, 2.716725]],\n",
       " [178.0, 1010.0, [-1.026746, 0.040588, -2.97559]],\n",
       " [183.0, 367.0, [-1.618063, -1.419954, 1.68608]],\n",
       " [183.0, 374.0, [0.06072, -0.328723, 0.17445]],\n",
       " [183.0, 382.0, [0.411911, 2.011657, 2.77991]],\n",
       " [183.0, 387.0, [1.173883, 2.095476, 0.233105]],\n",
       " [183.0, 1003.0, [0.42866, -0.639029, 3.025365]],\n",
       " [183.0, 1008.0, [-2.366308, -0.712782, -2.89288]],\n",
       " [189.0, 400.0, [-1.948699, 2.200613, -1.11637]],\n",
       " [189.0, 414.0, [-0.254807, -1.783532, -1.50836]],\n",
       " [189.0, 454.0, [0.83136, -1.515476, 1.318995]],\n",
       " [189.0, 994.0, [1.332308, -0.340434, 2.895765]],\n",
       " [195.0, 437.0, [-0.591701, -2.641206, -0.20018]],\n",
       " [195.0, 467.0, [-0.09121, 1.36514, 1.11842]],\n",
       " [195.0, 484.0, [0.655807, 2.573505, -2.00924]],\n",
       " [195.0, 494.0, [0.855236, -0.512254, -0.30125]],\n",
       " [195.0, 988.0, [1.415155, -0.856188, 3.05238]],\n",
       " [195.0, 994.0, [-2.192048, -0.521524, 3.098765]],\n",
       " [201.0, 494.0, [-2.683977, -0.793909, -0.03443]],\n",
       " [201.0, 500.0, [1.004735, -0.526385, 0.31434]],\n",
       " [201.0, 982.0, [1.557172, -0.467671, -3.046225]],\n",
       " [201.0, 988.0, [-2.053188, -0.978041, -2.963985]],\n",
       " [203.0, 500.0, [-0.236863, -0.54809, 0.34829]],\n",
       " [203.0, 508.0, [1.553867, 1.875066, 1.3998]],\n",
       " [203.0, 522.0, [1.780329, -0.307182, 0.02113]],\n",
       " [203.0, 982.0, [0.313263, -0.470658, -3.012275]],\n",
       " [209.0, 508.0, [-2.161765, 2.058644, 1.46878]],\n",
       " [209.0, 522.0, [-1.785428, -0.102806, 0.09011]],\n",
       " [209.0, 528.0, [1.736233, 0.012599, -0.09713]],\n",
       " [209.0, 976.0, [0.433683, -0.153481, -3.06333]],\n",
       " [220.0, 528.0, [-1.597199, -1.638814, 1.31131]],\n",
       " [220.0, 532.0, [-0.939792, 0.407621, 1.22563]],\n",
       " [220.0, 564.0, [-0.62348, 0.251998, -0.01219]],\n",
       " [220.0, 567.0, [-0.002013, 0.298972, 1.48154]],\n",
       " [220.0, 570.0, [-0.062402, 1.94616, 1.54286]],\n",
       " [220.0, 575.0, [-0.123656, 2.505837, -2.951275]],\n",
       " [220.0, 959.0, [2.587973, -0.016, 2.926965]],\n",
       " [220.0, 965.0, [-1.062787, 0.305497, 3.10501]],\n",
       " [226.0, 231.0, [1.660221, 0.12692, -0.04982]],\n",
       " [226.0, 588.0, [-0.273207, -0.444423, -0.01616]],\n",
       " [226.0, 597.0, [2.185242, 1.6747, 1.40376]],\n",
       " [226.0, 953.0, [2.006857, -0.437847, 3.116305]],\n",
       " [226.0, 959.0, [-1.129223, -0.150509, 2.830935]],\n",
       " [923.0, 1175.0, [0.74961, 0.273, 0.10667]],\n",
       " [929.0, 1175.0, [-2.005899, 0.102421, -0.39291]],\n",
       " [939.0, 1188.0, [0.696432, 1.755817, -0.06527]],\n",
       " [1029.0, 1217.0, [1.008685, -0.037889, -3.114265]],\n",
       " [1044.0, 1217.0, [2.098504, -0.83843, 0.47989]],\n",
       " [1050.0, 1210.0, [-0.300235, -2.565672, 1.53656]],\n",
       " [1050.0, 1217.0, [0.231465, 1.66829, 1.55914]],\n",
       " [1056.0, 1217.0, [2.128743, -0.472375, -0.93116]],\n",
       " [1061.0, 1210.0, [1.269232, -1.441319, -2.90961]],\n",
       " [1075.0, 1210.0, [-1.662329, 0.436026, -1.59984]],\n",
       " [1084.0, 1210.0, [2.070374, 1.896269, 1.836205]],\n",
       " [1088.0, 1210.0, [0.609503, -1.485166, 0.53677]],\n",
       " [1093.0, 1210.0, [-0.233452, -0.529583, 1.49436]],\n",
       " [1098.0, 1210.0, [-0.37828, -0.172442, -2.937025]],\n",
       " [1138.0, 1188.0, [0.583736, -1.006358, 1.671805]],\n",
       " [1147.0, 1188.0, [-2.232188, 0.113982, 2.992915]],\n",
       " [1150.0, 1188.0, [-0.789302, 2.834301, 1.69715]],\n",
       " [1158.0, 1175.0, [0.586855, -0.249767, 2.82906]]]"
      ]
     },
     "execution_count": 116,
     "metadata": {},
     "output_type": "execute_result"
    }
   ],
   "source": [
    "donnees_odo = []\n",
    "donnees_loop = []\n",
    "\n",
    "def recup_donnees(fichier):\n",
    "    with open(fichier, 'r') as intel:\n",
    "        for ligne in intel:\n",
    "            l = ligne.split()\n",
    "            for i in range(1,len(l)):\n",
    "                l[i]=float(l[i])\n",
    "            if l[0]==\"EDGE_ODO\":\n",
    "                donnees_odo.append(l[1:3]+[l[3:]])\n",
    "            else:\n",
    "                donnees_loop.append(l[1:3]+[l[3:]])\n",
    "                \n",
    "recup_donnees(\"INTEL.txt\")\n",
    "donnees_loop\n"
   ]
  },
  {
   "cell_type": "markdown",
   "metadata": {},
   "source": [
    "### Question 2"
   ]
  },
  {
   "cell_type": "code",
   "execution_count": 117,
   "metadata": {
    "scrolled": true
   },
   "outputs": [
    {
     "data": {
      "image/png": "[encoded data removed]",
      "text/plain": [
       "<matplotlib.figure.Figure at 0x22c46a44a90>"
      ]
     },
     "metadata": {},
     "output_type": "display_data"
    }
   ],
   "source": [
    "import numpy as np\n",
    "import matplotlib.pyplot as plt\n",
    "from math import cos, sin, pi\n",
    "\n",
    "def estim_trajectoire(odometrie):\n",
    "    liste_x = [0]\n",
    "    liste_y = [0]\n",
    "    liste_theta = [0]\n",
    "    for i in range(len(odometrie)):\n",
    "        p_i = np.array([liste_x[-1], liste_y[-1], liste_theta[-1]])\n",
    "        di = np.array(odometrie[i][2])\n",
    "        rot = np.array([[cos(p_i[2]), -sin(p_i[2]), 0], [sin(p_i[2]),cos(p_i[2]), 0], [0, 0, 1]])\n",
    "        p_i = p_i + np.dot(rot, di)\n",
    "        liste_x.append(p_i[0])\n",
    "        liste_y.append(p_i[1])\n",
    "        liste_theta.append(p_i[2]%(2*pi))\n",
    "    return liste_x, liste_y, liste_theta\n",
    "\n",
    "x, y, t = estim_trajectoire(donnees_odo)\n",
    "plt.figure()\n",
    "plt.plot(x, y, 'r--')\n",
    "plt.show()\n",
    "        \n"
   ]
  },
  {
   "cell_type": "markdown",
   "metadata": {},
   "source": [
    "### Question 3"
   ]
  },
  {
   "cell_type": "markdown",
   "metadata": {},
   "source": [
    "La fonction n'est pas convexe à cause des termes en cos$\\theta_{i}$ et sin$\\theta_{i}$. Par exemple, en reprenant l'estimation précédente et en faisant varier theta pour une pose, on observe un comportement de la fonction oscillatoire selon cette variable, donc non convexe:"
   ]
  },
  {
   "cell_type": "code",
   "execution_count": 140,
   "metadata": {
    "scrolled": true
   },
   "outputs": [
    {
     "name": "stdout",
     "output_type": "stream",
     "text": [
      "[ 2.91429729 -0.49425272  5.96360961]\n"
     ]
    },
    {
     "data": {
      "image/png": "[encoded data removed]",
      "text/plain": [
       "<matplotlib.figure.Figure at 0x22c3c5bbf98>"
      ]
     },
     "metadata": {},
     "output_type": "display_data"
    },
    {
     "data": {
      "image/png": "[encoded data removed]",
      "text/plain": [
       "<matplotlib.figure.Figure at 0x22c4574ef28>"
      ]
     },
     "metadata": {},
     "output_type": "display_data"
    }
   ],
   "source": [
    "def F(p_i,di):\n",
    "    rot = np.array([[cos(p_i[2]), -sin(p_i[2]), 0], [sin(p_i[2]),cos(p_i[2]), 0], [0, 0, 1]])\n",
    "    p_i = p_i + np.dot(rot, di)\n",
    "    return p_i\n",
    "    \n",
    "def f_minim_pose(P,i):\n",
    "    #Partie odométrie\n",
    "    p_i=np.array(P[i])\n",
    "    pi_1=np.array(P[i+1])\n",
    "    relations_odo=[]\n",
    "    if i<len(donnees_odo):\n",
    "        relations_odo = donnees_odo[i]\n",
    "    diff_o=pi_1-F(p_i,np.array(relations_odo[2]))\n",
    "    a=(np.linalg.norm(diff_o))**2\n",
    "\n",
    "    #Partie loop\n",
    "    relations_loop = [item for item in donnees_loop if item[0]==i] #Pas les relations où i est le deuxième indice pour ne pas compter les relations 2 fois\n",
    "    indexes_loop = [int(item[1]) for item in relations_loop]\n",
    "    Pj=[np.array(P[j]) for j in indexes_loop]\n",
    "    for k in range(len(relations_loop)):\n",
    "        diff=Pj[k]-F(p_i,np.array(relations_loop[k][2]))\n",
    "        a+=(np.linalg.norm(diff))**2\n",
    "    return a\n",
    "\n",
    "def mod_diff(diff):\n",
    "    if diff<=0:\n",
    "        diff=-(-diff)%(2*pi)\n",
    "    return diff\n",
    "\n",
    "def f_minim_pose_v2(P,i): \n",
    "    \"\"\"Cette version de la fonction prend en compte uniquement la différence modulo 2pi entre les angles au lieu d'une différence \n",
    "    absolue comme c'est le cas dans la fonction que nous avons définie en partie 1. Elle met simplement mieux en évidence le \n",
    "    comportement oscillatoire de la fonction et traduit la periodicité physique de la solution au problème (une pose dont le theta \n",
    "    vaut 0 ou 2pi rend compte de la même réalité physique, mais dans la fonction à minimiser, seul l'un des deux angles minimise la\n",
    "    différence entre thetai et f(theta(i-1))\"\"\"\n",
    "    #Partie odométrie\n",
    "    p_i=np.array(P[i])\n",
    "    pi_1=np.array(P[i+1])\n",
    "    relations_odo=[]\n",
    "    if i<len(donnees_odo):\n",
    "        relations_odo = donnees_odo[i]\n",
    "    diff_o=pi_1-F(p_i,np.array(relations_odo[2]))\n",
    "    diff_o[2]=mod_diff(diff_o[2])\n",
    "    diff_o[2]= min(diff_o[2],2*pi-diff_o[2])\n",
    "    a=(np.linalg.norm(diff_o))**2\n",
    "\n",
    "    #Partie loop\n",
    "    relations_loop = [item for item in donnees_loop if item[0]==i] #Pas les relations où i est le deuxième indice pour ne pas compter les relations 2 fois\n",
    "    indexes_loop = [int(item[1]) for item in relations_loop]\n",
    "    Pj=[np.array(P[j]) for j in indexes_loop]\n",
    "    for k in range(len(relations_loop)):\n",
    "        diff=Pj[k]-F(p_i,np.array(relations_loop[k][2]))\n",
    "        diff[2]=mod_diff(diff[2])\n",
    "        diff[2]= min(diff[2],2*pi-diff[2])\n",
    "        a+=(np.linalg.norm(diff))**2\n",
    "    return a\n",
    "\n",
    "def f_minim(P):\n",
    "    return sum([f_minim_pose(P,i) for i in range(len(donnees_odo))])\n",
    "\n",
    "def f_minim_v2(P):\n",
    "    return sum([f_minim_pose_v2(P,i) for i in range(len(donnees_odo))])\n",
    "\n",
    "P=np.array([[x[i],y[i],t[i]] for i in range(len(x))])\n",
    "\n",
    "k=19\n",
    "\n",
    "print(P[k])\n",
    "\n",
    "liste_theta=np.linspace(0,4*pi,200)\n",
    "liste_f=[]\n",
    "liste_f2=[]\n",
    "for i in range(200):\n",
    "    P[k][2]=liste_theta[i]\n",
    "    liste_f.append(f_minim(P))\n",
    "    liste_f2.append(f_minim_v2(P))\n",
    "    \n",
    "plt.figure()\n",
    "plt.plot(liste_theta, liste_f, 'b--')\n",
    "plt.title(\"Fonction à minimiser\")\n",
    "\n",
    "plt.figure(2)\n",
    "plt.plot(liste_theta, liste_f2, 'r--')\n",
    "plt.title(\"Fonction à minimiser avec les différences d'angles modulées\")\n",
    "\n",
    "plt.show()"
   ]
  },
  {
   "cell_type": "markdown",
   "metadata": {},
   "source": [
    "### Question 4"
   ]
  },
  {
   "cell_type": "markdown",
   "metadata": {},
   "source": [
    "Même si la fonction n'est pas convexe, les oscillations très légères comparées au caractère quadratique de la fonction nous permettent de penser qu'une méthode de descente de gradient à pas variable avec conditions de Wolfe ne nous mènera pas à un minimum local. On part de l'estimation avec les relations d'odométrie seulement."
   ]
  },
  {
   "cell_type": "code",
   "execution_count": null,
   "metadata": {},
   "outputs": [],
   "source": [
    "def grad_f_minim(P):\n",
    "    return P\n",
    "\n",
    "# Conditions de Wolfe\n",
    "def wolfe_step(fun, grad_fun, xk, pk, c1 = 0.25, c2 = 0.75, M = 1000):\n",
    "    l_moins = 0\n",
    "    l_plus = 0\n",
    "    f_xk = fun(xk)\n",
    "    grad_f_xk = grad_fun(xk)\n",
    "    li = 1 #- 2*0.1*abs(f_x) / np.dot(grad_f_x,d)\n",
    "    i = 0\n",
    "    while(i < M):\n",
    "        if (fun(xk+li*pk)>(f_xk+c1*li*np.dot(grad_f_xk,pk))):\n",
    "            l_plus = li\n",
    "            li = (l_moins+l_plus)/2.0\n",
    "        else:\n",
    "            if (np.dot(grad_fun(xk+li*pk),pk) < c2*np.dot(grad_f_xk,pk)):\n",
    "                l_moins = li\n",
    "                if (l_plus == 0):\n",
    "                    li = 2*li\n",
    "                else:\n",
    "                    li = (l_moins+l_plus)/2.0\n",
    "            else:\n",
    "                return li\n",
    "        i = i + 1\n",
    "    return li\n",
    "\n",
    "def optim_gradient_wolfe_step(fun, grad_fun, x0, max_iter = 100000, epsilon_grad_fun = 1e-8):\n",
    "    k = 0\n",
    "    xk = x0\n",
    "    grad_f_xk = grad_fun(xk)\n",
    "    while ((k<max_iter) and (np.linalg.norm(grad_f_xk)>epsilon_grad_fun)):\n",
    "        pk = -grad_f_xk\n",
    "        lk = wolfe_step(fun, grad_fun, xk, pk)\n",
    "        xk = xk + lk*pk\n",
    "        grad_f_xk = grad_fun(xk)\n",
    "        k = k + 1\n",
    "    print(\"Nombre d'iterations : \", k)\n",
    "    return xk\n"
   ]
  }
 ],
 "metadata": {
  "kernelspec": {
   "display_name": "Python 3",
   "language": "python",
   "name": "python3"
  },
  "language_info": {
   "codemirror_mode": {
    "name": "ipython",
    "version": 3
   },
   "file_extension": ".py",
   "mimetype": "text/x-python",
   "name": "python",
   "nbconvert_exporter": "python",
   "pygments_lexer": "ipython3",
   "version": "3.6.4"
  }
 },
 "nbformat": 4,
 "nbformat_minor": 2
}
