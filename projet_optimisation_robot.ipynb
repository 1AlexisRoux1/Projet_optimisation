{
 "cells": [
  {
   "cell_type": "markdown",
   "metadata": {},
   "source": [
    "# Projet optimisation de la trajectoire d'un robot"
   ]
  },
  {
   "cell_type": "code",
   "execution_count": 1,
   "metadata": {},
   "outputs": [],
   "source": [
    "import numpy as np\n",
    "import matplotlib.pyplot as plt"
   ]
  },
  {
   "cell_type": "markdown",
   "metadata": {},
   "source": [
    "### Question 1"
   ]
  },
  {
   "cell_type": "markdown",
   "metadata": {},
   "source": [
    "Les inconnues du problème sont les poses $pi$ de la trajectoire.\n",
    "On cherche à les déterminer grâce aux relations d'odométrie et de fermeture de boucles qui elles sont connues.\n"
   ]
  },
  {
   "cell_type": "markdown",
   "metadata": {},
   "source": [
    "### Question 2"
   ]
  },
  {
   "cell_type": "code",
   "execution_count": null,
   "metadata": {},
   "outputs": [],
   "source": []
  },
  {
   "cell_type": "markdown",
   "metadata": {},
   "source": [
    "### Question 3"
   ]
  },
  {
   "cell_type": "markdown",
   "metadata": {},
   "source": [
    "On veut ici déterminer quelle fonction minimiser afin de vérifier au mieux les données d'odométrie et de fermetures de boucles. On va d'abord introduire plusieurs notations."
   ]
  },
  {
   "cell_type": "markdown",
   "metadata": {},
   "source": [
    "On va travailler ici avec des fonctions $f_{x}, f_{y} et f_{\\theta}$ définies respectivement par les relations données en question 2 s'appliquant sur les variables $x_{i}, y_{i}$ et $\\theta_{i}$. De plus, les éléments que nous appelerons $dx_{i},dy_{i}$ et $d\\theta_{i}$ ainsi que $dx'_{i},dy'_{i}$ et $d\\theta'_{i}$ dans la suite correspondent respectivement aux valeurs d'odométrie et de fermeture de boucles mesurées par le robot lors de son parcours, et sont donc connues et fixées."
   ]
  },
  {
   "cell_type": "markdown",
   "metadata": {},
   "source": [
    "Ce faisant, on note $P_{i}=(x_{i},y_{i},\\theta_{i})$ un triplet de $R^{3}$ et M le vecteur de dimension 3n définit par $M=(P_{i})_{1 \\leqslant i \\leqslant n}$. \n",
    "\n",
    "Si M est un minimum de notre fonction, on veut que chacun des $p_{i}$ vérifie au mieux les relations d'odométrie et de fermetures de boucles, c'est-à-dire:\n",
    "\n",
    "1) $\\forall i \\in {1,...,n}$,\n",
    "$x_{i+1}\\approx f_{x}(x_{i},dx_{i},dy_{i},\\theta_{i})$,\n",
    "$y_{i+1}\\approx f_{y}(y_{i},dx_{i},dy_{i},\\theta_{i})$,\n",
    "$\\theta_{i+1}\\approx f_{\\theta}(\\theta_{i},d\\theta_{i})$."
   ]
  },
  {
   "cell_type": "markdown",
   "metadata": {},
   "source": [
    "2) Si l'on note F l'ensemble des couples (j,i) correspondant à des fermetures de boucles détectées par le robot, on veut également vérifier: $x_{j}\\approx f_{x}(x_{i},dx'_{i},dy'_{i},\\theta_{i})$, \n",
    "$y_{j}\\approx f_{y}(y_{i},dx'_{i},dy'_{i},\\theta_{i})$ et\n",
    "$\\theta_{j}\\approx f_{\\theta}(\\theta_{i},d\\theta'_{i})$."
   ]
  },
  {
   "cell_type": "markdown",
   "metadata": {},
   "source": [
    "Plus concrètement, ces approximations se traduisent par le fait que les quantités $\\left|x_{i+1}- f_{x}(x_{i},dx_{i},dy_{i},\\theta_{i}) \\right|^{2}$ soient le plus petites possibles, de même en remplaçant les x par les y et les $\\theta$, et de même pour les relations de fermeture de boucle."
   ]
  },
  {
   "cell_type": "markdown",
   "metadata": {},
   "source": [
    "Comme on veut que cela soit vrai pour toutes ces relations, et que celles-ci sont interdépendantes, cela revient à minimiser la fonction de $R^{3n}$ suivante:"
   ]
  },
  {
   "cell_type": "markdown",
   "metadata": {},
   "source": [
    " $M \\in R^{3n} \\rightarrow \\sum_{i=1}^{n} \\left\\|P_{i+1} - F(P_{i},dx_{i},dy_{i},d\\theta_{i}) \\right\\|^{2} + \\sum_{(j,i) \\in F} \\left\\|P_{j} - F(P_{i},dx'_{i},dy'_{i},d\\theta'_{i}) \\right\\|^{2}$ "
   ]
  },
  {
   "cell_type": "markdown",
   "metadata": {},
   "source": [
    "où les $P_{i}$ ont été définis ci-dessus comme les triplets composants de M et où $F(P_{i},dx_{i},dy_{i},d\\theta_{i})=(f_{x}(x_{i},dx_{i},dy_{i},\\theta_{i}),f_{y}(y_{i},dx_{i},dy_{i},\\theta_{i}),f_{\\theta}(\\theta_{i},d\\theta_{i}))$. "
   ]
  },
  {
   "cell_type": "code",
   "execution_count": null,
   "metadata": {},
   "outputs": [],
   "source": []
  }
 ],
 "metadata": {
  "kernelspec": {
   "display_name": "Python 3",
   "language": "python",
   "name": "python3"
  },
  "language_info": {
   "codemirror_mode": {
    "name": "ipython",
    "version": 3
   },
   "file_extension": ".py",
   "mimetype": "text/x-python",
   "name": "python",
   "nbconvert_exporter": "python",
   "pygments_lexer": "ipython3",
   "version": "3.6.4"
  }
 },
 "nbformat": 4,
 "nbformat_minor": 2
}
